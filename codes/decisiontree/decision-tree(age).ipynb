{
 "cells": [
  {
   "cell_type": "code",
   "execution_count": 72,
   "metadata": {
    "collapsed": true
   },
   "outputs": [],
   "source": [
    "import pandas as pd"
   ]
  },
  {
   "cell_type": "code",
   "execution_count": 73,
   "metadata": {
    "collapsed": true
   },
   "outputs": [],
   "source": [
    "import numpy as np"
   ]
  },
  {
   "cell_type": "code",
   "execution_count": 74,
   "metadata": {
    "collapsed": true
   },
   "outputs": [],
   "source": [
    "from sklearn import tree"
   ]
  },
  {
   "cell_type": "code",
   "execution_count": 75,
   "metadata": {
    "collapsed": true
   },
   "outputs": [],
   "source": [
    "from sklearn.tree import DecisionTreeClassifier,export_graphviz"
   ]
  },
  {
   "cell_type": "code",
   "execution_count": 76,
   "metadata": {
    "collapsed": true
   },
   "outputs": [],
   "source": [
    "from sklearn.model_selection import train_test_split"
   ]
  },
  {
   "cell_type": "code",
   "execution_count": 77,
   "metadata": {
    "collapsed": true
   },
   "outputs": [],
   "source": [
    "from matplotlib import pyplot as plt"
   ]
  },
  {
   "cell_type": "code",
   "execution_count": 78,
   "metadata": {
    "collapsed": true
   },
   "outputs": [],
   "source": [
    "import seaborn as sns"
   ]
  },
  {
   "cell_type": "code",
   "execution_count": 79,
   "metadata": {
    "collapsed": true
   },
   "outputs": [],
   "source": [
    "import graphviz # anaconda prompt- pip install graphviz"
   ]
  },
  {
   "cell_type": "markdown",
   "metadata": {},
   "source": [
    "import pydotplus"
   ]
  },
  {
   "cell_type": "code",
   "execution_count": 80,
   "metadata": {
    "collapsed": true
   },
   "outputs": [],
   "source": [
    "import pydotplus # anaconda prompt- pip install pydotplus"
   ]
  },
  {
   "cell_type": "code",
   "execution_count": 81,
   "metadata": {
    "collapsed": true
   },
   "outputs": [],
   "source": [
    "import io \n",
    "from scipy import misc\n",
    "%matplotlib inline"
   ]
  },
  {
   "cell_type": "code",
   "execution_count": 82,
   "metadata": {
    "collapsed": true
   },
   "outputs": [],
   "source": [
    "file = '../../input/data_manipulated.csv'\n",
    "data = pd.read_csv(file,'rb', delimiter =';')"
   ]
  },
  {
   "cell_type": "code",
   "execution_count": 83,
   "metadata": {},
   "outputs": [
    {
     "data": {
      "text/html": [
       "<div>\n",
       "<style>\n",
       "    .dataframe thead tr:only-child th {\n",
       "        text-align: right;\n",
       "    }\n",
       "\n",
       "    .dataframe thead th {\n",
       "        text-align: left;\n",
       "    }\n",
       "\n",
       "    .dataframe tbody tr th {\n",
       "        vertical-align: top;\n",
       "    }\n",
       "</style>\n",
       "<table border=\"1\" class=\"dataframe\">\n",
       "  <thead>\n",
       "    <tr style=\"text-align: right;\">\n",
       "      <th></th>\n",
       "      <th>Unnamed: 0</th>\n",
       "      <th>ID</th>\n",
       "      <th>Education</th>\n",
       "      <th>Nscore</th>\n",
       "      <th>Escore</th>\n",
       "      <th>Oscore</th>\n",
       "      <th>Ascore</th>\n",
       "      <th>Cscore</th>\n",
       "      <th>Impulsive</th>\n",
       "      <th>SS</th>\n",
       "      <th>...</th>\n",
       "      <th>Ecstasy</th>\n",
       "      <th>Heroin</th>\n",
       "      <th>Ketamine</th>\n",
       "      <th>Legalh</th>\n",
       "      <th>LSD</th>\n",
       "      <th>Meth</th>\n",
       "      <th>Mushrooms</th>\n",
       "      <th>Nicotine</th>\n",
       "      <th>Semer</th>\n",
       "      <th>VSA</th>\n",
       "    </tr>\n",
       "  </thead>\n",
       "  <tbody>\n",
       "    <tr>\n",
       "      <th>count</th>\n",
       "      <td>1885.000000</td>\n",
       "      <td>1885.000000</td>\n",
       "      <td>1885.000000</td>\n",
       "      <td>1885.000000</td>\n",
       "      <td>1885.000000</td>\n",
       "      <td>1885.000000</td>\n",
       "      <td>1885.000000</td>\n",
       "      <td>1885.000000</td>\n",
       "      <td>1885.000000</td>\n",
       "      <td>1885.000000</td>\n",
       "      <td>...</td>\n",
       "      <td>1885.000000</td>\n",
       "      <td>1885.000000</td>\n",
       "      <td>1885.000000</td>\n",
       "      <td>1885.000000</td>\n",
       "      <td>1885.000000</td>\n",
       "      <td>1885.000000</td>\n",
       "      <td>1885.000000</td>\n",
       "      <td>1885.000000</td>\n",
       "      <td>1885.000000</td>\n",
       "      <td>1885.000000</td>\n",
       "    </tr>\n",
       "    <tr>\n",
       "      <th>mean</th>\n",
       "      <td>942.000000</td>\n",
       "      <td>945.294960</td>\n",
       "      <td>-0.003806</td>\n",
       "      <td>0.000047</td>\n",
       "      <td>-0.000163</td>\n",
       "      <td>-0.000534</td>\n",
       "      <td>-0.000245</td>\n",
       "      <td>-0.000386</td>\n",
       "      <td>0.007216</td>\n",
       "      <td>-0.003292</td>\n",
       "      <td>...</td>\n",
       "      <td>1.314058</td>\n",
       "      <td>0.374005</td>\n",
       "      <td>0.569231</td>\n",
       "      <td>1.355968</td>\n",
       "      <td>1.061538</td>\n",
       "      <td>0.826525</td>\n",
       "      <td>1.187268</td>\n",
       "      <td>3.200531</td>\n",
       "      <td>0.009549</td>\n",
       "      <td>0.433422</td>\n",
       "    </tr>\n",
       "    <tr>\n",
       "      <th>std</th>\n",
       "      <td>544.296947</td>\n",
       "      <td>545.167641</td>\n",
       "      <td>0.950078</td>\n",
       "      <td>0.998106</td>\n",
       "      <td>0.997448</td>\n",
       "      <td>0.996229</td>\n",
       "      <td>0.997440</td>\n",
       "      <td>0.997523</td>\n",
       "      <td>0.954435</td>\n",
       "      <td>0.963701</td>\n",
       "      <td>...</td>\n",
       "      <td>1.647567</td>\n",
       "      <td>1.034779</td>\n",
       "      <td>1.220015</td>\n",
       "      <td>1.789647</td>\n",
       "      <td>1.491103</td>\n",
       "      <td>1.646632</td>\n",
       "      <td>1.466341</td>\n",
       "      <td>2.413932</td>\n",
       "      <td>0.159331</td>\n",
       "      <td>0.962375</td>\n",
       "    </tr>\n",
       "    <tr>\n",
       "      <th>min</th>\n",
       "      <td>0.000000</td>\n",
       "      <td>1.000000</td>\n",
       "      <td>-2.435910</td>\n",
       "      <td>-3.464360</td>\n",
       "      <td>-3.273930</td>\n",
       "      <td>-3.273930</td>\n",
       "      <td>-3.464360</td>\n",
       "      <td>-3.464360</td>\n",
       "      <td>-2.555240</td>\n",
       "      <td>-2.078480</td>\n",
       "      <td>...</td>\n",
       "      <td>0.000000</td>\n",
       "      <td>0.000000</td>\n",
       "      <td>0.000000</td>\n",
       "      <td>0.000000</td>\n",
       "      <td>0.000000</td>\n",
       "      <td>0.000000</td>\n",
       "      <td>0.000000</td>\n",
       "      <td>0.000000</td>\n",
       "      <td>0.000000</td>\n",
       "      <td>0.000000</td>\n",
       "    </tr>\n",
       "    <tr>\n",
       "      <th>25%</th>\n",
       "      <td>471.000000</td>\n",
       "      <td>474.000000</td>\n",
       "      <td>-0.611130</td>\n",
       "      <td>-0.678250</td>\n",
       "      <td>-0.695090</td>\n",
       "      <td>-0.717270</td>\n",
       "      <td>-0.606330</td>\n",
       "      <td>-0.652530</td>\n",
       "      <td>-0.711260</td>\n",
       "      <td>-0.525930</td>\n",
       "      <td>...</td>\n",
       "      <td>0.000000</td>\n",
       "      <td>0.000000</td>\n",
       "      <td>0.000000</td>\n",
       "      <td>0.000000</td>\n",
       "      <td>0.000000</td>\n",
       "      <td>0.000000</td>\n",
       "      <td>0.000000</td>\n",
       "      <td>1.000000</td>\n",
       "      <td>0.000000</td>\n",
       "      <td>0.000000</td>\n",
       "    </tr>\n",
       "    <tr>\n",
       "      <th>50%</th>\n",
       "      <td>942.000000</td>\n",
       "      <td>946.000000</td>\n",
       "      <td>-0.059210</td>\n",
       "      <td>0.042570</td>\n",
       "      <td>0.003320</td>\n",
       "      <td>-0.019280</td>\n",
       "      <td>-0.017290</td>\n",
       "      <td>-0.006650</td>\n",
       "      <td>-0.217120</td>\n",
       "      <td>0.079870</td>\n",
       "      <td>...</td>\n",
       "      <td>0.000000</td>\n",
       "      <td>0.000000</td>\n",
       "      <td>0.000000</td>\n",
       "      <td>0.000000</td>\n",
       "      <td>0.000000</td>\n",
       "      <td>0.000000</td>\n",
       "      <td>0.000000</td>\n",
       "      <td>3.000000</td>\n",
       "      <td>0.000000</td>\n",
       "      <td>0.000000</td>\n",
       "    </tr>\n",
       "    <tr>\n",
       "      <th>75%</th>\n",
       "      <td>1413.000000</td>\n",
       "      <td>1417.000000</td>\n",
       "      <td>0.454680</td>\n",
       "      <td>0.629670</td>\n",
       "      <td>0.637790</td>\n",
       "      <td>0.723300</td>\n",
       "      <td>0.760960</td>\n",
       "      <td>0.584890</td>\n",
       "      <td>0.529750</td>\n",
       "      <td>0.765400</td>\n",
       "      <td>...</td>\n",
       "      <td>3.000000</td>\n",
       "      <td>0.000000</td>\n",
       "      <td>0.000000</td>\n",
       "      <td>3.000000</td>\n",
       "      <td>2.000000</td>\n",
       "      <td>0.000000</td>\n",
       "      <td>2.000000</td>\n",
       "      <td>6.000000</td>\n",
       "      <td>0.000000</td>\n",
       "      <td>0.000000</td>\n",
       "    </tr>\n",
       "    <tr>\n",
       "      <th>max</th>\n",
       "      <td>1884.000000</td>\n",
       "      <td>1888.000000</td>\n",
       "      <td>1.984370</td>\n",
       "      <td>3.273930</td>\n",
       "      <td>3.273930</td>\n",
       "      <td>2.901610</td>\n",
       "      <td>3.464360</td>\n",
       "      <td>3.464360</td>\n",
       "      <td>2.901610</td>\n",
       "      <td>1.921730</td>\n",
       "      <td>...</td>\n",
       "      <td>6.000000</td>\n",
       "      <td>6.000000</td>\n",
       "      <td>6.000000</td>\n",
       "      <td>6.000000</td>\n",
       "      <td>6.000000</td>\n",
       "      <td>6.000000</td>\n",
       "      <td>6.000000</td>\n",
       "      <td>6.000000</td>\n",
       "      <td>4.000000</td>\n",
       "      <td>6.000000</td>\n",
       "    </tr>\n",
       "  </tbody>\n",
       "</table>\n",
       "<p>8 rows × 29 columns</p>\n",
       "</div>"
      ],
      "text/plain": [
       "        Unnamed: 0           ID    Education       Nscore       Escore  \\\n",
       "count  1885.000000  1885.000000  1885.000000  1885.000000  1885.000000   \n",
       "mean    942.000000   945.294960    -0.003806     0.000047    -0.000163   \n",
       "std     544.296947   545.167641     0.950078     0.998106     0.997448   \n",
       "min       0.000000     1.000000    -2.435910    -3.464360    -3.273930   \n",
       "25%     471.000000   474.000000    -0.611130    -0.678250    -0.695090   \n",
       "50%     942.000000   946.000000    -0.059210     0.042570     0.003320   \n",
       "75%    1413.000000  1417.000000     0.454680     0.629670     0.637790   \n",
       "max    1884.000000  1888.000000     1.984370     3.273930     3.273930   \n",
       "\n",
       "            Oscore       Ascore       Cscore    Impulsive           SS  \\\n",
       "count  1885.000000  1885.000000  1885.000000  1885.000000  1885.000000   \n",
       "mean     -0.000534    -0.000245    -0.000386     0.007216    -0.003292   \n",
       "std       0.996229     0.997440     0.997523     0.954435     0.963701   \n",
       "min      -3.273930    -3.464360    -3.464360    -2.555240    -2.078480   \n",
       "25%      -0.717270    -0.606330    -0.652530    -0.711260    -0.525930   \n",
       "50%      -0.019280    -0.017290    -0.006650    -0.217120     0.079870   \n",
       "75%       0.723300     0.760960     0.584890     0.529750     0.765400   \n",
       "max       2.901610     3.464360     3.464360     2.901610     1.921730   \n",
       "\n",
       "          ...           Ecstasy       Heroin     Ketamine       Legalh  \\\n",
       "count     ...       1885.000000  1885.000000  1885.000000  1885.000000   \n",
       "mean      ...          1.314058     0.374005     0.569231     1.355968   \n",
       "std       ...          1.647567     1.034779     1.220015     1.789647   \n",
       "min       ...          0.000000     0.000000     0.000000     0.000000   \n",
       "25%       ...          0.000000     0.000000     0.000000     0.000000   \n",
       "50%       ...          0.000000     0.000000     0.000000     0.000000   \n",
       "75%       ...          3.000000     0.000000     0.000000     3.000000   \n",
       "max       ...          6.000000     6.000000     6.000000     6.000000   \n",
       "\n",
       "               LSD         Meth    Mushrooms     Nicotine        Semer  \\\n",
       "count  1885.000000  1885.000000  1885.000000  1885.000000  1885.000000   \n",
       "mean      1.061538     0.826525     1.187268     3.200531     0.009549   \n",
       "std       1.491103     1.646632     1.466341     2.413932     0.159331   \n",
       "min       0.000000     0.000000     0.000000     0.000000     0.000000   \n",
       "25%       0.000000     0.000000     0.000000     1.000000     0.000000   \n",
       "50%       0.000000     0.000000     0.000000     3.000000     0.000000   \n",
       "75%       2.000000     0.000000     2.000000     6.000000     0.000000   \n",
       "max       6.000000     6.000000     6.000000     6.000000     4.000000   \n",
       "\n",
       "               VSA  \n",
       "count  1885.000000  \n",
       "mean      0.433422  \n",
       "std       0.962375  \n",
       "min       0.000000  \n",
       "25%       0.000000  \n",
       "50%       0.000000  \n",
       "75%       0.000000  \n",
       "max       6.000000  \n",
       "\n",
       "[8 rows x 29 columns]"
      ]
     },
     "execution_count": 83,
     "metadata": {},
     "output_type": "execute_result"
    }
   ],
   "source": [
    "data.describe()"
   ]
  },
  {
   "cell_type": "code",
   "execution_count": 84,
   "metadata": {},
   "outputs": [
    {
     "data": {
      "text/html": [
       "<div>\n",
       "<style>\n",
       "    .dataframe thead tr:only-child th {\n",
       "        text-align: right;\n",
       "    }\n",
       "\n",
       "    .dataframe thead th {\n",
       "        text-align: left;\n",
       "    }\n",
       "\n",
       "    .dataframe tbody tr th {\n",
       "        vertical-align: top;\n",
       "    }\n",
       "</style>\n",
       "<table border=\"1\" class=\"dataframe\">\n",
       "  <thead>\n",
       "    <tr style=\"text-align: right;\">\n",
       "      <th></th>\n",
       "      <th>Unnamed: 0</th>\n",
       "      <th>ID</th>\n",
       "      <th>Age</th>\n",
       "      <th>Gender</th>\n",
       "      <th>Education</th>\n",
       "      <th>Country</th>\n",
       "      <th>Ethnicity</th>\n",
       "      <th>Nscore</th>\n",
       "      <th>Escore</th>\n",
       "      <th>Oscore</th>\n",
       "      <th>...</th>\n",
       "      <th>Ecstasy</th>\n",
       "      <th>Heroin</th>\n",
       "      <th>Ketamine</th>\n",
       "      <th>Legalh</th>\n",
       "      <th>LSD</th>\n",
       "      <th>Meth</th>\n",
       "      <th>Mushrooms</th>\n",
       "      <th>Nicotine</th>\n",
       "      <th>Semer</th>\n",
       "      <th>VSA</th>\n",
       "    </tr>\n",
       "  </thead>\n",
       "  <tbody>\n",
       "    <tr>\n",
       "      <th>0</th>\n",
       "      <td>0</td>\n",
       "      <td>1</td>\n",
       "      <td>35-44</td>\n",
       "      <td>male</td>\n",
       "      <td>-0.05921</td>\n",
       "      <td>UK</td>\n",
       "      <td>White/Asian</td>\n",
       "      <td>0.31287</td>\n",
       "      <td>-0.57545</td>\n",
       "      <td>-0.58331</td>\n",
       "      <td>...</td>\n",
       "      <td>0</td>\n",
       "      <td>0</td>\n",
       "      <td>0</td>\n",
       "      <td>0</td>\n",
       "      <td>0</td>\n",
       "      <td>0</td>\n",
       "      <td>0</td>\n",
       "      <td>2</td>\n",
       "      <td>0</td>\n",
       "      <td>0</td>\n",
       "    </tr>\n",
       "    <tr>\n",
       "      <th>1</th>\n",
       "      <td>1</td>\n",
       "      <td>2</td>\n",
       "      <td>25-34</td>\n",
       "      <td>female</td>\n",
       "      <td>1.98437</td>\n",
       "      <td>UK</td>\n",
       "      <td>White</td>\n",
       "      <td>-0.67825</td>\n",
       "      <td>1.93886</td>\n",
       "      <td>1.43533</td>\n",
       "      <td>...</td>\n",
       "      <td>4</td>\n",
       "      <td>0</td>\n",
       "      <td>2</td>\n",
       "      <td>0</td>\n",
       "      <td>2</td>\n",
       "      <td>3</td>\n",
       "      <td>0</td>\n",
       "      <td>4</td>\n",
       "      <td>0</td>\n",
       "      <td>0</td>\n",
       "    </tr>\n",
       "    <tr>\n",
       "      <th>2</th>\n",
       "      <td>2</td>\n",
       "      <td>3</td>\n",
       "      <td>35-44</td>\n",
       "      <td>female</td>\n",
       "      <td>-0.05921</td>\n",
       "      <td>UK</td>\n",
       "      <td>White</td>\n",
       "      <td>-0.46725</td>\n",
       "      <td>0.80523</td>\n",
       "      <td>-0.84732</td>\n",
       "      <td>...</td>\n",
       "      <td>0</td>\n",
       "      <td>0</td>\n",
       "      <td>0</td>\n",
       "      <td>0</td>\n",
       "      <td>0</td>\n",
       "      <td>0</td>\n",
       "      <td>1</td>\n",
       "      <td>0</td>\n",
       "      <td>0</td>\n",
       "      <td>0</td>\n",
       "    </tr>\n",
       "    <tr>\n",
       "      <th>3</th>\n",
       "      <td>3</td>\n",
       "      <td>4</td>\n",
       "      <td>18-24</td>\n",
       "      <td>male</td>\n",
       "      <td>1.16365</td>\n",
       "      <td>UK</td>\n",
       "      <td>White</td>\n",
       "      <td>-0.14882</td>\n",
       "      <td>-0.80615</td>\n",
       "      <td>-0.01928</td>\n",
       "      <td>...</td>\n",
       "      <td>0</td>\n",
       "      <td>0</td>\n",
       "      <td>2</td>\n",
       "      <td>0</td>\n",
       "      <td>0</td>\n",
       "      <td>0</td>\n",
       "      <td>0</td>\n",
       "      <td>2</td>\n",
       "      <td>0</td>\n",
       "      <td>0</td>\n",
       "    </tr>\n",
       "    <tr>\n",
       "      <th>4</th>\n",
       "      <td>4</td>\n",
       "      <td>5</td>\n",
       "      <td>35-44</td>\n",
       "      <td>male</td>\n",
       "      <td>1.98437</td>\n",
       "      <td>UK</td>\n",
       "      <td>White</td>\n",
       "      <td>0.73545</td>\n",
       "      <td>-1.63340</td>\n",
       "      <td>-0.45174</td>\n",
       "      <td>...</td>\n",
       "      <td>1</td>\n",
       "      <td>0</td>\n",
       "      <td>0</td>\n",
       "      <td>1</td>\n",
       "      <td>0</td>\n",
       "      <td>0</td>\n",
       "      <td>2</td>\n",
       "      <td>2</td>\n",
       "      <td>0</td>\n",
       "      <td>0</td>\n",
       "    </tr>\n",
       "  </tbody>\n",
       "</table>\n",
       "<p>5 rows × 33 columns</p>\n",
       "</div>"
      ],
      "text/plain": [
       "   Unnamed: 0  ID    Age  Gender  Education Country    Ethnicity   Nscore  \\\n",
       "0           0   1  35-44    male   -0.05921      UK  White/Asian  0.31287   \n",
       "1           1   2  25-34  female    1.98437      UK        White -0.67825   \n",
       "2           2   3  35-44  female   -0.05921      UK        White -0.46725   \n",
       "3           3   4  18-24    male    1.16365      UK        White -0.14882   \n",
       "4           4   5  35-44    male    1.98437      UK        White  0.73545   \n",
       "\n",
       "    Escore   Oscore ...   Ecstasy  Heroin  Ketamine  Legalh  LSD  Meth  \\\n",
       "0 -0.57545 -0.58331 ...         0       0         0       0    0     0   \n",
       "1  1.93886  1.43533 ...         4       0         2       0    2     3   \n",
       "2  0.80523 -0.84732 ...         0       0         0       0    0     0   \n",
       "3 -0.80615 -0.01928 ...         0       0         2       0    0     0   \n",
       "4 -1.63340 -0.45174 ...         1       0         0       1    0     0   \n",
       "\n",
       "   Mushrooms  Nicotine  Semer  VSA  \n",
       "0          0         2      0    0  \n",
       "1          0         4      0    0  \n",
       "2          1         0      0    0  \n",
       "3          0         2      0    0  \n",
       "4          2         2      0    0  \n",
       "\n",
       "[5 rows x 33 columns]"
      ]
     },
     "execution_count": 84,
     "metadata": {},
     "output_type": "execute_result"
    }
   ],
   "source": [
    "data.head()"
   ]
  },
  {
   "cell_type": "code",
   "execution_count": 85,
   "metadata": {
    "scrolled": true
   },
   "outputs": [
    {
     "name": "stdout",
     "output_type": "stream",
     "text": [
      "<class 'pandas.core.frame.DataFrame'>\n",
      "RangeIndex: 1885 entries, 0 to 1884\n",
      "Data columns (total 33 columns):\n",
      "Unnamed: 0    1885 non-null int64\n",
      "ID            1885 non-null int64\n",
      "Age           1885 non-null object\n",
      "Gender        1885 non-null object\n",
      "Education     1885 non-null float64\n",
      "Country       1885 non-null object\n",
      "Ethnicity     1885 non-null object\n",
      "Nscore        1885 non-null float64\n",
      "Escore        1885 non-null float64\n",
      "Oscore        1885 non-null float64\n",
      "Ascore        1885 non-null float64\n",
      "Cscore        1885 non-null float64\n",
      "Impulsive     1885 non-null float64\n",
      "SS            1885 non-null float64\n",
      "Alcohol       1885 non-null int64\n",
      "Amphet        1885 non-null int64\n",
      "Amyl          1885 non-null int64\n",
      "Benzos        1885 non-null int64\n",
      "Caffeine      1885 non-null int64\n",
      "Cannabis      1885 non-null int64\n",
      "Chocolate     1885 non-null int64\n",
      "Cocaine       1885 non-null int64\n",
      "Crack         1885 non-null int64\n",
      "Ecstasy       1885 non-null int64\n",
      "Heroin        1885 non-null int64\n",
      "Ketamine      1885 non-null int64\n",
      "Legalh        1885 non-null int64\n",
      "LSD           1885 non-null int64\n",
      "Meth          1885 non-null int64\n",
      "Mushrooms     1885 non-null int64\n",
      "Nicotine      1885 non-null int64\n",
      "Semer         1885 non-null int64\n",
      "VSA           1885 non-null int64\n",
      "dtypes: float64(8), int64(21), object(4)\n",
      "memory usage: 486.1+ KB\n"
     ]
    }
   ],
   "source": [
    "data.info()"
   ]
  },
  {
   "cell_type": "code",
   "execution_count": 86,
   "metadata": {},
   "outputs": [],
   "source": [
    "from sklearn import preprocessing\n",
    "le = preprocessing.LabelEncoder()\n",
    "le.fit(data['Education'])\n",
    "data['Education'] = le.transform(data['Education'])"
   ]
  },
  {
   "cell_type": "code",
   "execution_count": 87,
   "metadata": {
    "collapsed": true
   },
   "outputs": [],
   "source": [
    "train,test = train_test_split(data, test_size = 0.15)"
   ]
  },
  {
   "cell_type": "code",
   "execution_count": 88,
   "metadata": {},
   "outputs": [
    {
     "name": "stdout",
     "output_type": "stream",
     "text": [
      "Training size: 1602; Test Size: 283\n"
     ]
    }
   ],
   "source": [
    "print(\"Training size: {}; Test Size: {}\".format(len(train),len(test)))"
   ]
  },
  {
   "cell_type": "code",
   "execution_count": 89,
   "metadata": {
    "collapsed": true
   },
   "outputs": [],
   "source": [
    "#Custom color Palette\n",
    "red_blue =['#19B5FE','#EF4836']\n",
    "palette = sns.color_palette(red_blue)\n",
    "sns.set_palette(palette)\n",
    "sns.set_style(\"white\")"
   ]
  },
  {
   "cell_type": "code",
   "execution_count": 90,
   "metadata": {
    "collapsed": true
   },
   "outputs": [],
   "source": [
    "m_Alcohol = data[data['Gender'] == 'male']['Alcohol']\n",
    "f_Alcohol = data[data['Gender'] == 'female']['Alcohol']     \n",
    "m_Amphet = data[data['Gender'] == 'male']['Amphet']   \n",
    "f_Amphet  = data[data['Gender'] == 'female']['Amphet']   \n",
    "m_Amyl = data[data['Gender'] == 'male']['Amyl']   \n",
    "f_Amyl  = data[data['Gender'] == 'female']['Amyl']   \n",
    "m_Benzos = data[data['Gender'] == 'male']['Benzos']   \n",
    "f_Benzos   = data[data['Gender'] == 'female']['Benzos']        \n",
    "m_Caffeine = data[data['Gender'] == 'male']['Caffeine']   \n",
    "f_Caffeine = data[data['Gender'] == 'female']['Caffeine']   \n",
    "m_Cannabis = data[data['Gender'] == 'male']['Cannabis']   \n",
    "f_Cannabis = data[data['Gender'] == 'female']['Cannabis']       \n",
    "m_Chocolate = data[data['Gender'] == 'male']['Chocolate']    \n",
    "f_Chocolate = data[data['Gender'] == 'female']['Chocolate'] "
   ]
  },
  {
   "cell_type": "code",
   "execution_count": 91,
   "metadata": {},
   "outputs": [
    {
     "data": {
      "text/plain": [
       "<matplotlib.legend.Legend at 0x1a13e0d780>"
      ]
     },
     "execution_count": 91,
     "metadata": {},
     "output_type": "execute_result"
    },
    {
     "data": {
      "image/png": "[encoded data removed]",
      "text/plain": [
       "<matplotlib.figure.Figure at 0x1a138f2fd0>"
      ]
     },
     "metadata": {},
     "output_type": "display_data"
    }
   ],
   "source": [
    "fig= plt.figure(figsize=(12,8))\n",
    "plt.title(\"Alcohol Male / Female Distribution\")\n",
    "m_Alcohol.hist(alpha = 0.7, bins = 30,label ='male')\n",
    "f_Alcohol.hist(alpha = 0.7, bins = 30,label='female')\n",
    "plt.legend(loc = 'upper right')"
   ]
  },
  {
   "cell_type": "code",
   "execution_count": 92,
   "metadata": {},
   "outputs": [
    {
     "name": "stderr",
     "output_type": "stream",
     "text": [
      "/Users/DataScience/anaconda3/lib/python3.6/site-packages/matplotlib/cbook/deprecation.py:106: MatplotlibDeprecationWarning: Adding an axes using the same arguments as a previous axes currently reuses the earlier instance.  In a future version, a new instance will always be created and returned.  Meanwhile, this warning can be suppressed, and the future behavior ensured, by passing a unique label to each axes instance.\n",
      "  warnings.warn(message, mplDeprecation, stacklevel=1)\n"
     ]
    },
    {
     "data": {
      "text/plain": [
       "\"\\n#Energy\\nax13 = fig2.add_subplot(336)\\nax13.set_xlabel('Energy')\\nax13.set_ylabel('Count')\\nax13.set_title('Song Energy Like Distribution')\\npos_energy.hist(alpha=0.5,bins = 30)\\nax14=fig2.add_subplot(336)\\nneg_energy.hist(alpha=0.5,bins=30)\\n\\n#Key\\n\\nax14 = fig2.add_subplot(337)\\nax14.set_xlabel('Key')\\nax14.set_ylabel('Count')\\nax14.set_title('Song Key Like Distribution')\\npos_key.hist(alpha=0.5,bins = 30)\\nax15=fig2.add_subplot(337)\\nneg_key.hist(alpha=0.5,bins=30)\\n\\n#Acousticness\\nax16 = fig2.add_subplot(338)\\nax16.set_xlabel('Acousticness')\\nax16.set_ylabel('Count')\\nax16.set_title('Song Acousticness Like Distribution')\\npos_acousticness.hist(alpha=0.5,bins = 30)\\nax17=fig2.add_subplot(338)\\nneg_acousticness.hist(alpha=0.5,bins=30)\\n\\n#Instrumentalness\\nax18 = fig2.add_subplot(339)\\nax18.set_xlabel('Instrumentalness')\\nax18.set_ylabel('Count')\\nax18.set_title('Song Instrumentalness Like Distribution')\\npos_instrumentalness.hist(alpha=0.5,bins = 30)\\nax19=fig2.add_subplot(339)\\nneg_instrumentalness.hist(alpha=0.5,bins=30)\\n\""
      ]
     },
     "execution_count": 92,
     "metadata": {},
     "output_type": "execute_result"
    },
    {
     "data": {
      "image/png": "[encoded data removed]",
      "text/plain": [
       "<matplotlib.figure.Figure at 0x1a13b456a0>"
      ]
     },
     "metadata": {},
     "output_type": "display_data"
    }
   ],
   "source": [
    "fig2 = plt.figure ( figsize=(15,15))\n",
    "#Amphet\n",
    "ax3 = fig2.add_subplot(331)\n",
    "ax3.set_xlabel('Alcohol')\n",
    "ax3.set_ylabel('Frequency')\n",
    "ax3.set_title('Amphet Consumpion Like Distribution')\n",
    "m_Amphet.hist(alpha=0.5,bins = 30)\n",
    "ax4=fig2.add_subplot(331)\n",
    "f_Amphet.hist(alpha=0.5,bins=30)\n",
    "\n",
    "# Amyl\n",
    "ax5 = fig2.add_subplot(332)\n",
    "ax5.set_xlabel('Amyl')\n",
    "ax5.set_ylabel('Frequency')\n",
    "ax5.set_title('Amyl Like Distribution')\n",
    "m_Amyl.hist(alpha=0.5,bins = 30)\n",
    "ax6=fig2.add_subplot(332)\n",
    "f_Amyl.hist(alpha=0.5,bins=30)\n",
    "\n",
    "#Benzos\n",
    "ax7 = fig2.add_subplot(333)\n",
    "ax7.set_xlabel('Benzos')\n",
    "ax7.set_ylabel('Frequency')\n",
    "ax7.set_title('Benzos Like Distribution')\n",
    "m_Benzos.hist(alpha=0.5,bins = 30)\n",
    "ax8=fig2.add_subplot(333)\n",
    "f_Benzos.hist(alpha=0.5,bins=30)\n",
    "\n",
    "#Caffeine\n",
    "ax9 = fig2.add_subplot(334)\n",
    "ax9.set_xlabel('Caffeine')\n",
    "ax9.set_ylabel('Frequency')\n",
    "ax9.set_title('Caffeine Like Distribution')\n",
    "m_Caffeine.hist(alpha=0.5,bins = 30)\n",
    "ax10=fig2.add_subplot(334)\n",
    "f_Caffeine.hist(alpha=0.5,bins=30)\n",
    "\n",
    "#Chocolate\n",
    "ax11 = fig2.add_subplot(335)\n",
    "ax11.set_xlabel('Chocolate')\n",
    "ax11.set_ylabel('Frequency')\n",
    "ax11.set_title('Chocolate Like Distribution')\n",
    "m_Chocolate.hist(alpha=0.5,bins = 30)\n",
    "ax12=fig2.add_subplot(335)\n",
    "f_Chocolate.hist(alpha=0.5,bins=30)\n",
    "\n",
    "\"\"\"\n",
    "#Energy\n",
    "ax13 = fig2.add_subplot(336)\n",
    "ax13.set_xlabel('Energy')\n",
    "ax13.set_ylabel('Count')\n",
    "ax13.set_title('Song Energy Like Distribution')\n",
    "pos_energy.hist(alpha=0.5,bins = 30)\n",
    "ax14=fig2.add_subplot(336)\n",
    "neg_energy.hist(alpha=0.5,bins=30)\n",
    "\n",
    "#Key\n",
    "\n",
    "ax14 = fig2.add_subplot(337)\n",
    "ax14.set_xlabel('Key')\n",
    "ax14.set_ylabel('Count')\n",
    "ax14.set_title('Song Key Like Distribution')\n",
    "pos_key.hist(alpha=0.5,bins = 30)\n",
    "ax15=fig2.add_subplot(337)\n",
    "neg_key.hist(alpha=0.5,bins=30)\n",
    "\n",
    "#Acousticness\n",
    "ax16 = fig2.add_subplot(338)\n",
    "ax16.set_xlabel('Acousticness')\n",
    "ax16.set_ylabel('Count')\n",
    "ax16.set_title('Song Acousticness Like Distribution')\n",
    "pos_acousticness.hist(alpha=0.5,bins = 30)\n",
    "ax17=fig2.add_subplot(338)\n",
    "neg_acousticness.hist(alpha=0.5,bins=30)\n",
    "\n",
    "#Instrumentalness\n",
    "ax18 = fig2.add_subplot(339)\n",
    "ax18.set_xlabel('Instrumentalness')\n",
    "ax18.set_ylabel('Count')\n",
    "ax18.set_title('Song Instrumentalness Like Distribution')\n",
    "pos_instrumentalness.hist(alpha=0.5,bins = 30)\n",
    "ax19=fig2.add_subplot(339)\n",
    "neg_instrumentalness.hist(alpha=0.5,bins=30)\n",
    "\"\"\"\n"
   ]
  },
  {
   "cell_type": "code",
   "execution_count": 93,
   "metadata": {
    "collapsed": true
   },
   "outputs": [],
   "source": [
    "model = DecisionTreeClassifier(min_samples_split=100)"
   ]
  },
  {
   "cell_type": "code",
   "execution_count": 94,
   "metadata": {
    "collapsed": true
   },
   "outputs": [],
   "source": [
    "#The goal of the tree is to ultimately split observations into groups of homogenous target values\n",
    "#(1 or 0), giving us a set of \"paths\" to follow to determine if this user liked or disliked a particular song"
   ]
  },
  {
   "cell_type": "code",
   "execution_count": 95,
   "metadata": {
    "collapsed": true
   },
   "outputs": [],
   "source": [
    "#Overfitting : a commomn difficulty for Decisiono Treeclassifiers\n",
    "#Overfitting occurs when the alogirthm hypothesis too specifically about training data (assigning meaning to its noise), \n",
    "#thus reducing training error at the expense of increased error inthe data test set"
   ]
  },
  {
   "cell_type": "code",
   "execution_count": 114,
   "metadata": {},
   "outputs": [
    {
     "data": {
      "text/plain": [
       "Index(['Alcohol', 'Amphet', 'Amyl', 'Benzos', 'Caffeine', 'Cannabis',\n",
       "       'Chocolate', 'Cocaine', 'Crack', 'Ecstasy', 'Heroin', 'Ketamine',\n",
       "       'Legalh', 'LSD', 'Meth', 'Mushrooms', 'Nicotine', 'Semer', 'VSA'],\n",
       "      dtype='object')"
      ]
     },
     "execution_count": 114,
     "metadata": {},
     "output_type": "execute_result"
    }
   ],
   "source": [
    "# features = [\"danceability\",\"loudness\",\"valence\",\"energy\",\"instrumentalness\",\"acousticness\",\"key\",\"speechiness\",\"duration_ms\"]\n",
    "df = pd.DataFrame(data)\n",
    "#features = df.columns.difference(['ID', 'Age','Unnamed: 0'])\n",
    "features = df.columns[14:]\n",
    "features"
   ]
  },
  {
   "cell_type": "code",
   "execution_count": 115,
   "metadata": {
    "collapsed": true
   },
   "outputs": [],
   "source": [
    "x_train = train[features]\n",
    "y_train = train[\"Age\"]\n",
    "x_test = train[features]\n",
    "y_test = train[\"Age\"]\n"
   ]
  },
  {
   "cell_type": "code",
   "execution_count": 116,
   "metadata": {},
   "outputs": [],
   "source": [
    "dt = model.fit(x_train,y_train)"
   ]
  },
  {
   "cell_type": "code",
   "execution_count": 117,
   "metadata": {
    "collapsed": true
   },
   "outputs": [],
   "source": [
    "#Graphviz - ensure to build decision tree image"
   ]
  },
  {
   "cell_type": "code",
   "execution_count": 118,
   "metadata": {
    "collapsed": true
   },
   "outputs": [],
   "source": [
    "def show_tree(tree,features,path):\n",
    "    f=io.StringIO()\n",
    "    export_graphviz(tree,out_file=f,feature_names=features)\n",
    "    pydotplus.graph_from_dot_data(f.getvalue()).write_png(path)\n",
    "    img = misc.imread(path)\n",
    "    plt.rcParams[\"figure.figsize\"] = (20,20)\n",
    "    plt.imshow(img)"
   ]
  },
  {
   "cell_type": "code",
   "execution_count": 119,
   "metadata": {},
   "outputs": [
    {
     "data": {
      "image/png": "[encoded data removed]",
      "text/plain": [
       "<matplotlib.figure.Figure at 0x1a14d4f908>"
      ]
     },
     "metadata": {},
     "output_type": "display_data"
    }
   ],
   "source": [
    "show_tree(dt,features,'dec_tree_01.png')"
   ]
  },
  {
   "cell_type": "code",
   "execution_count": 120,
   "metadata": {},
   "outputs": [
    {
     "data": {
      "text/plain": [
       "0.52684144818976275"
      ]
     },
     "execution_count": 120,
     "metadata": {},
     "output_type": "execute_result"
    }
   ],
   "source": [
    "y_predict = model.predict(x_test)\n",
    "\n",
    "from sklearn.metrics import accuracy_score\n",
    "\n",
    "accuracy_score(y_test, y_predict)"
   ]
  },
  {
   "cell_type": "code",
   "execution_count": null,
   "metadata": {
    "collapsed": true
   },
   "outputs": [],
   "source": []
  },
  {
   "cell_type": "code",
   "execution_count": null,
   "metadata": {
    "collapsed": true
   },
   "outputs": [],
   "source": []
  },
  {
   "cell_type": "code",
   "execution_count": null,
   "metadata": {
    "collapsed": true
   },
   "outputs": [],
   "source": []
  },
  {
   "cell_type": "code",
   "execution_count": null,
   "metadata": {
    "collapsed": true
   },
   "outputs": [],
   "source": []
  },
  {
   "cell_type": "code",
   "execution_count": null,
   "metadata": {
    "collapsed": true
   },
   "outputs": [],
   "source": []
  },
  {
   "cell_type": "code",
   "execution_count": null,
   "metadata": {
    "collapsed": true
   },
   "outputs": [],
   "source": []
  },
  {
   "cell_type": "code",
   "execution_count": null,
   "metadata": {
    "collapsed": true
   },
   "outputs": [],
   "source": []
  },
  {
   "cell_type": "code",
   "execution_count": null,
   "metadata": {
    "collapsed": true
   },
   "outputs": [],
   "source": []
  },
  {
   "cell_type": "code",
   "execution_count": null,
   "metadata": {
    "collapsed": true
   },
   "outputs": [],
   "source": []
  },
  {
   "cell_type": "code",
   "execution_count": null,
   "metadata": {
    "collapsed": true
   },
   "outputs": [],
   "source": []
  },
  {
   "cell_type": "code",
   "execution_count": null,
   "metadata": {
    "collapsed": true
   },
   "outputs": [],
   "source": []
  },
  {
   "cell_type": "code",
   "execution_count": null,
   "metadata": {
    "collapsed": true
   },
   "outputs": [],
   "source": []
  },
  {
   "cell_type": "code",
   "execution_count": null,
   "metadata": {
    "collapsed": true
   },
   "outputs": [],
   "source": []
  },
  {
   "cell_type": "code",
   "execution_count": null,
   "metadata": {
    "collapsed": true
   },
   "outputs": [],
   "source": []
  },
  {
   "cell_type": "code",
   "execution_count": null,
   "metadata": {
    "collapsed": true
   },
   "outputs": [],
   "source": []
  },
  {
   "cell_type": "code",
   "execution_count": null,
   "metadata": {
    "collapsed": true
   },
   "outputs": [],
   "source": []
  },
  {
   "cell_type": "code",
   "execution_count": null,
   "metadata": {
    "collapsed": true
   },
   "outputs": [],
   "source": []
  },
  {
   "cell_type": "code",
   "execution_count": null,
   "metadata": {
    "collapsed": true
   },
   "outputs": [],
   "source": []
  },
  {
   "cell_type": "code",
   "execution_count": null,
   "metadata": {
    "collapsed": true
   },
   "outputs": [],
   "source": []
  }
 ],
 "metadata": {
  "kernelspec": {
   "display_name": "Python 3",
   "language": "python",
   "name": "python3"
  },
  "language_info": {
   "codemirror_mode": {
    "name": "ipython",
    "version": 3
   },
   "file_extension": ".py",
   "mimetype": "text/x-python",
   "name": "python",
   "nbconvert_exporter": "python",
   "pygments_lexer": "ipython3",
   "version": "3.6.3"
  }
 },
 "nbformat": 4,
 "nbformat_minor": 2
}
