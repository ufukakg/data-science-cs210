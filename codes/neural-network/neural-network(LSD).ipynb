{
 "cells": [
  {
   "cell_type": "code",
   "execution_count": 113,
   "metadata": {
    "collapsed": true
   },
   "outputs": [],
   "source": [
    "import tensorflow as tf\n",
    "import pandas as pd\n",
    "import numpy as np"
   ]
  },
  {
   "cell_type": "code",
   "execution_count": 114,
   "metadata": {},
   "outputs": [],
   "source": [
    "from sklearn.preprocessing import LabelEncoder\n",
    "from sklearn.cross_validation import train_test_split\n",
    "from keras.models import Sequential\n",
    "from keras.layers import Activation\n",
    "from keras.optimizers import SGD\n",
    "from keras.layers import Dense\n",
    "from keras.utils import np_utils"
   ]
  },
  {
   "cell_type": "code",
   "execution_count": 115,
   "metadata": {
    "collapsed": true
   },
   "outputs": [],
   "source": [
    "from sklearn import tree"
   ]
  },
  {
   "cell_type": "code",
   "execution_count": 116,
   "metadata": {
    "collapsed": true
   },
   "outputs": [],
   "source": [
    "from sklearn.tree import DecisionTreeClassifier,export_graphviz"
   ]
  },
  {
   "cell_type": "code",
   "execution_count": 117,
   "metadata": {
    "collapsed": true
   },
   "outputs": [],
   "source": [
    "from sklearn.model_selection import train_test_split"
   ]
  },
  {
   "cell_type": "code",
   "execution_count": 118,
   "metadata": {
    "collapsed": true
   },
   "outputs": [],
   "source": [
    "from matplotlib import pyplot as plt"
   ]
  },
  {
   "cell_type": "code",
   "execution_count": 119,
   "metadata": {
    "collapsed": true
   },
   "outputs": [],
   "source": [
    "import seaborn as sns"
   ]
  },
  {
   "cell_type": "code",
   "execution_count": 120,
   "metadata": {
    "collapsed": true
   },
   "outputs": [],
   "source": [
    "import graphviz # anaconda prompt- pip install graphviz"
   ]
  },
  {
   "cell_type": "markdown",
   "metadata": {},
   "source": [
    "import pydotplus"
   ]
  },
  {
   "cell_type": "code",
   "execution_count": 121,
   "metadata": {
    "collapsed": true
   },
   "outputs": [],
   "source": [
    "import pydotplus # anaconda prompt- pip install pydotplus"
   ]
  },
  {
   "cell_type": "code",
   "execution_count": 122,
   "metadata": {
    "collapsed": true
   },
   "outputs": [],
   "source": [
    "import io \n",
    "from scipy import misc\n",
    "%matplotlib inline"
   ]
  },
  {
   "cell_type": "code",
   "execution_count": 123,
   "metadata": {
    "collapsed": true
   },
   "outputs": [],
   "source": [
    "# Make results reproducible\n",
    "seed = 1234\n",
    "np.random.seed(seed)\n",
    "tf.set_random_seed(seed)"
   ]
  },
  {
   "cell_type": "code",
   "execution_count": 138,
   "metadata": {
    "collapsed": true
   },
   "outputs": [],
   "source": [
    "file = '../../input/drug_data.csv'\n",
    "dataset = pd.read_csv(file, 'rb', delimiter =';')"
   ]
  },
  {
   "cell_type": "code",
   "execution_count": 139,
   "metadata": {
    "collapsed": true
   },
   "outputs": [],
   "source": [
    "from sklearn import preprocessing\n",
    "le = preprocessing.LabelEncoder()\n",
    "df = pd.DataFrame(dataset)\n",
    "cols = df.columns[1:13]\n",
    "for col in cols:\n",
    "    le.fit(dataset[col])\n",
    "    dataset[col] = le.transform(dataset[col])"
   ]
  },
  {
   "cell_type": "code",
   "execution_count": 140,
   "metadata": {
    "collapsed": true
   },
   "outputs": [],
   "source": [
    "cols = df.columns[13:]\n",
    "for col in cols:\n",
    "    dataset[col] = dataset[col].str.replace('CL','').astype(int) "
   ]
  },
  {
   "cell_type": "code",
   "execution_count": 141,
   "metadata": {},
   "outputs": [
    {
     "data": {
      "text/plain": [
       "\"\\ncols = df.columns[13:]\\nfor col in cols:\\n    if col != 'Alcohol':\\n        df.__delitem__(col)\\n\""
      ]
     },
     "execution_count": 141,
     "metadata": {},
     "output_type": "execute_result"
    }
   ],
   "source": [
    "\"\"\"\n",
    "df = pd.DataFrame(data)\n",
    "\n",
    "#features = df.columns.difference(['ID', 'Age',])\n",
    "features = df.columns[1:].difference(['LSD'])\n",
    "features\n",
    "\"\"\"\n",
    "\"\"\"\n",
    "cols = df.columns[13:]\n",
    "for col in cols:\n",
    "    if col != 'Alcohol':\n",
    "        df.__delitem__(col)\n",
    "\"\"\""
   ]
  },
  {
   "cell_type": "code",
   "execution_count": 142,
   "metadata": {},
   "outputs": [
    {
     "data": {
      "text/plain": [
       "['ID',\n",
       " 'Age',\n",
       " 'Gender',\n",
       " 'Education',\n",
       " 'Country',\n",
       " 'Ethnicity',\n",
       " 'Nscore',\n",
       " 'Escore',\n",
       " 'Oscore',\n",
       " 'Ascore',\n",
       " 'Cscore',\n",
       " 'Impulsive',\n",
       " 'SS',\n",
       " 'Alcohol',\n",
       " 'Amphet',\n",
       " 'Amyl',\n",
       " 'Benzos',\n",
       " 'Caffeine',\n",
       " 'Cannabis',\n",
       " 'Chocolate',\n",
       " 'Cocaine',\n",
       " 'Crack',\n",
       " 'Ecstasy',\n",
       " 'Heroin',\n",
       " 'Ketamine',\n",
       " 'Legalh',\n",
       " 'Meth',\n",
       " 'Mushrooms',\n",
       " 'Nicotine',\n",
       " 'Semer',\n",
       " 'VSA',\n",
       " 'LSD_0',\n",
       " 'LSD_1',\n",
       " 'LSD_2',\n",
       " 'LSD_3',\n",
       " 'LSD_4',\n",
       " 'LSD_5',\n",
       " 'LSD_6']"
      ]
     },
     "execution_count": 142,
     "metadata": {},
     "output_type": "execute_result"
    }
   ],
   "source": [
    "dataset = pd.get_dummies(dataset, columns=['LSD']) # One Hot Encoding\n",
    "values = list(dataset.columns.values)\n",
    "values"
   ]
  },
  {
   "cell_type": "code",
   "execution_count": 143,
   "metadata": {},
   "outputs": [
    {
     "data": {
      "text/plain": [
       "array([[ 1.,  0.,  0., ...,  0.,  0.,  0.],\n",
       "       [ 0.,  0.,  1., ...,  0.,  0.,  0.],\n",
       "       [ 1.,  0.,  0., ...,  0.,  0.,  0.],\n",
       "       ..., \n",
       "       [ 0.,  0.,  1., ...,  0.,  0.,  0.],\n",
       "       [ 0.,  0.,  0., ...,  0.,  0.,  0.],\n",
       "       [ 0.,  0.,  0., ...,  0.,  0.,  0.]], dtype=float32)"
      ]
     },
     "execution_count": 143,
     "metadata": {},
     "output_type": "execute_result"
    }
   ],
   "source": [
    "y = dataset[values[31:]]\n",
    "y = np.array(y, dtype='float32')\n",
    "y"
   ]
  },
  {
   "cell_type": "code",
   "execution_count": 144,
   "metadata": {},
   "outputs": [
    {
     "data": {
      "text/plain": [
       "array([[ 2.,  1.,  0., ...,  2.,  0.,  0.],\n",
       "       [ 0.,  0.,  8., ...,  4.,  0.,  0.],\n",
       "       [ 2.,  0.,  0., ...,  0.,  0.,  0.],\n",
       "       ..., \n",
       "       [ 0.,  1.,  6., ...,  6.,  0.,  0.],\n",
       "       [ 1.,  1.,  1., ...,  4.,  0.,  0.],\n",
       "       [ 1.,  0.,  1., ...,  6.,  0.,  2.]], dtype=float32)"
      ]
     },
     "execution_count": 144,
     "metadata": {},
     "output_type": "execute_result"
    }
   ],
   "source": [
    "X = dataset[values[1:31]]\n",
    "X = np.array(X, dtype='float32')\n",
    "X"
   ]
  },
  {
   "cell_type": "code",
   "execution_count": 145,
   "metadata": {
    "collapsed": true
   },
   "outputs": [],
   "source": [
    "# Shuffle Data\n",
    "indices = np.random.choice(len(X), len(X), replace=False)\n",
    "X_values = X[indices]\n",
    "y_values = y[indices]\n",
    "\n",
    "X_train, X_test = train_test_split(X_values, test_size = 0.15)\n",
    "y_train, y_test = train_test_split(y_values, test_size = 0.15)"
   ]
  },
  {
   "cell_type": "code",
   "execution_count": 146,
   "metadata": {},
   "outputs": [
    {
     "name": "stderr",
     "output_type": "stream",
     "text": [
      "/Users/DataScience/anaconda3/lib/python3.6/site-packages/ipykernel_launcher.py:3: UserWarning: Update your `Dense` call to the Keras 2 API: `Dense(768, input_dim=30, activation=\"relu\", kernel_initializer=\"uniform\")`\n",
      "  This is separate from the ipykernel package so we can avoid doing imports until\n",
      "/Users/DataScience/anaconda3/lib/python3.6/site-packages/ipykernel_launcher.py:4: UserWarning: Update your `Dense` call to the Keras 2 API: `Dense(384, activation=\"relu\", kernel_initializer=\"uniform\")`\n",
      "  after removing the cwd from sys.path.\n"
     ]
    }
   ],
   "source": [
    "# define the architecture of the network\n",
    "model = Sequential()\n",
    "model.add(Dense(768, input_dim=30, init=\"uniform\", activation=\"relu\"))\n",
    "model.add(Dense(384, init=\"uniform\", activation=\"relu\"))\n",
    "model.add(Dense(7))\n",
    "model.add(Activation(\"softmax\"))"
   ]
  },
  {
   "cell_type": "code",
   "execution_count": 147,
   "metadata": {
    "scrolled": true
   },
   "outputs": [
    {
     "name": "stdout",
     "output_type": "stream",
     "text": [
      "[INFO] compiling model...\n",
      "Epoch 1/50\n"
     ]
    },
    {
     "name": "stderr",
     "output_type": "stream",
     "text": [
      "/Users/DataScience/anaconda3/lib/python3.6/site-packages/keras/models.py:981: UserWarning: The `nb_epoch` argument in `fit` has been renamed `epochs`.\n",
      "  warnings.warn('The `nb_epoch` argument in `fit` '\n"
     ]
    },
    {
     "name": "stdout",
     "output_type": "stream",
     "text": [
      "1602/1602 [==============================] - 0s 172us/step - loss: 0.3524 - acc: 0.8641\n",
      "Epoch 2/50\n",
      "1602/1602 [==============================] - 0s 61us/step - loss: 0.3200 - acc: 0.8665\n",
      "Epoch 3/50\n",
      "1602/1602 [==============================] - 0s 62us/step - loss: 0.3164 - acc: 0.8684\n",
      "Epoch 4/50\n",
      "1602/1602 [==============================] - 0s 66us/step - loss: 0.3138 - acc: 0.8700\n",
      "Epoch 5/50\n",
      "1602/1602 [==============================] - 0s 64us/step - loss: 0.3123 - acc: 0.8686\n",
      "Epoch 6/50\n",
      "1602/1602 [==============================] - 0s 62us/step - loss: 0.3112 - acc: 0.8708\n",
      "Epoch 7/50\n",
      "1602/1602 [==============================] - 0s 67us/step - loss: 0.3104 - acc: 0.8701\n",
      "Epoch 8/50\n",
      "1602/1602 [==============================] - 0s 78us/step - loss: 0.3100 - acc: 0.8722\n",
      "Epoch 9/50\n",
      "1602/1602 [==============================] - 0s 62us/step - loss: 0.3082 - acc: 0.8720\n",
      "Epoch 10/50\n",
      "1602/1602 [==============================] - 0s 62us/step - loss: 0.3079 - acc: 0.8716\n",
      "Epoch 11/50\n",
      "1602/1602 [==============================] - 0s 62us/step - loss: 0.3072 - acc: 0.8710\n",
      "Epoch 12/50\n",
      "1602/1602 [==============================] - 0s 70us/step - loss: 0.3068 - acc: 0.8709\n",
      "Epoch 13/50\n",
      "1602/1602 [==============================] - 0s 71us/step - loss: 0.3067 - acc: 0.8720\n",
      "Epoch 14/50\n",
      "1602/1602 [==============================] - 0s 66us/step - loss: 0.3058 - acc: 0.8719\n",
      "Epoch 15/50\n",
      "1602/1602 [==============================] - 0s 61us/step - loss: 0.3053 - acc: 0.8719\n",
      "Epoch 16/50\n",
      "1602/1602 [==============================] - ETA: 0s - loss: 0.2963 - acc: 0.877 - 0s 61us/step - loss: 0.3049 - acc: 0.8730\n",
      "Epoch 17/50\n",
      "1602/1602 [==============================] - 0s 72us/step - loss: 0.3049 - acc: 0.8716\n",
      "Epoch 18/50\n",
      "1602/1602 [==============================] - 0s 94us/step - loss: 0.3045 - acc: 0.8738\n",
      "Epoch 19/50\n",
      "1602/1602 [==============================] - 0s 142us/step - loss: 0.3036 - acc: 0.8734\n",
      "Epoch 20/50\n",
      "1602/1602 [==============================] - 0s 91us/step - loss: 0.3033 - acc: 0.8740\n",
      "Epoch 21/50\n",
      "1602/1602 [==============================] - 0s 144us/step - loss: 0.3038 - acc: 0.8730\n",
      "Epoch 22/50\n",
      "1602/1602 [==============================] - 0s 106us/step - loss: 0.3032 - acc: 0.8732\n",
      "Epoch 23/50\n",
      "1602/1602 [==============================] - 0s 84us/step - loss: 0.3029 - acc: 0.8748\n",
      "Epoch 24/50\n",
      "1602/1602 [==============================] - 0s 81us/step - loss: 0.3025 - acc: 0.8751\n",
      "Epoch 25/50\n",
      "1602/1602 [==============================] - 0s 108us/step - loss: 0.3021 - acc: 0.8758\n",
      "Epoch 26/50\n",
      "1602/1602 [==============================] - 0s 61us/step - loss: 0.3018 - acc: 0.8748\n",
      "Epoch 27/50\n",
      "1602/1602 [==============================] - 0s 70us/step - loss: 0.3023 - acc: 0.8745\n",
      "Epoch 28/50\n",
      "1602/1602 [==============================] - 0s 63us/step - loss: 0.3011 - acc: 0.8751\n",
      "Epoch 29/50\n",
      "1602/1602 [==============================] - 0s 62us/step - loss: 0.3009 - acc: 0.8752\n",
      "Epoch 30/50\n",
      "1602/1602 [==============================] - 0s 62us/step - loss: 0.3008 - acc: 0.8747\n",
      "Epoch 31/50\n",
      "1602/1602 [==============================] - 0s 62us/step - loss: 0.3007 - acc: 0.8762\n",
      "Epoch 32/50\n",
      "1602/1602 [==============================] - 0s 63us/step - loss: 0.3005 - acc: 0.8747\n",
      "Epoch 33/50\n",
      "1602/1602 [==============================] - 0s 68us/step - loss: 0.2997 - acc: 0.8744\n",
      "Epoch 34/50\n",
      "1602/1602 [==============================] - 0s 76us/step - loss: 0.2999 - acc: 0.8775\n",
      "Epoch 35/50\n",
      "1602/1602 [==============================] - 0s 71us/step - loss: 0.2994 - acc: 0.8778\n",
      "Epoch 36/50\n",
      "1602/1602 [==============================] - 0s 70us/step - loss: 0.3000 - acc: 0.8748\n",
      "Epoch 37/50\n",
      "1602/1602 [==============================] - 0s 68us/step - loss: 0.2995 - acc: 0.8758\n",
      "Epoch 38/50\n",
      "1602/1602 [==============================] - 0s 62us/step - loss: 0.2989 - acc: 0.8770\n",
      "Epoch 39/50\n",
      "1602/1602 [==============================] - 0s 61us/step - loss: 0.2991 - acc: 0.8761\n",
      "Epoch 40/50\n",
      "1602/1602 [==============================] - 0s 68us/step - loss: 0.2992 - acc: 0.8758\n",
      "Epoch 41/50\n",
      "1602/1602 [==============================] - 0s 67us/step - loss: 0.2986 - acc: 0.8777\n",
      "Epoch 42/50\n",
      "1602/1602 [==============================] - 0s 63us/step - loss: 0.2983 - acc: 0.8782\n",
      "Epoch 43/50\n",
      "1602/1602 [==============================] - 0s 62us/step - loss: 0.2984 - acc: 0.8765\n",
      "Epoch 44/50\n",
      "1602/1602 [==============================] - 0s 65us/step - loss: 0.2979 - acc: 0.8768\n",
      "Epoch 45/50\n",
      "1602/1602 [==============================] - 0s 81us/step - loss: 0.2986 - acc: 0.8757\n",
      "Epoch 46/50\n",
      "1602/1602 [==============================] - 0s 63us/step - loss: 0.2970 - acc: 0.8760\n",
      "Epoch 47/50\n",
      "1602/1602 [==============================] - 0s 62us/step - loss: 0.2978 - acc: 0.8760\n",
      "Epoch 48/50\n",
      "1602/1602 [==============================] - 0s 62us/step - loss: 0.2977 - acc: 0.8762\n",
      "Epoch 49/50\n",
      "1602/1602 [==============================] - 0s 61us/step - loss: 0.2969 - acc: 0.8772\n",
      "Epoch 50/50\n",
      "1602/1602 [==============================] - 0s 72us/step - loss: 0.2969 - acc: 0.8790\n"
     ]
    },
    {
     "data": {
      "text/plain": [
       "<keras.callbacks.History at 0x10a1de390>"
      ]
     },
     "execution_count": 147,
     "metadata": {},
     "output_type": "execute_result"
    }
   ],
   "source": [
    "# train the model using SGD\n",
    "print(\"[INFO] compiling model...\")\n",
    "sgd = SGD(lr=0.01)\n",
    "model.compile(loss=\"binary_crossentropy\", optimizer=sgd,\n",
    "\tmetrics=[\"accuracy\"])\n",
    "model.fit(X_train, y_train, nb_epoch=50, batch_size=128,\n",
    "\tverbose=1)"
   ]
  },
  {
   "cell_type": "code",
   "execution_count": 148,
   "metadata": {},
   "outputs": [
    {
     "name": "stdout",
     "output_type": "stream",
     "text": [
      "[INFO] evaluating on testing set...\n",
      "283/283 [==============================] - 0s 272us/step\n",
      "[INFO] loss=0.3046, accuracy: 86.8753%\n"
     ]
    }
   ],
   "source": [
    "# show the accuracy on the testing set\n",
    "print(\"[INFO] evaluating on testing set...\")\n",
    "(loss, accuracy) = model.evaluate(X_test, y_test,\n",
    "\tbatch_size=128, verbose=1)\n",
    "print(\"[INFO] loss={:.4f}, accuracy: {:.4f}%\".format(loss,\n",
    "\taccuracy * 100))"
   ]
  },
  {
   "cell_type": "code",
   "execution_count": null,
   "metadata": {
    "collapsed": true
   },
   "outputs": [],
   "source": []
  }
 ],
 "metadata": {
  "kernelspec": {
   "display_name": "Python 3",
   "language": "python",
   "name": "python3"
  },
  "language_info": {
   "codemirror_mode": {
    "name": "ipython",
    "version": 3
   },
   "file_extension": ".py",
   "mimetype": "text/x-python",
   "name": "python",
   "nbconvert_exporter": "python",
   "pygments_lexer": "ipython3",
   "version": "3.6.3"
  }
 },
 "nbformat": 4,
 "nbformat_minor": 2
}
