{
 "cells": [
  {
   "cell_type": "code",
   "execution_count": 1,
   "metadata": {
    "collapsed": true
   },
   "outputs": [],
   "source": [
    "import tensorflow as tf\n",
    "import matplotlib\n",
    "import pandas as pd\n",
    "import numpy as np"
   ]
  },
  {
   "cell_type": "code",
   "execution_count": 2,
   "metadata": {},
   "outputs": [
    {
     "name": "stderr",
     "output_type": "stream",
     "text": [
      "Using TensorFlow backend.\n"
     ]
    }
   ],
   "source": [
    "from keras.utils import to_categorical\n",
    "from keras import models\n",
    "from keras import layers"
   ]
  },
  {
   "cell_type": "code",
   "execution_count": 3,
   "metadata": {
    "collapsed": true
   },
   "outputs": [],
   "source": [
    "from keras.models import Sequential\n",
    "from keras.layers import Dense"
   ]
  },
  {
   "cell_type": "code",
   "execution_count": 4,
   "metadata": {
    "collapsed": true
   },
   "outputs": [],
   "source": [
    "from sklearn import tree"
   ]
  },
  {
   "cell_type": "code",
   "execution_count": 5,
   "metadata": {
    "collapsed": true
   },
   "outputs": [],
   "source": [
    "from sklearn.tree import DecisionTreeClassifier,export_graphviz"
   ]
  },
  {
   "cell_type": "code",
   "execution_count": 6,
   "metadata": {
    "collapsed": true
   },
   "outputs": [],
   "source": [
    "from sklearn.model_selection import train_test_split"
   ]
  },
  {
   "cell_type": "code",
   "execution_count": 7,
   "metadata": {
    "collapsed": true
   },
   "outputs": [],
   "source": [
    "from matplotlib import pyplot as plt"
   ]
  },
  {
   "cell_type": "code",
   "execution_count": 8,
   "metadata": {
    "collapsed": true
   },
   "outputs": [],
   "source": [
    "import seaborn as sns"
   ]
  },
  {
   "cell_type": "code",
   "execution_count": 9,
   "metadata": {
    "collapsed": true
   },
   "outputs": [],
   "source": [
    "import graphviz # anaconda prompt- pip install graphviz"
   ]
  },
  {
   "cell_type": "markdown",
   "metadata": {},
   "source": [
    "import pydotplus"
   ]
  },
  {
   "cell_type": "code",
   "execution_count": 10,
   "metadata": {
    "collapsed": true
   },
   "outputs": [],
   "source": [
    "import pydotplus # anaconda prompt- pip install pydotplus"
   ]
  },
  {
   "cell_type": "code",
   "execution_count": 11,
   "metadata": {
    "collapsed": true
   },
   "outputs": [],
   "source": [
    "import io \n",
    "from scipy import misc\n",
    "%matplotlib inline"
   ]
  },
  {
   "cell_type": "code",
   "execution_count": 12,
   "metadata": {
    "collapsed": true
   },
   "outputs": [],
   "source": [
    "# Make results reproducible\n",
    "seed = 1234\n",
    "np.random.seed(seed)\n",
    "tf.set_random_seed(seed)"
   ]
  },
  {
   "cell_type": "code",
   "execution_count": 13,
   "metadata": {
    "collapsed": true
   },
   "outputs": [],
   "source": [
    "file = '../../input/drug_data.csv'\n",
    "dataset = pd.read_csv(file, 'rb', delimiter =';')"
   ]
  },
  {
   "cell_type": "code",
   "execution_count": 14,
   "metadata": {
    "collapsed": true
   },
   "outputs": [],
   "source": [
    "from sklearn import preprocessing\n",
    "le = preprocessing.LabelEncoder()\n",
    "df = pd.DataFrame(dataset)\n",
    "cols = df.columns[1:13]\n",
    "for col in cols:\n",
    "    le.fit(dataset[col])\n",
    "    dataset[col] = le.transform(dataset[col])"
   ]
  },
  {
   "cell_type": "code",
   "execution_count": 15,
   "metadata": {
    "collapsed": true
   },
   "outputs": [],
   "source": [
    "cols = df.columns[13:]\n",
    "for col in cols:\n",
    "    dataset[col] = dataset[col].str.replace('CL','').astype(int)    "
   ]
  },
  {
   "cell_type": "code",
   "execution_count": 16,
   "metadata": {
    "collapsed": true
   },
   "outputs": [],
   "source": [
    "cols = df.columns[13:]\n",
    "for col in cols:\n",
    "    if col != 'Alcohol':\n",
    "        df.__delitem__(col)\n",
    "      "
   ]
  },
  {
   "cell_type": "code",
   "execution_count": 17,
   "metadata": {},
   "outputs": [
    {
     "data": {
      "text/plain": [
       "['ID',\n",
       " 'Age',\n",
       " 'Gender',\n",
       " 'Education',\n",
       " 'Country',\n",
       " 'Ethnicity',\n",
       " 'Nscore',\n",
       " 'Escore',\n",
       " 'Oscore',\n",
       " 'Ascore',\n",
       " 'Cscore',\n",
       " 'Impulsive',\n",
       " 'SS',\n",
       " 'Alcohol_0',\n",
       " 'Alcohol_1',\n",
       " 'Alcohol_2',\n",
       " 'Alcohol_3',\n",
       " 'Alcohol_4',\n",
       " 'Alcohol_5',\n",
       " 'Alcohol_6']"
      ]
     },
     "execution_count": 17,
     "metadata": {},
     "output_type": "execute_result"
    }
   ],
   "source": [
    "dataset = pd.get_dummies(dataset, columns=['Alcohol']) # One Hot Encoding\n",
    "values = list(dataset.columns.values)\n",
    "values"
   ]
  },
  {
   "cell_type": "code",
   "execution_count": 18,
   "metadata": {},
   "outputs": [
    {
     "data": {
      "text/plain": [
       "array([[ 0.,  0.,  0., ...,  0.,  1.,  0.],\n",
       "       [ 0.,  0.,  0., ...,  0.,  1.,  0.],\n",
       "       [ 0.,  0.,  0., ...,  0.,  0.,  1.],\n",
       "       ..., \n",
       "       [ 0.,  0.,  0., ...,  1.,  0.,  0.],\n",
       "       [ 0.,  0.,  0., ...,  0.,  1.,  0.],\n",
       "       [ 0.,  0.,  0., ...,  1.,  0.,  0.]], dtype=float32)"
      ]
     },
     "execution_count": 18,
     "metadata": {},
     "output_type": "execute_result"
    }
   ],
   "source": [
    "y = dataset[values[13:]]\n",
    "y = np.array(y, dtype='float32')\n",
    "y"
   ]
  },
  {
   "cell_type": "code",
   "execution_count": 19,
   "metadata": {},
   "outputs": [
    {
     "data": {
      "text/plain": [
       "array([[  2.,   1.,   0., ...,   0.,   0.,   3.],\n",
       "       [  0.,   0.,   8., ...,   1.,   1.,   0.],\n",
       "       [  2.,   0.,   0., ...,   8.,   2.,   7.],\n",
       "       ..., \n",
       "       [  0.,   1.,   6., ...,  11.,   5.,   1.],\n",
       "       [  1.,   1.,   1., ...,  20.,   7.,   9.],\n",
       "       [  1.,   0.,   1., ...,  27.,   6.,   9.]], dtype=float32)"
      ]
     },
     "execution_count": 19,
     "metadata": {},
     "output_type": "execute_result"
    }
   ],
   "source": [
    "X = dataset[values[1:13]]\n",
    "X = np.array(X, dtype='float32')\n",
    "X"
   ]
  },
  {
   "cell_type": "code",
   "execution_count": 20,
   "metadata": {},
   "outputs": [],
   "source": [
    "# Shuffle Data\n",
    "indices = np.random.choice(len(X), len(X), replace=False)\n",
    "X_values = X[indices]\n",
    "y_values = y[indices]\n",
    "\n",
    "# Creating a Train and a Test Dataset\n",
    "test_size = 1600\n",
    "X_test = X_values[test_size:]\n",
    "X_train = X_values[:test_size]\n",
    "y_test = y_values[test_size:]\n",
    "y_train = y_values[:test_size]"
   ]
  },
  {
   "cell_type": "code",
   "execution_count": 21,
   "metadata": {
    "collapsed": true
   },
   "outputs": [],
   "source": [
    "# create model\n",
    "model = Sequential()\n",
    "model.add(Dense(12, input_dim=12, activation='relu'))\n",
    "model.add(Dense(12, activation='relu'))\n",
    "model.add(Dense(7, activation='sigmoid'))"
   ]
  },
  {
   "cell_type": "code",
   "execution_count": 22,
   "metadata": {
    "collapsed": true
   },
   "outputs": [],
   "source": [
    "# Compile model\n",
    "model.compile(loss='binary_crossentropy', optimizer='adam', metrics=['accuracy'])"
   ]
  },
  {
   "cell_type": "code",
   "execution_count": 23,
   "metadata": {
    "scrolled": true
   },
   "outputs": [
    {
     "name": "stdout",
     "output_type": "stream",
     "text": [
      "Epoch 1/150\n",
      "1885/1885 [==============================] - 0s 192us/step - loss: 1.4448 - acc: 0.6600\n",
      "Epoch 2/150\n",
      "1885/1885 [==============================] - 0s 95us/step - loss: 0.4688 - acc: 0.8005\n",
      "Epoch 3/150\n",
      "1885/1885 [==============================] - 0s 94us/step - loss: 0.3854 - acc: 0.8496\n",
      "Epoch 4/150\n",
      "1885/1885 [==============================] - 0s 85us/step - loss: 0.3594 - acc: 0.8537\n",
      "Epoch 5/150\n",
      "1885/1885 [==============================] - 0s 81us/step - loss: 0.3499 - acc: 0.8562\n",
      "Epoch 6/150\n",
      "1885/1885 [==============================] - 0s 85us/step - loss: 0.3459 - acc: 0.8570\n",
      "Epoch 7/150\n",
      "1885/1885 [==============================] - 0s 80us/step - loss: 0.3440 - acc: 0.8567\n",
      "Epoch 8/150\n",
      "1885/1885 [==============================] - 0s 83us/step - loss: 0.3426 - acc: 0.8570\n",
      "Epoch 9/150\n",
      "1885/1885 [==============================] - 0s 84us/step - loss: 0.3419 - acc: 0.8572\n",
      "Epoch 10/150\n",
      "1885/1885 [==============================] - 0s 84us/step - loss: 0.3408 - acc: 0.8576\n",
      "Epoch 11/150\n",
      "1885/1885 [==============================] - 0s 81us/step - loss: 0.3402 - acc: 0.8571\n",
      "Epoch 12/150\n",
      "1885/1885 [==============================] - 0s 81us/step - loss: 0.3398 - acc: 0.8571\n",
      "Epoch 13/150\n",
      "1885/1885 [==============================] - 0s 86us/step - loss: 0.3392 - acc: 0.8576\n",
      "Epoch 14/150\n",
      "1885/1885 [==============================] - 0s 87us/step - loss: 0.3387 - acc: 0.8573\n",
      "Epoch 15/150\n",
      "1885/1885 [==============================] - 0s 80us/step - loss: 0.3383 - acc: 0.8575\n",
      "Epoch 16/150\n",
      "1885/1885 [==============================] - 0s 81us/step - loss: 0.3378 - acc: 0.8573\n",
      "Epoch 17/150\n",
      "1885/1885 [==============================] - 0s 81us/step - loss: 0.3375 - acc: 0.8571\n",
      "Epoch 18/150\n",
      "1885/1885 [==============================] - 0s 85us/step - loss: 0.3369 - acc: 0.8570\n",
      "Epoch 19/150\n",
      "1885/1885 [==============================] - 0s 95us/step - loss: 0.3369 - acc: 0.8568\n",
      "Epoch 20/150\n",
      "1885/1885 [==============================] - 0s 93us/step - loss: 0.3363 - acc: 0.8574\n",
      "Epoch 21/150\n",
      "1885/1885 [==============================] - 0s 88us/step - loss: 0.3360 - acc: 0.8576\n",
      "Epoch 22/150\n",
      "1885/1885 [==============================] - 0s 87us/step - loss: 0.3360 - acc: 0.8574\n",
      "Epoch 23/150\n",
      "1885/1885 [==============================] - 0s 81us/step - loss: 0.3355 - acc: 0.8577\n",
      "Epoch 24/150\n",
      "1885/1885 [==============================] - 0s 87us/step - loss: 0.3356 - acc: 0.8571\n",
      "Epoch 25/150\n",
      "1885/1885 [==============================] - 0s 92us/step - loss: 0.3346 - acc: 0.8577\n",
      "Epoch 26/150\n",
      "1885/1885 [==============================] - 0s 85us/step - loss: 0.3351 - acc: 0.8574\n",
      "Epoch 27/150\n",
      "1885/1885 [==============================] - 0s 80us/step - loss: 0.3339 - acc: 0.8584\n",
      "Epoch 28/150\n",
      "1885/1885 [==============================] - 0s 81us/step - loss: 0.3337 - acc: 0.8576\n",
      "Epoch 29/150\n",
      "1885/1885 [==============================] - 0s 81us/step - loss: 0.3337 - acc: 0.8581\n",
      "Epoch 30/150\n",
      "1885/1885 [==============================] - 0s 85us/step - loss: 0.3334 - acc: 0.8577\n",
      "Epoch 31/150\n",
      "1885/1885 [==============================] - 0s 88us/step - loss: 0.3330 - acc: 0.8587\n",
      "Epoch 32/150\n",
      "1885/1885 [==============================] - 0s 85us/step - loss: 0.3327 - acc: 0.8584\n",
      "Epoch 33/150\n",
      "1885/1885 [==============================] - 0s 89us/step - loss: 0.3325 - acc: 0.8581\n",
      "Epoch 34/150\n",
      "1885/1885 [==============================] - 0s 89us/step - loss: 0.3323 - acc: 0.8593\n",
      "Epoch 35/150\n",
      "1885/1885 [==============================] - 0s 89us/step - loss: 0.3320 - acc: 0.8584\n",
      "Epoch 36/150\n",
      "1885/1885 [==============================] - 0s 89us/step - loss: 0.3317 - acc: 0.8585\n",
      "Epoch 37/150\n",
      "1885/1885 [==============================] - 0s 89us/step - loss: 0.3312 - acc: 0.8586\n",
      "Epoch 38/150\n",
      "1885/1885 [==============================] - 0s 85us/step - loss: 0.3311 - acc: 0.8587\n",
      "Epoch 39/150\n",
      "1885/1885 [==============================] - 0s 87us/step - loss: 0.3309 - acc: 0.8596\n",
      "Epoch 40/150\n",
      "1885/1885 [==============================] - 0s 87us/step - loss: 0.3308 - acc: 0.8599\n",
      "Epoch 41/150\n",
      "1885/1885 [==============================] - 0s 83us/step - loss: 0.3304 - acc: 0.8591\n",
      "Epoch 42/150\n",
      "1885/1885 [==============================] - 0s 81us/step - loss: 0.3304 - acc: 0.8590\n",
      "Epoch 43/150\n",
      "1885/1885 [==============================] - 0s 81us/step - loss: 0.3302 - acc: 0.8591\n",
      "Epoch 44/150\n",
      "1885/1885 [==============================] - 0s 80us/step - loss: 0.3297 - acc: 0.8590\n",
      "Epoch 45/150\n",
      "1885/1885 [==============================] - 0s 83us/step - loss: 0.3296 - acc: 0.8586\n",
      "Epoch 46/150\n",
      "1885/1885 [==============================] - 0s 80us/step - loss: 0.3289 - acc: 0.8600\n",
      "Epoch 47/150\n",
      "1885/1885 [==============================] - 0s 80us/step - loss: 0.3287 - acc: 0.8597\n",
      "Epoch 48/150\n",
      "1885/1885 [==============================] - 0s 80us/step - loss: 0.3286 - acc: 0.8598\n",
      "Epoch 49/150\n",
      "1885/1885 [==============================] - 0s 85us/step - loss: 0.3293 - acc: 0.8593\n",
      "Epoch 50/150\n",
      "1885/1885 [==============================] - 0s 80us/step - loss: 0.3286 - acc: 0.8596\n",
      "Epoch 51/150\n",
      "1885/1885 [==============================] - 0s 79us/step - loss: 0.3286 - acc: 0.8599\n",
      "Epoch 52/150\n",
      "1885/1885 [==============================] - 0s 81us/step - loss: 0.3282 - acc: 0.8593\n",
      "Epoch 53/150\n",
      "1885/1885 [==============================] - ETA: 0s - loss: 0.3297 - acc: 0.859 - 0s 79us/step - loss: 0.3276 - acc: 0.8600\n",
      "Epoch 54/150\n",
      "1885/1885 [==============================] - 0s 84us/step - loss: 0.3281 - acc: 0.8591\n",
      "Epoch 55/150\n",
      "1885/1885 [==============================] - 0s 80us/step - loss: 0.3274 - acc: 0.8593\n",
      "Epoch 56/150\n",
      "1885/1885 [==============================] - 0s 80us/step - loss: 0.3270 - acc: 0.8596\n",
      "Epoch 57/150\n",
      "1885/1885 [==============================] - 0s 81us/step - loss: 0.3277 - acc: 0.8593\n",
      "Epoch 58/150\n",
      "1885/1885 [==============================] - 0s 84us/step - loss: 0.3268 - acc: 0.8607\n",
      "Epoch 59/150\n",
      "1885/1885 [==============================] - 0s 80us/step - loss: 0.3273 - acc: 0.8593\n",
      "Epoch 60/150\n",
      "1885/1885 [==============================] - 0s 80us/step - loss: 0.3262 - acc: 0.8605\n",
      "Epoch 61/150\n",
      "1885/1885 [==============================] - 0s 81us/step - loss: 0.3266 - acc: 0.8597\n",
      "Epoch 62/150\n",
      "1885/1885 [==============================] - 0s 80us/step - loss: 0.3261 - acc: 0.8603\n",
      "Epoch 63/150\n",
      "1885/1885 [==============================] - 0s 81us/step - loss: 0.3257 - acc: 0.8603\n",
      "Epoch 64/150\n",
      "1885/1885 [==============================] - 0s 80us/step - loss: 0.3259 - acc: 0.8599\n",
      "Epoch 65/150\n",
      "1885/1885 [==============================] - 0s 81us/step - loss: 0.3252 - acc: 0.8600\n",
      "Epoch 66/150\n",
      "1885/1885 [==============================] - 0s 80us/step - loss: 0.3256 - acc: 0.8597\n",
      "Epoch 67/150\n",
      "1885/1885 [==============================] - 0s 81us/step - loss: 0.3255 - acc: 0.8601\n",
      "Epoch 68/150\n",
      "1885/1885 [==============================] - 0s 83us/step - loss: 0.3252 - acc: 0.8609\n",
      "Epoch 69/150\n",
      "1885/1885 [==============================] - 0s 76us/step - loss: 0.3251 - acc: 0.8606\n",
      "Epoch 70/150\n",
      "1885/1885 [==============================] - 0s 78us/step - loss: 0.3256 - acc: 0.8596\n",
      "Epoch 71/150\n",
      "1885/1885 [==============================] - 0s 77us/step - loss: 0.3249 - acc: 0.8607\n",
      "Epoch 72/150\n",
      "1885/1885 [==============================] - 0s 76us/step - loss: 0.3245 - acc: 0.8605\n",
      "Epoch 73/150\n",
      "1885/1885 [==============================] - 0s 77us/step - loss: 0.3251 - acc: 0.8606\n",
      "Epoch 74/150\n",
      "1885/1885 [==============================] - 0s 76us/step - loss: 0.3241 - acc: 0.8606\n",
      "Epoch 75/150\n",
      "1885/1885 [==============================] - 0s 76us/step - loss: 0.3239 - acc: 0.8613\n",
      "Epoch 76/150\n",
      "1885/1885 [==============================] - 0s 78us/step - loss: 0.3242 - acc: 0.8610\n",
      "Epoch 77/150\n",
      "1885/1885 [==============================] - 0s 77us/step - loss: 0.3242 - acc: 0.8612\n",
      "Epoch 78/150\n",
      "1885/1885 [==============================] - 0s 76us/step - loss: 0.3238 - acc: 0.8611\n",
      "Epoch 79/150\n",
      "1885/1885 [==============================] - 0s 77us/step - loss: 0.3236 - acc: 0.8607\n",
      "Epoch 80/150\n",
      "1885/1885 [==============================] - 0s 76us/step - loss: 0.3238 - acc: 0.8608\n",
      "Epoch 81/150\n",
      "1885/1885 [==============================] - 0s 79us/step - loss: 0.3240 - acc: 0.8601\n",
      "Epoch 82/150\n"
     ]
    },
    {
     "name": "stdout",
     "output_type": "stream",
     "text": [
      "1885/1885 [==============================] - 0s 84us/step - loss: 0.3231 - acc: 0.8615\n",
      "Epoch 83/150\n",
      "1885/1885 [==============================] - 0s 78us/step - loss: 0.3232 - acc: 0.8607\n",
      "Epoch 84/150\n",
      "1885/1885 [==============================] - 0s 77us/step - loss: 0.3230 - acc: 0.8612\n",
      "Epoch 85/150\n",
      "1885/1885 [==============================] - 0s 78us/step - loss: 0.3226 - acc: 0.8604\n",
      "Epoch 86/150\n",
      "1885/1885 [==============================] - 0s 80us/step - loss: 0.3232 - acc: 0.8610\n",
      "Epoch 87/150\n",
      "1885/1885 [==============================] - 0s 85us/step - loss: 0.3228 - acc: 0.8604\n",
      "Epoch 88/150\n",
      "1885/1885 [==============================] - 0s 83us/step - loss: 0.3224 - acc: 0.8603\n",
      "Epoch 89/150\n",
      "1885/1885 [==============================] - 0s 78us/step - loss: 0.3225 - acc: 0.8612\n",
      "Epoch 90/150\n",
      "1885/1885 [==============================] - 0s 78us/step - loss: 0.3225 - acc: 0.8603\n",
      "Epoch 91/150\n",
      "1885/1885 [==============================] - 0s 77us/step - loss: 0.3225 - acc: 0.8608\n",
      "Epoch 92/150\n",
      "1885/1885 [==============================] - 0s 77us/step - loss: 0.3224 - acc: 0.8613\n",
      "Epoch 93/150\n",
      "1885/1885 [==============================] - 0s 81us/step - loss: 0.3229 - acc: 0.8612\n",
      "Epoch 94/150\n",
      "1885/1885 [==============================] - 0s 91us/step - loss: 0.3221 - acc: 0.8609\n",
      "Epoch 95/150\n",
      "1885/1885 [==============================] - 0s 90us/step - loss: 0.3220 - acc: 0.8621\n",
      "Epoch 96/150\n",
      "1885/1885 [==============================] - 0s 79us/step - loss: 0.3222 - acc: 0.8634\n",
      "Epoch 97/150\n",
      "1885/1885 [==============================] - 0s 78us/step - loss: 0.3223 - acc: 0.8606\n",
      "Epoch 98/150\n",
      "1885/1885 [==============================] - 0s 86us/step - loss: 0.3213 - acc: 0.8621\n",
      "Epoch 99/150\n",
      "1885/1885 [==============================] - 0s 88us/step - loss: 0.3216 - acc: 0.8618\n",
      "Epoch 100/150\n",
      "1885/1885 [==============================] - 0s 90us/step - loss: 0.3216 - acc: 0.8615\n",
      "Epoch 101/150\n",
      "1885/1885 [==============================] - 0s 92us/step - loss: 0.3214 - acc: 0.8618\n",
      "Epoch 102/150\n",
      "1885/1885 [==============================] - 0s 83us/step - loss: 0.3218 - acc: 0.8614\n",
      "Epoch 103/150\n",
      "1885/1885 [==============================] - 0s 78us/step - loss: 0.3210 - acc: 0.8618\n",
      "Epoch 104/150\n",
      "1885/1885 [==============================] - 0s 84us/step - loss: 0.3213 - acc: 0.8621\n",
      "Epoch 105/150\n",
      "1885/1885 [==============================] - 0s 84us/step - loss: 0.3213 - acc: 0.8619\n",
      "Epoch 106/150\n",
      "1885/1885 [==============================] - 0s 89us/step - loss: 0.3210 - acc: 0.8624\n",
      "Epoch 107/150\n",
      "1885/1885 [==============================] - 0s 92us/step - loss: 0.3207 - acc: 0.8629\n",
      "Epoch 108/150\n",
      "1885/1885 [==============================] - 0s 80us/step - loss: 0.3208 - acc: 0.8628\n",
      "Epoch 109/150\n",
      "1885/1885 [==============================] - 0s 78us/step - loss: 0.3211 - acc: 0.8621\n",
      "Epoch 110/150\n",
      "1885/1885 [==============================] - 0s 78us/step - loss: 0.3211 - acc: 0.8623\n",
      "Epoch 111/150\n",
      "1885/1885 [==============================] - 0s 79us/step - loss: 0.3208 - acc: 0.8632\n",
      "Epoch 112/150\n",
      "1885/1885 [==============================] - 0s 95us/step - loss: 0.3204 - acc: 0.8632\n",
      "Epoch 113/150\n",
      "1885/1885 [==============================] - 0s 85us/step - loss: 0.3204 - acc: 0.8621\n",
      "Epoch 114/150\n",
      "1885/1885 [==============================] - 0s 87us/step - loss: 0.3201 - acc: 0.8624\n",
      "Epoch 115/150\n",
      "1885/1885 [==============================] - 0s 85us/step - loss: 0.3202 - acc: 0.8624\n",
      "Epoch 116/150\n",
      "1885/1885 [==============================] - 0s 83us/step - loss: 0.3205 - acc: 0.8626\n",
      "Epoch 117/150\n",
      "1885/1885 [==============================] - 0s 80us/step - loss: 0.3198 - acc: 0.8628\n",
      "Epoch 118/150\n",
      "1885/1885 [==============================] - 0s 77us/step - loss: 0.3198 - acc: 0.8635\n",
      "Epoch 119/150\n",
      "1885/1885 [==============================] - 0s 77us/step - loss: 0.3202 - acc: 0.8620\n",
      "Epoch 120/150\n",
      "1885/1885 [==============================] - 0s 75us/step - loss: 0.3194 - acc: 0.8630\n",
      "Epoch 121/150\n",
      "1885/1885 [==============================] - 0s 75us/step - loss: 0.3202 - acc: 0.8618\n",
      "Epoch 122/150\n",
      "1885/1885 [==============================] - 0s 84us/step - loss: 0.3197 - acc: 0.8631\n",
      "Epoch 123/150\n",
      "1885/1885 [==============================] - 0s 86us/step - loss: 0.3194 - acc: 0.8631\n",
      "Epoch 124/150\n",
      "1885/1885 [==============================] - 0s 81us/step - loss: 0.3196 - acc: 0.8625\n",
      "Epoch 125/150\n",
      "1885/1885 [==============================] - 0s 78us/step - loss: 0.3190 - acc: 0.8628\n",
      "Epoch 126/150\n",
      "1885/1885 [==============================] - 0s 87us/step - loss: 0.3197 - acc: 0.8636\n",
      "Epoch 127/150\n",
      "1885/1885 [==============================] - 0s 86us/step - loss: 0.3196 - acc: 0.8621\n",
      "Epoch 128/150\n",
      "1885/1885 [==============================] - 0s 88us/step - loss: 0.3189 - acc: 0.8634\n",
      "Epoch 129/150\n",
      "1885/1885 [==============================] - 0s 86us/step - loss: 0.3191 - acc: 0.8630\n",
      "Epoch 130/150\n",
      "1885/1885 [==============================] - 0s 86us/step - loss: 0.3190 - acc: 0.8627\n",
      "Epoch 131/150\n",
      "1885/1885 [==============================] - 0s 83us/step - loss: 0.3187 - acc: 0.8628\n",
      "Epoch 132/150\n",
      "1885/1885 [==============================] - 0s 78us/step - loss: 0.3190 - acc: 0.8646\n",
      "Epoch 133/150\n",
      "1885/1885 [==============================] - 0s 77us/step - loss: 0.3186 - acc: 0.8653\n",
      "Epoch 134/150\n",
      "1885/1885 [==============================] - 0s 77us/step - loss: 0.3188 - acc: 0.8627\n",
      "Epoch 135/150\n",
      "1885/1885 [==============================] - 0s 75us/step - loss: 0.3183 - acc: 0.8621\n",
      "Epoch 136/150\n",
      "1885/1885 [==============================] - 0s 78us/step - loss: 0.3187 - acc: 0.8631\n",
      "Epoch 137/150\n",
      "1885/1885 [==============================] - 0s 81us/step - loss: 0.3183 - acc: 0.8640\n",
      "Epoch 138/150\n",
      "1885/1885 [==============================] - 0s 78us/step - loss: 0.3184 - acc: 0.8630\n",
      "Epoch 139/150\n",
      "1885/1885 [==============================] - 0s 76us/step - loss: 0.3181 - acc: 0.8637\n",
      "Epoch 140/150\n",
      "1885/1885 [==============================] - 0s 75us/step - loss: 0.3179 - acc: 0.8624\n",
      "Epoch 141/150\n",
      "1885/1885 [==============================] - 0s 75us/step - loss: 0.3189 - acc: 0.8638\n",
      "Epoch 142/150\n",
      "1885/1885 [==============================] - 0s 75us/step - loss: 0.3177 - acc: 0.8631\n",
      "Epoch 143/150\n",
      "1885/1885 [==============================] - 0s 78us/step - loss: 0.3183 - acc: 0.8636\n",
      "Epoch 144/150\n",
      "1885/1885 [==============================] - 0s 85us/step - loss: 0.3178 - acc: 0.8644\n",
      "Epoch 145/150\n",
      "1885/1885 [==============================] - 0s 77us/step - loss: 0.3184 - acc: 0.8635\n",
      "Epoch 146/150\n",
      "1885/1885 [==============================] - 0s 75us/step - loss: 0.3179 - acc: 0.8630\n",
      "Epoch 147/150\n",
      "1885/1885 [==============================] - 0s 76us/step - loss: 0.3181 - acc: 0.8634\n",
      "Epoch 148/150\n",
      "1885/1885 [==============================] - 0s 76us/step - loss: 0.3183 - acc: 0.8641\n",
      "Epoch 149/150\n",
      "1885/1885 [==============================] - 0s 75us/step - loss: 0.3181 - acc: 0.8627\n",
      "Epoch 150/150\n",
      "1885/1885 [==============================] - 0s 84us/step - loss: 0.3173 - acc: 0.8631\n"
     ]
    },
    {
     "data": {
      "text/plain": [
       "<keras.callbacks.History at 0x1f3163d2d30>"
      ]
     },
     "execution_count": 23,
     "metadata": {},
     "output_type": "execute_result"
    }
   ],
   "source": [
    "# Fit the model\n",
    "model.fit(X_values, y_values, epochs=150, batch_size=10)"
   ]
  },
  {
   "cell_type": "code",
   "execution_count": 24,
   "metadata": {},
   "outputs": [
    {
     "name": "stdout",
     "output_type": "stream",
     "text": [
      "1885/1885 [==============================] - 0s 38us/step\n",
      "\n",
      "['loss', 'acc']: 86.46%\n"
     ]
    }
   ],
   "source": [
    "# evaluate the model\n",
    "scores = model.evaluate(X_values, y_values)\n",
    "print(\"\\n%s: %.2f%%\" % (model.metrics_names[1], scores[1]*100))"
   ]
  },
  {
   "cell_type": "code",
   "execution_count": null,
   "metadata": {
    "collapsed": true
   },
   "outputs": [],
   "source": []
  }
 ],
 "metadata": {
  "kernelspec": {
   "display_name": "Python 3",
   "language": "python",
   "name": "python3"
  },
  "language_info": {
   "codemirror_mode": {
    "name": "ipython",
    "version": 3
   },
   "file_extension": ".py",
   "mimetype": "text/x-python",
   "name": "python",
   "nbconvert_exporter": "python",
   "pygments_lexer": "ipython3",
   "version": "3.6.3"
  }
 },
 "nbformat": 4,
 "nbformat_minor": 2
}
