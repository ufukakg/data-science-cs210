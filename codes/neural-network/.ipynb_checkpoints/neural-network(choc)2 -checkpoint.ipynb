{
 "cells": [
  {
   "cell_type": "code",
   "execution_count": 1,
   "metadata": {
    "collapsed": true
   },
   "outputs": [],
   "source": [
    "import tensorflow as tf\n",
    "import pandas as pd\n",
    "import numpy as np"
   ]
  },
  {
   "cell_type": "code",
   "execution_count": 2,
   "metadata": {},
   "outputs": [
    {
     "name": "stderr",
     "output_type": "stream",
     "text": [
      "C:\\Users\\CS210\\Anaconda3\\lib\\site-packages\\sklearn\\cross_validation.py:41: DeprecationWarning: This module was deprecated in version 0.18 in favor of the model_selection module into which all the refactored classes and functions are moved. Also note that the interface of the new CV iterators are different from that of this module. This module will be removed in 0.20.\n",
      "  \"This module will be removed in 0.20.\", DeprecationWarning)\n"
     ]
    }
   ],
   "source": [
    "from sklearn.preprocessing import LabelEncoder\n",
    "from sklearn.cross_validation import train_test_split\n",
    "from sklearn.metrics import precision_score"
   ]
  },
  {
   "cell_type": "code",
   "execution_count": 8,
   "metadata": {
    "collapsed": true
   },
   "outputs": [],
   "source": [
    "from keras.models import Sequential\n",
    "from keras.layers import Activation\n",
    "from keras.optimizers import SGD\n",
    "from keras.layers import Dense\n",
    "from keras.utils import np_utils"
   ]
  },
  {
   "cell_type": "code",
   "execution_count": 9,
   "metadata": {
    "collapsed": true
   },
   "outputs": [],
   "source": [
    "from sklearn.model_selection import train_test_split"
   ]
  },
  {
   "cell_type": "code",
   "execution_count": 10,
   "metadata": {
    "collapsed": true
   },
   "outputs": [],
   "source": [
    "from matplotlib import pyplot as plt"
   ]
  },
  {
   "cell_type": "code",
   "execution_count": 11,
   "metadata": {
    "collapsed": true
   },
   "outputs": [],
   "source": [
    "import seaborn as sns"
   ]
  },
  {
   "cell_type": "code",
   "execution_count": 12,
   "metadata": {
    "collapsed": true
   },
   "outputs": [],
   "source": [
    "import graphviz # anaconda prompt- pip install graphviz"
   ]
  },
  {
   "cell_type": "markdown",
   "metadata": {},
   "source": [
    "import pydotplus"
   ]
  },
  {
   "cell_type": "code",
   "execution_count": 13,
   "metadata": {
    "collapsed": true
   },
   "outputs": [],
   "source": [
    "import pydotplus # anaconda prompt- pip install pydotplus"
   ]
  },
  {
   "cell_type": "code",
   "execution_count": 14,
   "metadata": {
    "collapsed": true
   },
   "outputs": [],
   "source": [
    "import io \n",
    "from scipy import misc\n",
    "%matplotlib inline"
   ]
  },
  {
   "cell_type": "code",
   "execution_count": 15,
   "metadata": {
    "collapsed": true
   },
   "outputs": [],
   "source": [
    "# Make results reproducible\n",
    "seed = 1234\n",
    "np.random.seed(seed)\n",
    "tf.set_random_seed(seed)"
   ]
  },
  {
   "cell_type": "code",
   "execution_count": 16,
   "metadata": {
    "collapsed": true
   },
   "outputs": [],
   "source": [
    "file = '../../input/drug_data.csv'\n",
    "dataset = pd.read_csv(file, 'rb', delimiter =';')"
   ]
  },
  {
   "cell_type": "code",
   "execution_count": 17,
   "metadata": {
    "collapsed": true
   },
   "outputs": [],
   "source": [
    "from sklearn import preprocessing\n",
    "le = preprocessing.LabelEncoder()\n",
    "df = pd.DataFrame(dataset)\n",
    "cols = df.columns[1:13]\n",
    "for col in cols:\n",
    "    le.fit(dataset[col])\n",
    "    dataset[col] = le.transform(dataset[col])"
   ]
  },
  {
   "cell_type": "code",
   "execution_count": 18,
   "metadata": {
    "collapsed": true
   },
   "outputs": [],
   "source": [
    "cols = df.columns[13:]\n",
    "for col in cols:\n",
    "    dataset[col] = dataset[col].str.replace('CL','').astype(int)    "
   ]
  },
  {
   "cell_type": "code",
   "execution_count": 19,
   "metadata": {
    "collapsed": true
   },
   "outputs": [],
   "source": [
    "cols = df.columns[13:]\n",
    "for col in cols:\n",
    "    if col != 'Chocolate':\n",
    "        df.__delitem__(col)\n",
    "      "
   ]
  },
  {
   "cell_type": "code",
   "execution_count": 20,
   "metadata": {},
   "outputs": [
    {
     "data": {
      "text/plain": [
       "['ID',\n",
       " 'Age',\n",
       " 'Gender',\n",
       " 'Education',\n",
       " 'Country',\n",
       " 'Ethnicity',\n",
       " 'Nscore',\n",
       " 'Escore',\n",
       " 'Oscore',\n",
       " 'Ascore',\n",
       " 'Cscore',\n",
       " 'Impulsive',\n",
       " 'SS',\n",
       " 'Chocolate_0',\n",
       " 'Chocolate_1',\n",
       " 'Chocolate_2',\n",
       " 'Chocolate_3',\n",
       " 'Chocolate_4',\n",
       " 'Chocolate_5',\n",
       " 'Chocolate_6']"
      ]
     },
     "execution_count": 20,
     "metadata": {},
     "output_type": "execute_result"
    }
   ],
   "source": [
    "dataset = pd.get_dummies(dataset, columns=['Chocolate']) # One Hot Encoding\n",
    "values = list(dataset.columns.values)\n",
    "values"
   ]
  },
  {
   "cell_type": "code",
   "execution_count": 21,
   "metadata": {},
   "outputs": [
    {
     "data": {
      "text/plain": [
       "array([[ 0.,  0.,  0., ...,  0.,  1.,  0.],\n",
       "       [ 0.,  0.,  0., ...,  0.,  0.,  1.],\n",
       "       [ 0.,  0.,  0., ...,  1.,  0.,  0.],\n",
       "       ..., \n",
       "       [ 0.,  0.,  0., ...,  0.,  0.,  1.],\n",
       "       [ 0.,  0.,  0., ...,  0.,  1.,  0.],\n",
       "       [ 0.,  0.,  0., ...,  0.,  0.,  1.]], dtype=float32)"
      ]
     },
     "execution_count": 21,
     "metadata": {},
     "output_type": "execute_result"
    }
   ],
   "source": [
    "y = dataset[values[13:]]\n",
    "y = np.array(y, dtype='float32')\n",
    "y"
   ]
  },
  {
   "cell_type": "code",
   "execution_count": 22,
   "metadata": {},
   "outputs": [
    {
     "data": {
      "text/plain": [
       "array([[  2.,   1.,   0., ...,   0.,   0.,   3.],\n",
       "       [  0.,   0.,   8., ...,   1.,   1.,   0.],\n",
       "       [  2.,   0.,   0., ...,   8.,   2.,   7.],\n",
       "       ..., \n",
       "       [  0.,   1.,   6., ...,  11.,   5.,   1.],\n",
       "       [  1.,   1.,   1., ...,  20.,   7.,   9.],\n",
       "       [  1.,   0.,   1., ...,  27.,   6.,   9.]], dtype=float32)"
      ]
     },
     "execution_count": 22,
     "metadata": {},
     "output_type": "execute_result"
    }
   ],
   "source": [
    "X = dataset[values[1:13]]\n",
    "X = np.array(X, dtype='float32')\n",
    "X"
   ]
  },
  {
   "cell_type": "code",
   "execution_count": 23,
   "metadata": {
    "collapsed": true
   },
   "outputs": [],
   "source": [
    "# Shuffle Data\n",
    "indices = np.random.choice(len(X), len(X), replace=False)\n",
    "X_values = X[indices]\n",
    "y_values = y[indices]\n",
    "\n",
    "\n",
    "\n",
    "X_train, X_test = train_test_split(X_values, test_size = 0.20)\n",
    "y_train, y_test = train_test_split(y_values, test_size = 0.20)\n",
    "\n",
    "\n",
    "# Creating a Train and a Test Dataset\n",
    "test_size = 377\n",
    "#X_test = X_values[-test_size:]\n",
    "#X_train = X_values[:-test_size]\n",
    "#y_test = y_values[-test_size:]\n",
    "#y_train = y_values[:-test_size]\n"
   ]
  },
  {
   "cell_type": "code",
   "execution_count": 24,
   "metadata": {},
   "outputs": [
    {
     "name": "stdout",
     "output_type": "stream",
     "text": [
      "_________________________________________________________________\n",
      "Layer (type)                 Output Shape              Param #   \n",
      "=================================================================\n",
      "dense_1 (Dense)              (None, 768)               9984      \n",
      "_________________________________________________________________\n",
      "dense_2 (Dense)              (None, 384)               295296    \n",
      "_________________________________________________________________\n",
      "dense_3 (Dense)              (None, 7)                 2695      \n",
      "_________________________________________________________________\n",
      "activation_1 (Activation)    (None, 7)                 0         \n",
      "=================================================================\n",
      "Total params: 307,975\n",
      "Trainable params: 307,975\n",
      "Non-trainable params: 0\n",
      "_________________________________________________________________\n"
     ]
    },
    {
     "name": "stderr",
     "output_type": "stream",
     "text": [
      "C:\\Users\\CS210\\Anaconda3\\lib\\site-packages\\ipykernel_launcher.py:4: UserWarning: Update your `Dense` call to the Keras 2 API: `Dense(768, input_dim=12, activation=\"relu\", kernel_initializer=\"uniform\")`\n",
      "  after removing the cwd from sys.path.\n",
      "C:\\Users\\CS210\\Anaconda3\\lib\\site-packages\\ipykernel_launcher.py:5: UserWarning: Update your `Dense` call to the Keras 2 API: `Dense(384, activation=\"relu\", kernel_initializer=\"uniform\")`\n",
      "  \"\"\"\n"
     ]
    }
   ],
   "source": [
    "# define the architecture of the network\n",
    "model = Sequential()\n",
    "model.add(Dense(768, input_dim=12, init=\"uniform\",\n",
    "\tactivation=\"relu\"))\n",
    "model.add(Dense(384, init=\"uniform\", activation=\"relu\"))\n",
    "model.add(Dense(7))\n",
    "model.add(Activation(\"softmax\"))\n",
    "model.summary()"
   ]
  },
  {
   "cell_type": "code",
   "execution_count": 27,
   "metadata": {
    "scrolled": true
   },
   "outputs": [
    {
     "name": "stdout",
     "output_type": "stream",
     "text": [
      "[INFO] compiling model...\n",
      "Epoch 1/50\n",
      "1508/1508 [==============================] - 0s 177us/step - loss: 0.2821 - acc: 0.8609\n",
      "Epoch 2/50\n",
      "1508/1508 [==============================] - 0s 67us/step - loss: 0.2809 - acc: 0.8638\n",
      "Epoch 3/50\n",
      "1508/1508 [==============================] - 0s 74us/step - loss: 0.2803 - acc: 0.8650\n",
      "Epoch 4/50\n",
      "1508/1508 [==============================] - 0s 68us/step - loss: 0.2804 - acc: 0.8630\n",
      "Epoch 5/50\n",
      "1508/1508 [==============================] - 0s 67us/step - loss: 0.2814 - acc: 0.8630\n",
      "Epoch 6/50\n",
      "1508/1508 [==============================] - 0s 72us/step - loss: 0.2810 - acc: 0.8626\n",
      "Epoch 7/50\n",
      "1508/1508 [==============================] - 0s 68us/step - loss: 0.2805 - acc: 0.8628\n",
      "Epoch 8/50\n",
      "1508/1508 [==============================] - 0s 73us/step - loss: 0.2813 - acc: 0.8642\n",
      "Epoch 9/50\n",
      "1508/1508 [==============================] - 0s 71us/step - loss: 0.2804 - acc: 0.8657\n",
      "Epoch 10/50\n",
      "1508/1508 [==============================] - 0s 68us/step - loss: 0.2806 - acc: 0.8619\n",
      "Epoch 11/50\n",
      "1508/1508 [==============================] - 0s 66us/step - loss: 0.2800 - acc: 0.8646\n",
      "Epoch 12/50\n",
      "1508/1508 [==============================] - 0s 67us/step - loss: 0.2807 - acc: 0.8637\n",
      "Epoch 13/50\n",
      "1508/1508 [==============================] - 0s 77us/step - loss: 0.2808 - acc: 0.8603\n",
      "Epoch 14/50\n",
      "1508/1508 [==============================] - 0s 65us/step - loss: 0.2795 - acc: 0.8628\n",
      "Epoch 15/50\n",
      "1508/1508 [==============================] - 0s 67us/step - loss: 0.2806 - acc: 0.8606\n",
      "Epoch 16/50\n",
      "1508/1508 [==============================] - 0s 69us/step - loss: 0.2791 - acc: 0.8643\n",
      "Epoch 17/50\n",
      "1508/1508 [==============================] - 0s 71us/step - loss: 0.2797 - acc: 0.8642\n",
      "Epoch 18/50\n",
      "1508/1508 [==============================] - 0s 73us/step - loss: 0.2794 - acc: 0.8632\n",
      "Epoch 19/50\n",
      "1508/1508 [==============================] - 0s 70us/step - loss: 0.2797 - acc: 0.8657\n",
      "Epoch 20/50\n",
      "1508/1508 [==============================] - 0s 68us/step - loss: 0.2788 - acc: 0.8648\n",
      "Epoch 21/50\n",
      "1508/1508 [==============================] - 0s 67us/step - loss: 0.2790 - acc: 0.8639\n",
      "Epoch 22/50\n",
      "1508/1508 [==============================] - 0s 68us/step - loss: 0.2810 - acc: 0.8635\n",
      "Epoch 23/50\n",
      "1508/1508 [==============================] - 0s 71us/step - loss: 0.2794 - acc: 0.8643\n",
      "Epoch 24/50\n",
      "1508/1508 [==============================] - 0s 71us/step - loss: 0.2805 - acc: 0.8617\n",
      "Epoch 25/50\n",
      "1508/1508 [==============================] - 0s 72us/step - loss: 0.2779 - acc: 0.8660\n",
      "Epoch 26/50\n",
      "1508/1508 [==============================] - 0s 67us/step - loss: 0.2778 - acc: 0.8658\n",
      "Epoch 27/50\n",
      "1508/1508 [==============================] - 0s 71us/step - loss: 0.2787 - acc: 0.8649\n",
      "Epoch 28/50\n",
      "1508/1508 [==============================] - 0s 66us/step - loss: 0.2794 - acc: 0.8637\n",
      "Epoch 29/50\n",
      "1508/1508 [==============================] - 0s 66us/step - loss: 0.2785 - acc: 0.8653\n",
      "Epoch 30/50\n",
      "1508/1508 [==============================] - 0s 72us/step - loss: 0.2791 - acc: 0.8651\n",
      "Epoch 31/50\n",
      "1508/1508 [==============================] - 0s 75us/step - loss: 0.2787 - acc: 0.8633\n",
      "Epoch 32/50\n",
      "1508/1508 [==============================] - 0s 75us/step - loss: 0.2783 - acc: 0.8634\n",
      "Epoch 33/50\n",
      "1508/1508 [==============================] - 0s 75us/step - loss: 0.2770 - acc: 0.8669\n",
      "Epoch 34/50\n",
      "1508/1508 [==============================] - 0s 68us/step - loss: 0.2775 - acc: 0.8649\n",
      "Epoch 35/50\n",
      "1508/1508 [==============================] - 0s 66us/step - loss: 0.2768 - acc: 0.8671\n",
      "Epoch 36/50\n",
      "1508/1508 [==============================] - 0s 69us/step - loss: 0.2774 - acc: 0.8657\n",
      "Epoch 37/50\n",
      "1508/1508 [==============================] - 0s 71us/step - loss: 0.2774 - acc: 0.8666\n",
      "Epoch 38/50\n",
      "1508/1508 [==============================] - 0s 67us/step - loss: 0.2783 - acc: 0.8672\n",
      "Epoch 39/50\n",
      "1508/1508 [==============================] - 0s 67us/step - loss: 0.2778 - acc: 0.8645\n",
      "Epoch 40/50\n",
      "1508/1508 [==============================] - 0s 69us/step - loss: 0.2762 - acc: 0.8668\n",
      "Epoch 41/50\n",
      "1508/1508 [==============================] - 0s 67us/step - loss: 0.2768 - acc: 0.8660\n",
      "Epoch 42/50\n",
      "1508/1508 [==============================] - 0s 74us/step - loss: 0.2770 - acc: 0.8669\n",
      "Epoch 43/50\n",
      "1508/1508 [==============================] - 0s 71us/step - loss: 0.2784 - acc: 0.8647\n",
      "Epoch 44/50\n",
      "1508/1508 [==============================] - 0s 70us/step - loss: 0.2784 - acc: 0.8643\n",
      "Epoch 45/50\n",
      "1508/1508 [==============================] - 0s 70us/step - loss: 0.2767 - acc: 0.8663\n",
      "Epoch 46/50\n",
      "1508/1508 [==============================] - 0s 67us/step - loss: 0.2765 - acc: 0.8646\n",
      "Epoch 47/50\n",
      "1508/1508 [==============================] - 0s 66us/step - loss: 0.2760 - acc: 0.8662\n",
      "Epoch 48/50\n",
      "1508/1508 [==============================] - 0s 71us/step - loss: 0.2762 - acc: 0.8666\n",
      "Epoch 49/50\n",
      "1508/1508 [==============================] - 0s 71us/step - loss: 0.2760 - acc: 0.8673\n",
      "Epoch 50/50\n",
      "1508/1508 [==============================] - 0s 71us/step - loss: 0.2760 - acc: 0.8672\n"
     ]
    },
    {
     "data": {
      "text/plain": [
       "<keras.callbacks.History at 0x1fe8f9a5cf8>"
      ]
     },
     "execution_count": 27,
     "metadata": {},
     "output_type": "execute_result"
    }
   ],
   "source": [
    "# train the model using SGD\n",
    "print(\"[INFO] compiling model...\")\n",
    "sgd = SGD(lr=0.01)\n",
    "model.compile(loss=\"binary_crossentropy\", optimizer=sgd,\n",
    "\tmetrics=[\"accuracy\"])\n",
    "model.fit(X_train, y_train, epochs=50, batch_size=64,\n",
    "\tverbose=1)"
   ]
  },
  {
   "cell_type": "code",
   "execution_count": 29,
   "metadata": {},
   "outputs": [
    {
     "name": "stdout",
     "output_type": "stream",
     "text": [
      "[INFO] evaluating on testing set...\n",
      "377/377 [==============================] - 0s 24us/step\n",
      "[INFO] loss=0.3045, accuracy: 83.7059%\n"
     ]
    }
   ],
   "source": [
    "# show the accuracy on the testing set\n",
    "print(\"[INFO] evaluating on testing set...\")\n",
    "(loss, accuracy) = model.evaluate(X_test, y_test,\n",
    "\tbatch_size=128, verbose=1)\n",
    "print(\"[INFO] loss={:.4f}, accuracy: {:.4f}%\".format(loss,\n",
    "\taccuracy * 100))"
   ]
  },
  {
   "cell_type": "code",
   "execution_count": 33,
   "metadata": {
    "scrolled": false
   },
   "outputs": [
    {
     "name": "stdout",
     "output_type": "stream",
     "text": [
      "Train on 1508 samples, validate on 377 samples\n",
      "Epoch 1/10\n",
      "1508/1508 [==============================] - 0s 141us/step - loss: 0.2750 - acc: 0.8677 - val_loss: 0.2989 - val_acc: 0.8484\n",
      "Epoch 2/10\n",
      "1508/1508 [==============================] - 0s 132us/step - loss: 0.2743 - acc: 0.8679 - val_loss: 0.2987 - val_acc: 0.8507\n",
      "Epoch 3/10\n",
      "1508/1508 [==============================] - 0s 135us/step - loss: 0.2745 - acc: 0.8676 - val_loss: 0.2976 - val_acc: 0.8534\n",
      "Epoch 4/10\n",
      "1508/1508 [==============================] - 0s 137us/step - loss: 0.2737 - acc: 0.8679 - val_loss: 0.3013 - val_acc: 0.8473\n",
      "Epoch 5/10\n",
      "1508/1508 [==============================] - 0s 137us/step - loss: 0.2739 - acc: 0.8669 - val_loss: 0.3289 - val_acc: 0.8420\n",
      "Epoch 6/10\n",
      "1508/1508 [==============================] - 0s 130us/step - loss: 0.2746 - acc: 0.8695 - val_loss: 0.3146 - val_acc: 0.8412\n",
      "Epoch 7/10\n",
      "1508/1508 [==============================] - 0s 135us/step - loss: 0.2733 - acc: 0.8667 - val_loss: 0.3008 - val_acc: 0.8454\n",
      "Epoch 8/10\n",
      "1508/1508 [==============================] - 0s 144us/step - loss: 0.2720 - acc: 0.8696 - val_loss: 0.3376 - val_acc: 0.8242\n",
      "Epoch 9/10\n",
      "1508/1508 [==============================] - 0s 136us/step - loss: 0.2752 - acc: 0.8680 - val_loss: 0.2988 - val_acc: 0.8492\n",
      "Epoch 10/10\n",
      "1508/1508 [==============================] - 0s 131us/step - loss: 0.2724 - acc: 0.8693 - val_loss: 0.3083 - val_acc: 0.8363\n"
     ]
    }
   ],
   "source": [
    "from sklearn.metrics import classification_report\n",
    "\n",
    "history = model.fit(X_train, y_train, batch_size=32, epochs=10, verbose=1, validation_data=(X_test, y_test), shuffle=True)"
   ]
  },
  {
   "cell_type": "code",
   "execution_count": 62,
   "metadata": {},
   "outputs": [
    {
     "name": "stdout",
     "output_type": "stream",
     "text": [
      "377/377 [==============================] - 0s 48us/step\n",
      "[5, 6, 5, 6, 6, 6, 5, 6, 6, 4, 6, 6, 5, 6, 5, 0, 6, 5, 5, 4, 5, 5, 6, 6, 5, 4, 6, 5, 3, 5, 5, 6, 5, 5, 4, 5, 5, 6, 5, 4, 5, 6, 6, 4, 6, 5, 6, 6, 4, 6, 5, 4, 4, 5, 6, 2, 6, 5, 6, 6, 6, 3, 6, 6, 5, 6, 5, 5, 5, 6, 4, 6, 6, 4, 4, 4, 4, 6, 3, 4, 6, 6, 5, 6, 6, 5, 6, 4, 5, 6, 5, 4, 4, 5, 6, 6, 5, 6, 6, 5, 6, 5, 5, 6, 5, 6, 4, 5, 6, 4, 5, 6, 5, 6, 4, 5, 4, 5, 4, 6, 4, 3, 4, 6, 6, 6, 6, 6, 6, 3, 6, 5, 3, 6, 6, 5, 3, 6, 5, 4, 6, 5, 6, 6, 6, 5, 4, 5, 5, 4, 6, 6, 6, 5, 6, 6, 5, 6, 5, 6, 5, 6, 5, 6, 6, 5, 6, 6, 5, 3, 4, 5, 5, 6, 5, 6, 4, 6, 6, 5, 5, 4, 6, 6, 6, 6, 5, 6, 6, 5, 5, 4, 6, 6, 5, 5, 6, 6, 6, 5, 5, 5, 6, 6, 6, 6, 3, 6, 5, 5, 5, 5, 6, 4, 4, 0, 5, 5, 5, 6, 6, 5, 2, 6, 5, 3, 5, 6, 6, 4, 4, 5, 4, 5, 6, 5, 0, 6, 5, 6, 4, 4, 6, 0, 5, 5, 5, 5, 5, 5, 4, 6, 6, 6, 5, 6, 5, 6, 6, 6, 6, 6, 3, 5, 3, 6, 6, 6, 5, 6, 5, 5, 5, 6, 5, 6, 6, 6, 6, 6, 4, 5, 6, 6, 5, 6, 5, 6, 5, 4, 6, 5, 6, 5, 5, 5, 5, 6, 6, 6, 4, 6, 6, 6, 3, 6, 6, 5, 5, 5, 4, 5, 5, 4, 6, 5, 5, 5, 6, 6, 4, 5, 6, 4, 4, 6, 5, 6, 6, 3, 6, 6, 6, 5, 0, 5, 6, 4, 5, 5, 6, 4, 6, 6, 5, 5, 6, 6, 6, 4, 4, 6, 6, 6, 4, 5, 3, 6, 6, 6, 5, 4, 5, 6, 5, 4, 6, 5, 4, 4, 5, 5, 6, 5, 5, 5, 5]\n",
      "[6 5 6 5 5 4 5 5 5 6 5 5 5 6 5 6 5 5 5 5 5 5 5 5 5 5 5 5 5 5 5 6 6 6 5 6 5\n",
      " 5 5 5 5 5 5 5 5 6 5 5 5 5 5 5 5 5 5 5 5 6 5 5 5 5 6 5 5 5 6 6 5 6 5 6 6 5\n",
      " 6 5 5 5 6 5 6 6 5 5 5 5 5 5 5 6 5 5 5 5 5 6 6 6 5 5 6 6 6 5 5 5 5 5 5 5 5\n",
      " 5 5 5 6 5 5 6 5 5 5 5 5 5 5 6 5 5 5 5 5 5 5 5 5 5 5 5 5 5 5 5 5 5 5 5 5 5\n",
      " 5 5 5 5 6 5 5 6 5 5 5 5 5 5 5 5 6 6 5 6 5 5 5 5 5 5 5 5 5 5 5 5 5 6 6 5 5\n",
      " 5 5 5 5 6 6 5 6 5 5 5 6 5 5 5 6 5 5 5 5 5 5 5 5 6 5 6 6 6 6 6 5 5 5 6 6 5\n",
      " 5 6 5 5 5 5 5 5 6 5 5 6 6 5 5 5 5 5 5 5 5 6 5 5 5 6 6 5 5 5 5 5 5 5 5 5 6\n",
      " 5 5 5 5 6 5 6 6 5 5 6 5 5 5 6 5 5 6 6 5 6 5 6 5 5 5 5 5 5 6 5 5 5 5 5 5 5\n",
      " 5 5 6 5 5 6 5 6 5 5 5 5 5 6 5 5 5 5 5 6 5 5 5 6 5 5 5 5 5 6 5 5 5 5 5 5 5\n",
      " 5 5 5 5 5 5 6 5 5 5 6 5 5 5 5 5 5 6 5 5 6 5 6 6 5 5 5 6 5 6 5 5 6 5 5 5 5\n",
      " 5 5 5 5 5 5 5]\n"
     ]
    },
    {
     "name": "stderr",
     "output_type": "stream",
     "text": [
      "C:\\Users\\CS210\\Anaconda3\\lib\\site-packages\\sklearn\\metrics\\classification.py:1135: UndefinedMetricWarning: Precision is ill-defined and being set to 0.0 in labels with no predicted samples.\n",
      "  'precision', 'predicted', average, warn_for)\n"
     ]
    },
    {
     "data": {
      "text/plain": [
       "array([ 0.        ,  0.        ,  0.        ,  0.        ,  0.35051546,\n",
       "        0.47058824])"
      ]
     },
     "execution_count": 62,
     "metadata": {},
     "output_type": "execute_result"
    }
   ],
   "source": [
    "pred = model.predict(X_test, batch_size=32, verbose=1)\n",
    "predicted = np.argmax(pred, axis=1)\n",
    "predicted\n",
    "actual = []\n",
    "for elm in y_test:\n",
    "    for i in range(len(elm)):\n",
    "        if(elm[i] == 1.0):\n",
    "            actual.append(i)\n",
    "print(actual)\n",
    "print(predicted)\n",
    "precision_score(actual, predicted, average=None)\n",
    "#report = classification_report(np.argmax(y_test, axis=1), predicted)\n",
    "#print(report)"
   ]
  },
  {
   "cell_type": "code",
   "execution_count": null,
   "metadata": {
    "collapsed": true
   },
   "outputs": [],
   "source": []
  }
 ],
 "metadata": {
  "kernelspec": {
   "display_name": "Python 3",
   "language": "python",
   "name": "python3"
  },
  "language_info": {
   "codemirror_mode": {
    "name": "ipython",
    "version": 3
   },
   "file_extension": ".py",
   "mimetype": "text/x-python",
   "name": "python",
   "nbconvert_exporter": "python",
   "pygments_lexer": "ipython3",
   "version": "3.6.3"
  }
 },
 "nbformat": 4,
 "nbformat_minor": 2
}
