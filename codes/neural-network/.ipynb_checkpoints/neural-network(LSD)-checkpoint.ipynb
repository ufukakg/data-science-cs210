{
 "cells": [
  {
   "cell_type": "code",
   "execution_count": 43,
   "metadata": {
    "collapsed": true
   },
   "outputs": [],
   "source": [
    "import tensorflow as tf\n",
    "import pandas as pd\n",
    "import numpy as np"
   ]
  },
  {
   "cell_type": "code",
   "execution_count": 44,
   "metadata": {},
   "outputs": [],
   "source": [
    "from sklearn.preprocessing import LabelEncoder\n",
    "from sklearn.cross_validation import train_test_split\n",
    "from keras.models import Sequential\n",
    "from keras.layers import Activation\n",
    "from keras.optimizers import SGD\n",
    "from keras.layers import Dense\n",
    "from keras.utils import np_utils"
   ]
  },
  {
   "cell_type": "code",
   "execution_count": 45,
   "metadata": {
    "collapsed": true
   },
   "outputs": [],
   "source": [
    "from sklearn import tree"
   ]
  },
  {
   "cell_type": "code",
   "execution_count": 46,
   "metadata": {
    "collapsed": true
   },
   "outputs": [],
   "source": [
    "from sklearn.tree import DecisionTreeClassifier,export_graphviz"
   ]
  },
  {
   "cell_type": "code",
   "execution_count": 47,
   "metadata": {
    "collapsed": true
   },
   "outputs": [],
   "source": [
    "from sklearn.model_selection import train_test_split"
   ]
  },
  {
   "cell_type": "code",
   "execution_count": 48,
   "metadata": {
    "collapsed": true
   },
   "outputs": [],
   "source": [
    "from matplotlib import pyplot as plt"
   ]
  },
  {
   "cell_type": "code",
   "execution_count": 49,
   "metadata": {
    "collapsed": true
   },
   "outputs": [],
   "source": [
    "import seaborn as sns"
   ]
  },
  {
   "cell_type": "code",
   "execution_count": 50,
   "metadata": {
    "collapsed": true
   },
   "outputs": [],
   "source": [
    "import graphviz # anaconda prompt- pip install graphviz"
   ]
  },
  {
   "cell_type": "markdown",
   "metadata": {},
   "source": [
    "import pydotplus"
   ]
  },
  {
   "cell_type": "code",
   "execution_count": 51,
   "metadata": {
    "collapsed": true
   },
   "outputs": [],
   "source": [
    "import pydotplus # anaconda prompt- pip install pydotplus"
   ]
  },
  {
   "cell_type": "code",
   "execution_count": 52,
   "metadata": {
    "collapsed": true
   },
   "outputs": [],
   "source": [
    "import io \n",
    "from scipy import misc\n",
    "%matplotlib inline"
   ]
  },
  {
   "cell_type": "code",
   "execution_count": 53,
   "metadata": {
    "collapsed": true
   },
   "outputs": [],
   "source": [
    "# Make results reproducible\n",
    "seed = 1234\n",
    "np.random.seed(seed)\n",
    "tf.set_random_seed(seed)"
   ]
  },
  {
   "cell_type": "code",
   "execution_count": 54,
   "metadata": {
    "collapsed": true
   },
   "outputs": [],
   "source": [
    "file = '../../input/drug_data.csv'\n",
    "dataset = pd.read_csv(file, 'rb', delimiter =';')"
   ]
  },
  {
   "cell_type": "code",
   "execution_count": 55,
   "metadata": {
    "collapsed": true
   },
   "outputs": [],
   "source": [
    "from sklearn import preprocessing\n",
    "le = preprocessing.LabelEncoder()\n",
    "df = pd.DataFrame(dataset)\n",
    "cols = df.columns[1:13]\n",
    "for col in cols:\n",
    "    le.fit(dataset[col])\n",
    "    dataset[col] = le.transform(dataset[col])"
   ]
  },
  {
   "cell_type": "code",
   "execution_count": 56,
   "metadata": {
    "collapsed": true
   },
   "outputs": [],
   "source": [
    "cols = df.columns[13:]\n",
    "for col in cols:\n",
    "    dataset[col] = dataset[col].str.replace('CL','').astype(int)    "
   ]
  },
  {
   "cell_type": "code",
   "execution_count": 57,
   "metadata": {},
   "outputs": [],
   "source": [
    "cols = df.columns[13:]\n",
    "for col in cols:\n",
    "    if col != 'Alcohol':\n",
    "        df.__delitem__(col)\n",
    "      "
   ]
  },
  {
   "cell_type": "code",
   "execution_count": 58,
   "metadata": {},
   "outputs": [
    {
     "data": {
      "text/plain": [
       "['Alcohol_0',\n",
       " 'Alcohol_1',\n",
       " 'Alcohol_2',\n",
       " 'Alcohol_3',\n",
       " 'Alcohol_4',\n",
       " 'Alcohol_5',\n",
       " 'Alcohol_6']"
      ]
     },
     "execution_count": 58,
     "metadata": {},
     "output_type": "execute_result"
    }
   ],
   "source": [
    "dataset = pd.get_dummies(dataset, columns=['Alcohol']) # One Hot Encoding\n",
    "values = list(dataset.columns.values)\n",
    "values"
   ]
  },
  {
   "cell_type": "code",
   "execution_count": 17,
   "metadata": {},
   "outputs": [
    {
     "data": {
      "text/plain": [
       "array([[ 0.,  0.,  0., ...,  0.,  1.,  0.],\n",
       "       [ 0.,  0.,  0., ...,  0.,  1.,  0.],\n",
       "       [ 0.,  0.,  0., ...,  0.,  0.,  1.],\n",
       "       ..., \n",
       "       [ 0.,  0.,  0., ...,  1.,  0.,  0.],\n",
       "       [ 0.,  0.,  0., ...,  0.,  1.,  0.],\n",
       "       [ 0.,  0.,  0., ...,  1.,  0.,  0.]], dtype=float32)"
      ]
     },
     "execution_count": 17,
     "metadata": {},
     "output_type": "execute_result"
    }
   ],
   "source": [
    "y = dataset[values[13:]]\n",
    "y = np.array(y, dtype='float32')\n",
    "y"
   ]
  },
  {
   "cell_type": "code",
   "execution_count": 18,
   "metadata": {},
   "outputs": [
    {
     "data": {
      "text/plain": [
       "array([[  2.,   1.,   0., ...,   0.,   0.,   3.],\n",
       "       [  0.,   0.,   8., ...,   1.,   1.,   0.],\n",
       "       [  2.,   0.,   0., ...,   8.,   2.,   7.],\n",
       "       ..., \n",
       "       [  0.,   1.,   6., ...,  11.,   5.,   1.],\n",
       "       [  1.,   1.,   1., ...,  20.,   7.,   9.],\n",
       "       [  1.,   0.,   1., ...,  27.,   6.,   9.]], dtype=float32)"
      ]
     },
     "execution_count": 18,
     "metadata": {},
     "output_type": "execute_result"
    }
   ],
   "source": [
    "X = dataset[values[1:13]]\n",
    "X = np.array(X, dtype='float32')\n",
    "X"
   ]
  },
  {
   "cell_type": "code",
   "execution_count": 19,
   "metadata": {
    "collapsed": true
   },
   "outputs": [],
   "source": [
    "# Shuffle Data\n",
    "indices = np.random.choice(len(X), len(X), replace=False)\n",
    "X_values = X[indices]\n",
    "y_values = y[indices]\n",
    "\n",
    "\n",
    "X_train, X_test = train_test_split(X_values, test_size = 0.15)\n",
    "y_train, y_test = train_test_split(y_values, test_size = 0.15)\n",
    "\n",
    "\n",
    "# Creating a Train and a Test Dataset\n",
    "test_size = 377\n",
    "#X_test = X_values[-test_size:]\n",
    "#X_train = X_values[:-test_size]\n",
    "#y_test = y_values[-test_size:]\n",
    "#y_train = y_values[:-test_size]\n"
   ]
  },
  {
   "cell_type": "code",
   "execution_count": 23,
   "metadata": {},
   "outputs": [
    {
     "name": "stderr",
     "output_type": "stream",
     "text": [
      "C:\\Users\\CS210\\Anaconda3\\lib\\site-packages\\ipykernel_launcher.py:4: UserWarning: Update your `Dense` call to the Keras 2 API: `Dense(768, input_dim=12, activation=\"relu\", kernel_initializer=\"uniform\")`\n",
      "  after removing the cwd from sys.path.\n",
      "C:\\Users\\CS210\\Anaconda3\\lib\\site-packages\\ipykernel_launcher.py:5: UserWarning: Update your `Dense` call to the Keras 2 API: `Dense(384, activation=\"relu\", kernel_initializer=\"uniform\")`\n",
      "  \"\"\"\n"
     ]
    }
   ],
   "source": [
    "# define the architecture of the network\n",
    "model = Sequential()\n",
    "model.add(Dense(768, input_dim=12, init=\"uniform\",\n",
    "\tactivation=\"relu\"))\n",
    "model.add(Dense(384, init=\"uniform\", activation=\"relu\"))\n",
    "model.add(Dense(7))\n",
    "model.add(Activation(\"softmax\"))"
   ]
  },
  {
   "cell_type": "code",
   "execution_count": 24,
   "metadata": {
    "scrolled": true
   },
   "outputs": [
    {
     "name": "stdout",
     "output_type": "stream",
     "text": [
      "[INFO] compiling model...\n"
     ]
    },
    {
     "name": "stderr",
     "output_type": "stream",
     "text": [
      "C:\\Users\\CS210\\Anaconda3\\lib\\site-packages\\keras\\models.py:942: UserWarning: The `nb_epoch` argument in `fit` has been renamed `epochs`.\n",
      "  warnings.warn('The `nb_epoch` argument in `fit` '\n"
     ]
    },
    {
     "name": "stdout",
     "output_type": "stream",
     "text": [
      "Epoch 1/50\n",
      "1602/1602 [==============================] - 0s 171us/step - loss: 0.3794 - acc: 0.8571\n",
      "Epoch 2/50\n",
      "1602/1602 [==============================] - 0s 58us/step - loss: 0.3509 - acc: 0.8532\n",
      "Epoch 3/50\n",
      "1602/1602 [==============================] - 0s 59us/step - loss: 0.3455 - acc: 0.8551\n",
      "Epoch 4/50\n",
      "1602/1602 [==============================] - 0s 56us/step - loss: 0.3438 - acc: 0.8554\n",
      "Epoch 5/50\n",
      "1602/1602 [==============================] - 0s 55us/step - loss: 0.3425 - acc: 0.8556\n",
      "Epoch 6/50\n",
      "1602/1602 [==============================] - 0s 54us/step - loss: 0.3418 - acc: 0.8554\n",
      "Epoch 7/50\n",
      "1602/1602 [==============================] - 0s 55us/step - loss: 0.3403 - acc: 0.8563\n",
      "Epoch 8/50\n",
      "1602/1602 [==============================] - 0s 59us/step - loss: 0.3394 - acc: 0.8559\n",
      "Epoch 9/50\n",
      "1602/1602 [==============================] - 0s 53us/step - loss: 0.3384 - acc: 0.8567\n",
      "Epoch 10/50\n",
      "1602/1602 [==============================] - 0s 53us/step - loss: 0.3381 - acc: 0.8582\n",
      "Epoch 11/50\n",
      "1602/1602 [==============================] - 0s 55us/step - loss: 0.3375 - acc: 0.8562\n",
      "Epoch 12/50\n",
      "1602/1602 [==============================] - 0s 50us/step - loss: 0.3371 - acc: 0.8558\n",
      "Epoch 13/50\n",
      "1602/1602 [==============================] - 0s 52us/step - loss: 0.3365 - acc: 0.8574\n",
      "Epoch 14/50\n",
      "1602/1602 [==============================] - 0s 51us/step - loss: 0.3360 - acc: 0.8573\n",
      "Epoch 15/50\n",
      "1602/1602 [==============================] - 0s 51us/step - loss: 0.3356 - acc: 0.8577\n",
      "Epoch 16/50\n",
      "1602/1602 [==============================] - 0s 52us/step - loss: 0.3356 - acc: 0.8576\n",
      "Epoch 17/50\n",
      "1602/1602 [==============================] - 0s 53us/step - loss: 0.3353 - acc: 0.8565\n",
      "Epoch 18/50\n",
      "1602/1602 [==============================] - 0s 51us/step - loss: 0.3348 - acc: 0.8587\n",
      "Epoch 19/50\n",
      "1602/1602 [==============================] - 0s 51us/step - loss: 0.3343 - acc: 0.8570\n",
      "Epoch 20/50\n",
      "1602/1602 [==============================] - 0s 54us/step - loss: 0.3342 - acc: 0.8577\n",
      "Epoch 21/50\n",
      "1602/1602 [==============================] - 0s 52us/step - loss: 0.3339 - acc: 0.8576\n",
      "Epoch 22/50\n",
      "1602/1602 [==============================] - 0s 53us/step - loss: 0.3339 - acc: 0.8570\n",
      "Epoch 23/50\n",
      "1602/1602 [==============================] - 0s 51us/step - loss: 0.3335 - acc: 0.8583\n",
      "Epoch 24/50\n",
      "1602/1602 [==============================] - 0s 52us/step - loss: 0.3332 - acc: 0.8577\n",
      "Epoch 25/50\n",
      "1602/1602 [==============================] - 0s 51us/step - loss: 0.3335 - acc: 0.8586\n",
      "Epoch 26/50\n",
      "1602/1602 [==============================] - 0s 53us/step - loss: 0.3326 - acc: 0.8575\n",
      "Epoch 27/50\n",
      "1602/1602 [==============================] - 0s 53us/step - loss: 0.3327 - acc: 0.8569\n",
      "Epoch 28/50\n",
      "1602/1602 [==============================] - 0s 52us/step - loss: 0.3325 - acc: 0.8579\n",
      "Epoch 29/50\n",
      "1602/1602 [==============================] - 0s 53us/step - loss: 0.3328 - acc: 0.8578\n",
      "Epoch 30/50\n",
      "1602/1602 [==============================] - 0s 53us/step - loss: 0.3320 - acc: 0.8571\n",
      "Epoch 31/50\n",
      "1602/1602 [==============================] - 0s 53us/step - loss: 0.3318 - acc: 0.8587\n",
      "Epoch 32/50\n",
      "1602/1602 [==============================] - 0s 53us/step - loss: 0.3327 - acc: 0.8577\n",
      "Epoch 33/50\n",
      "1602/1602 [==============================] - 0s 53us/step - loss: 0.3318 - acc: 0.8579\n",
      "Epoch 34/50\n",
      "1602/1602 [==============================] - 0s 53us/step - loss: 0.3315 - acc: 0.8579\n",
      "Epoch 35/50\n",
      "1602/1602 [==============================] - 0s 52us/step - loss: 0.3316 - acc: 0.8579\n",
      "Epoch 36/50\n",
      "1602/1602 [==============================] - 0s 52us/step - loss: 0.3313 - acc: 0.8579\n",
      "Epoch 37/50\n",
      "1602/1602 [==============================] - 0s 52us/step - loss: 0.3309 - acc: 0.8578\n",
      "Epoch 38/50\n",
      "1602/1602 [==============================] - 0s 55us/step - loss: 0.3309 - acc: 0.8581\n",
      "Epoch 39/50\n",
      "1602/1602 [==============================] - 0s 53us/step - loss: 0.3309 - acc: 0.8580\n",
      "Epoch 40/50\n",
      "1602/1602 [==============================] - 0s 53us/step - loss: 0.3303 - acc: 0.8572\n",
      "Epoch 41/50\n",
      "1602/1602 [==============================] - 0s 57us/step - loss: 0.3304 - acc: 0.8582\n",
      "Epoch 42/50\n",
      "1602/1602 [==============================] - 0s 54us/step - loss: 0.3305 - acc: 0.8585\n",
      "Epoch 43/50\n",
      "1602/1602 [==============================] - 0s 53us/step - loss: 0.3302 - acc: 0.8587\n",
      "Epoch 44/50\n",
      "1602/1602 [==============================] - 0s 54us/step - loss: 0.3304 - acc: 0.8585\n",
      "Epoch 45/50\n",
      "1602/1602 [==============================] - 0s 55us/step - loss: 0.3298 - acc: 0.8584\n",
      "Epoch 46/50\n",
      "1602/1602 [==============================] - 0s 54us/step - loss: 0.3304 - acc: 0.8574\n",
      "Epoch 47/50\n",
      "1602/1602 [==============================] - 0s 54us/step - loss: 0.3297 - acc: 0.8577\n",
      "Epoch 48/50\n",
      "1602/1602 [==============================] - 0s 53us/step - loss: 0.3301 - acc: 0.8579\n",
      "Epoch 49/50\n",
      "1602/1602 [==============================] - 0s 54us/step - loss: 0.3297 - acc: 0.8584\n",
      "Epoch 50/50\n",
      "1602/1602 [==============================] - 0s 55us/step - loss: 0.3291 - acc: 0.8585\n"
     ]
    },
    {
     "data": {
      "text/plain": [
       "<keras.callbacks.History at 0x115afc25cf8>"
      ]
     },
     "execution_count": 24,
     "metadata": {},
     "output_type": "execute_result"
    }
   ],
   "source": [
    "# train the model using SGD\n",
    "print(\"[INFO] compiling model...\")\n",
    "sgd = SGD(lr=0.01)\n",
    "model.compile(loss=\"binary_crossentropy\", optimizer=sgd,\n",
    "\tmetrics=[\"accuracy\"])\n",
    "model.fit(X_train, y_train, nb_epoch=50, batch_size=128,\n",
    "\tverbose=1)"
   ]
  },
  {
   "cell_type": "code",
   "execution_count": 25,
   "metadata": {},
   "outputs": [
    {
     "name": "stdout",
     "output_type": "stream",
     "text": [
      "[INFO] evaluating on testing set...\n",
      "283/283 [==============================] - 0s 170us/step\n",
      "[INFO] loss=0.3426, accuracy: 85.3609%\n"
     ]
    }
   ],
   "source": [
    "# show the accuracy on the testing set\n",
    "print(\"[INFO] evaluating on testing set...\")\n",
    "(loss, accuracy) = model.evaluate(X_test, y_test,\n",
    "\tbatch_size=128, verbose=1)\n",
    "print(\"[INFO] loss={:.4f}, accuracy: {:.4f}%\".format(loss,\n",
    "\taccuracy * 100))"
   ]
  },
  {
   "cell_type": "code",
   "execution_count": null,
   "metadata": {
    "collapsed": true
   },
   "outputs": [],
   "source": []
  }
 ],
 "metadata": {
  "kernelspec": {
   "display_name": "Python 3",
   "language": "python",
   "name": "python3"
  },
  "language_info": {
   "codemirror_mode": {
    "name": "ipython",
    "version": 3
   },
   "file_extension": ".py",
   "mimetype": "text/x-python",
   "name": "python",
   "nbconvert_exporter": "python",
   "pygments_lexer": "ipython3",
   "version": "3.6.3"
  }
 },
 "nbformat": 4,
 "nbformat_minor": 2
}
