{
 "cells": [
  {
   "cell_type": "code",
   "execution_count": 1,
   "metadata": {
    "collapsed": true
   },
   "outputs": [],
   "source": [
    "import tensorflow as tf\n",
    "import pandas as pd\n",
    "import numpy as np"
   ]
  },
  {
   "cell_type": "code",
   "execution_count": 2,
   "metadata": {},
   "outputs": [
    {
     "name": "stderr",
     "output_type": "stream",
     "text": [
      "C:\\Users\\CS210\\Anaconda3\\lib\\site-packages\\sklearn\\cross_validation.py:41: DeprecationWarning: This module was deprecated in version 0.18 in favor of the model_selection module into which all the refactored classes and functions are moved. Also note that the interface of the new CV iterators are different from that of this module. This module will be removed in 0.20.\n",
      "  \"This module will be removed in 0.20.\", DeprecationWarning)\n",
      "Using TensorFlow backend.\n"
     ]
    }
   ],
   "source": [
    "from sklearn.preprocessing import LabelEncoder\n",
    "from sklearn.cross_validation import train_test_split\n",
    "from keras.models import Sequential\n",
    "from keras.layers import Activation\n",
    "from keras.optimizers import Adam\n",
    "from keras.layers import Dense\n",
    "from keras.utils import np_utils\n",
    "from keras.metrics import categorical_crossentropy"
   ]
  },
  {
   "cell_type": "code",
   "execution_count": 3,
   "metadata": {
    "collapsed": true
   },
   "outputs": [],
   "source": [
    "from sklearn import tree"
   ]
  },
  {
   "cell_type": "code",
   "execution_count": 4,
   "metadata": {
    "collapsed": true
   },
   "outputs": [],
   "source": [
    "from sklearn.tree import DecisionTreeClassifier,export_graphviz"
   ]
  },
  {
   "cell_type": "code",
   "execution_count": 5,
   "metadata": {
    "collapsed": true
   },
   "outputs": [],
   "source": [
    "from sklearn.model_selection import train_test_split"
   ]
  },
  {
   "cell_type": "code",
   "execution_count": 6,
   "metadata": {
    "collapsed": true
   },
   "outputs": [],
   "source": [
    "from matplotlib import pyplot as plt"
   ]
  },
  {
   "cell_type": "code",
   "execution_count": 7,
   "metadata": {
    "collapsed": true
   },
   "outputs": [],
   "source": [
    "import seaborn as sns"
   ]
  },
  {
   "cell_type": "code",
   "execution_count": 8,
   "metadata": {
    "collapsed": true
   },
   "outputs": [],
   "source": [
    "import graphviz # anaconda prompt- pip install graphviz"
   ]
  },
  {
   "cell_type": "markdown",
   "metadata": {},
   "source": [
    "import pydotplus"
   ]
  },
  {
   "cell_type": "code",
   "execution_count": 9,
   "metadata": {
    "collapsed": true
   },
   "outputs": [],
   "source": [
    "import pydotplus # anaconda prompt- pip install pydotplus"
   ]
  },
  {
   "cell_type": "code",
   "execution_count": 10,
   "metadata": {
    "collapsed": true
   },
   "outputs": [],
   "source": [
    "import io \n",
    "from scipy import misc\n",
    "%matplotlib inline"
   ]
  },
  {
   "cell_type": "code",
   "execution_count": 11,
   "metadata": {
    "collapsed": true
   },
   "outputs": [],
   "source": [
    "# Make results reproducible\n",
    "seed = 1234\n",
    "np.random.seed(seed)\n",
    "tf.set_random_seed(seed)"
   ]
  },
  {
   "cell_type": "code",
   "execution_count": 12,
   "metadata": {
    "collapsed": true
   },
   "outputs": [],
   "source": [
    "file = '../../input/drug_data.csv'\n",
    "dataset = pd.read_csv(file, 'rb', delimiter =';')"
   ]
  },
  {
   "cell_type": "code",
   "execution_count": 13,
   "metadata": {
    "collapsed": true
   },
   "outputs": [],
   "source": [
    "from sklearn import preprocessing\n",
    "le = preprocessing.LabelEncoder()\n",
    "df = pd.DataFrame(dataset)\n",
    "cols = df.columns[1:13]\n",
    "for col in cols:\n",
    "    le.fit(dataset[col])\n",
    "    dataset[col] = le.transform(dataset[col])"
   ]
  },
  {
   "cell_type": "code",
   "execution_count": 14,
   "metadata": {
    "collapsed": true
   },
   "outputs": [],
   "source": [
    "cols = df.columns[13:]\n",
    "for col in cols:\n",
    "    dataset[col] = dataset[col].str.replace('CL','').astype(int)    "
   ]
  },
  {
   "cell_type": "code",
   "execution_count": 15,
   "metadata": {
    "collapsed": true
   },
   "outputs": [],
   "source": [
    "cols = df.columns[13:]\n",
    "for col in cols:\n",
    "    if col != 'Chocolate':\n",
    "        df.__delitem__(col)\n",
    "      "
   ]
  },
  {
   "cell_type": "code",
   "execution_count": 16,
   "metadata": {},
   "outputs": [
    {
     "data": {
      "text/plain": [
       "['ID',\n",
       " 'Age',\n",
       " 'Gender',\n",
       " 'Education',\n",
       " 'Country',\n",
       " 'Ethnicity',\n",
       " 'Nscore',\n",
       " 'Escore',\n",
       " 'Oscore',\n",
       " 'Ascore',\n",
       " 'Cscore',\n",
       " 'Impulsive',\n",
       " 'SS',\n",
       " 'Chocolate_0',\n",
       " 'Chocolate_1',\n",
       " 'Chocolate_2',\n",
       " 'Chocolate_3',\n",
       " 'Chocolate_4',\n",
       " 'Chocolate_5',\n",
       " 'Chocolate_6']"
      ]
     },
     "execution_count": 16,
     "metadata": {},
     "output_type": "execute_result"
    }
   ],
   "source": [
    "dataset = pd.get_dummies(dataset, columns=['Chocolate']) # One Hot Encoding\n",
    "values = list(dataset.columns.values)\n",
    "values"
   ]
  },
  {
   "cell_type": "code",
   "execution_count": 17,
   "metadata": {},
   "outputs": [
    {
     "data": {
      "text/plain": [
       "array([[ 0.,  0.,  0., ...,  0.,  1.,  0.],\n",
       "       [ 0.,  0.,  0., ...,  0.,  0.,  1.],\n",
       "       [ 0.,  0.,  0., ...,  1.,  0.,  0.],\n",
       "       ..., \n",
       "       [ 0.,  0.,  0., ...,  0.,  0.,  1.],\n",
       "       [ 0.,  0.,  0., ...,  0.,  1.,  0.],\n",
       "       [ 0.,  0.,  0., ...,  0.,  0.,  1.]], dtype=float32)"
      ]
     },
     "execution_count": 17,
     "metadata": {},
     "output_type": "execute_result"
    }
   ],
   "source": [
    "y = dataset[values[13:]]\n",
    "y = np.array(y, dtype='float32')\n",
    "y"
   ]
  },
  {
   "cell_type": "code",
   "execution_count": 18,
   "metadata": {},
   "outputs": [
    {
     "data": {
      "text/plain": [
       "array([[  2.,   1.,   0., ...,   0.,   0.,   3.],\n",
       "       [  0.,   0.,   8., ...,   1.,   1.,   0.],\n",
       "       [  2.,   0.,   0., ...,   8.,   2.,   7.],\n",
       "       ..., \n",
       "       [  0.,   1.,   6., ...,  11.,   5.,   1.],\n",
       "       [  1.,   1.,   1., ...,  20.,   7.,   9.],\n",
       "       [  1.,   0.,   1., ...,  27.,   6.,   9.]], dtype=float32)"
      ]
     },
     "execution_count": 18,
     "metadata": {},
     "output_type": "execute_result"
    }
   ],
   "source": [
    "X = dataset[values[1:13]]\n",
    "X = np.array(X, dtype='float32')\n",
    "X"
   ]
  },
  {
   "cell_type": "code",
   "execution_count": 19,
   "metadata": {
    "collapsed": true
   },
   "outputs": [],
   "source": [
    "# Shuffle Data\n",
    "indices = np.random.choice(len(X), len(X), replace=False)\n",
    "X_values = X[indices]\n",
    "y_values = y[indices]\n",
    "\n",
    "\n",
    "\n",
    "X_train, X_test = train_test_split(X_values, test_size = 0.20)\n",
    "y_train, y_test = train_test_split(y_values, test_size = 0.20)\n",
    "\n",
    "\n",
    "# Creating a Train and a Test Dataset\n",
    "test_size = 377\n",
    "#X_test = X_values[-test_size:]\n",
    "#X_train = X_values[:-test_size]\n",
    "#y_test = y_values[-test_size:]\n",
    "#y_train = y_values[:-test_size]\n"
   ]
  },
  {
   "cell_type": "code",
   "execution_count": 20,
   "metadata": {},
   "outputs": [
    {
     "name": "stdout",
     "output_type": "stream",
     "text": [
      "_________________________________________________________________\n",
      "Layer (type)                 Output Shape              Param #   \n",
      "=================================================================\n",
      "dense_1 (Dense)              (None, 768)               9984      \n",
      "_________________________________________________________________\n",
      "dense_2 (Dense)              (None, 384)               295296    \n",
      "_________________________________________________________________\n",
      "dense_3 (Dense)              (None, 7)                 2695      \n",
      "_________________________________________________________________\n",
      "activation_1 (Activation)    (None, 7)                 0         \n",
      "=================================================================\n",
      "Total params: 307,975\n",
      "Trainable params: 307,975\n",
      "Non-trainable params: 0\n",
      "_________________________________________________________________\n"
     ]
    },
    {
     "name": "stderr",
     "output_type": "stream",
     "text": [
      "C:\\Users\\CS210\\Anaconda3\\lib\\site-packages\\ipykernel_launcher.py:4: UserWarning: Update your `Dense` call to the Keras 2 API: `Dense(768, input_dim=12, activation=\"relu\", kernel_initializer=\"uniform\")`\n",
      "  after removing the cwd from sys.path.\n",
      "C:\\Users\\CS210\\Anaconda3\\lib\\site-packages\\ipykernel_launcher.py:5: UserWarning: Update your `Dense` call to the Keras 2 API: `Dense(384, activation=\"relu\", kernel_initializer=\"uniform\")`\n",
      "  \"\"\"\n"
     ]
    }
   ],
   "source": [
    "# define the architecture of the network\n",
    "model = Sequential()\n",
    "model.add(Dense(768, input_dim=12, init=\"uniform\",\n",
    "\tactivation=\"relu\"))\n",
    "model.add(Dense(384, init=\"uniform\", activation=\"relu\"))\n",
    "model.add(Dense(7))\n",
    "model.add(Activation(\"softmax\"))\n",
    "model.summary()"
   ]
  },
  {
   "cell_type": "code",
   "execution_count": 21,
   "metadata": {},
   "outputs": [
    {
     "name": "stdout",
     "output_type": "stream",
     "text": [
      "[INFO] compiling model...\n"
     ]
    },
    {
     "name": "stderr",
     "output_type": "stream",
     "text": [
      "C:\\Users\\CS210\\Anaconda3\\lib\\site-packages\\keras\\models.py:942: UserWarning: The `nb_epoch` argument in `fit` has been renamed `epochs`.\n",
      "  warnings.warn('The `nb_epoch` argument in `fit` '\n"
     ]
    },
    {
     "name": "stdout",
     "output_type": "stream",
     "text": [
      "Epoch 1/50\n",
      "1508/1508 [==============================] - 0s 198us/step - loss: 0.3242 - acc: 0.8532\n",
      "Epoch 2/50\n",
      "1508/1508 [==============================] - 0s 80us/step - loss: 0.3017 - acc: 0.8543\n",
      "Epoch 3/50\n",
      "1508/1508 [==============================] - 0s 84us/step - loss: 0.2990 - acc: 0.8542\n",
      "Epoch 4/50\n",
      "1508/1508 [==============================] - 0s 78us/step - loss: 0.2965 - acc: 0.8555\n",
      "Epoch 5/50\n",
      "1508/1508 [==============================] - 0s 81us/step - loss: 0.2963 - acc: 0.8554\n",
      "Epoch 6/50\n",
      "1508/1508 [==============================] - 0s 81us/step - loss: 0.2934 - acc: 0.8573\n",
      "Epoch 7/50\n",
      "1508/1508 [==============================] - 0s 79us/step - loss: 0.2949 - acc: 0.8544\n",
      "Epoch 8/50\n",
      "1508/1508 [==============================] - 0s 81us/step - loss: 0.2935 - acc: 0.8564\n",
      "Epoch 9/50\n",
      "1508/1508 [==============================] - 0s 75us/step - loss: 0.2917 - acc: 0.8580\n",
      "Epoch 10/50\n",
      "1508/1508 [==============================] - 0s 73us/step - loss: 0.2919 - acc: 0.8560\n",
      "Epoch 11/50\n",
      "1508/1508 [==============================] - 0s 73us/step - loss: 0.2914 - acc: 0.8570\n",
      "Epoch 12/50\n",
      "1508/1508 [==============================] - 0s 73us/step - loss: 0.2905 - acc: 0.8572\n",
      "Epoch 13/50\n",
      "1508/1508 [==============================] - 0s 72us/step - loss: 0.2888 - acc: 0.8605\n",
      "Epoch 14/50\n",
      "1508/1508 [==============================] - 0s 73us/step - loss: 0.2897 - acc: 0.8588\n",
      "Epoch 15/50\n",
      "1508/1508 [==============================] - 0s 76us/step - loss: 0.2890 - acc: 0.8576\n",
      "Epoch 16/50\n",
      "1508/1508 [==============================] - 0s 79us/step - loss: 0.2884 - acc: 0.8612\n",
      "Epoch 17/50\n",
      "1508/1508 [==============================] - 0s 84us/step - loss: 0.2886 - acc: 0.8587\n",
      "Epoch 18/50\n",
      "1508/1508 [==============================] - 0s 87us/step - loss: 0.2878 - acc: 0.8590\n",
      "Epoch 19/50\n",
      "1508/1508 [==============================] - 0s 81us/step - loss: 0.2882 - acc: 0.8603\n",
      "Epoch 20/50\n",
      "1508/1508 [==============================] - 0s 75us/step - loss: 0.2885 - acc: 0.8584\n",
      "Epoch 21/50\n",
      "1508/1508 [==============================] - 0s 77us/step - loss: 0.2877 - acc: 0.8596\n",
      "Epoch 22/50\n",
      "1508/1508 [==============================] - 0s 77us/step - loss: 0.2874 - acc: 0.8607\n",
      "Epoch 23/50\n",
      "1508/1508 [==============================] - 0s 75us/step - loss: 0.2866 - acc: 0.8613\n",
      "Epoch 24/50\n",
      "1508/1508 [==============================] - 0s 78us/step - loss: 0.2861 - acc: 0.8598\n",
      "Epoch 25/50\n",
      "1508/1508 [==============================] - 0s 81us/step - loss: 0.2871 - acc: 0.8593\n",
      "Epoch 26/50\n",
      "1508/1508 [==============================] - 0s 85us/step - loss: 0.2856 - acc: 0.8620\n",
      "Epoch 27/50\n",
      "1508/1508 [==============================] - 0s 91us/step - loss: 0.2865 - acc: 0.8579\n",
      "Epoch 28/50\n",
      "1508/1508 [==============================] - 0s 86us/step - loss: 0.2861 - acc: 0.8598\n",
      "Epoch 29/50\n",
      "1508/1508 [==============================] - 0s 86us/step - loss: 0.2843 - acc: 0.8616\n",
      "Epoch 30/50\n",
      "1508/1508 [==============================] - 0s 80us/step - loss: 0.2848 - acc: 0.8615\n",
      "Epoch 31/50\n",
      "1508/1508 [==============================] - 0s 78us/step - loss: 0.2853 - acc: 0.8612\n",
      "Epoch 32/50\n",
      "1508/1508 [==============================] - 0s 78us/step - loss: 0.2846 - acc: 0.8599\n",
      "Epoch 33/50\n",
      "1508/1508 [==============================] - 0s 77us/step - loss: 0.2847 - acc: 0.8604\n",
      "Epoch 34/50\n",
      "1508/1508 [==============================] - 0s 75us/step - loss: 0.2839 - acc: 0.8603\n",
      "Epoch 35/50\n",
      "1508/1508 [==============================] - 0s 74us/step - loss: 0.2840 - acc: 0.8610\n",
      "Epoch 36/50\n",
      "1508/1508 [==============================] - 0s 85us/step - loss: 0.2843 - acc: 0.8582\n",
      "Epoch 37/50\n",
      "1508/1508 [==============================] - 0s 85us/step - loss: 0.2844 - acc: 0.8599\n",
      "Epoch 38/50\n",
      "1508/1508 [==============================] - 0s 82us/step - loss: 0.2836 - acc: 0.8623\n",
      "Epoch 39/50\n",
      "1508/1508 [==============================] - 0s 73us/step - loss: 0.2833 - acc: 0.8607\n",
      "Epoch 40/50\n",
      "1508/1508 [==============================] - 0s 72us/step - loss: 0.2831 - acc: 0.8611\n",
      "Epoch 41/50\n",
      "1508/1508 [==============================] - 0s 81us/step - loss: 0.2822 - acc: 0.8619\n",
      "Epoch 42/50\n",
      "1508/1508 [==============================] - 0s 83us/step - loss: 0.2825 - acc: 0.8613\n",
      "Epoch 43/50\n",
      "1508/1508 [==============================] - 0s 79us/step - loss: 0.2828 - acc: 0.8634\n",
      "Epoch 44/50\n",
      "1508/1508 [==============================] - 0s 76us/step - loss: 0.2823 - acc: 0.8624\n",
      "Epoch 45/50\n",
      "1508/1508 [==============================] - 0s 73us/step - loss: 0.2829 - acc: 0.8613\n",
      "Epoch 46/50\n",
      "1508/1508 [==============================] - 0s 72us/step - loss: 0.2821 - acc: 0.8634\n",
      "Epoch 47/50\n",
      "1508/1508 [==============================] - 0s 73us/step - loss: 0.2820 - acc: 0.8624\n",
      "Epoch 48/50\n",
      "1508/1508 [==============================] - 0s 73us/step - loss: 0.2819 - acc: 0.8628\n",
      "Epoch 49/50\n",
      "1508/1508 [==============================] - 0s 73us/step - loss: 0.2812 - acc: 0.8651\n",
      "Epoch 50/50\n",
      "1508/1508 [==============================] - 0s 77us/step - loss: 0.2812 - acc: 0.8642\n"
     ]
    },
    {
     "data": {
      "text/plain": [
       "<keras.callbacks.History at 0x27e77ed4978>"
      ]
     },
     "execution_count": 21,
     "metadata": {},
     "output_type": "execute_result"
    }
   ],
   "source": [
    "# train the model using SGD\n",
    "print(\"[INFO] compiling model...\")\n",
    "sgd = SGD(lr=0.01)\n",
    "model.compile(loss=\"binary_crossentropy\", optimizer=sgd,\n",
    "\tmetrics=[\"accuracy\"])\n",
    "model.fit(X_train, y_train, nb_epoch=50, batch_size=64,\n",
    "\tverbose=1)"
   ]
  },
  {
   "cell_type": "code",
   "execution_count": 22,
   "metadata": {},
   "outputs": [
    {
     "name": "stdout",
     "output_type": "stream",
     "text": [
      "[INFO] evaluating on testing set...\n",
      "377/377 [==============================] - 0s 106us/step\n",
      "[INFO] loss=0.3078, accuracy: 83.6302%\n"
     ]
    }
   ],
   "source": [
    "# show the accuracy on the testing set\n",
    "print(\"[INFO] evaluating on testing set...\")\n",
    "(loss, accuracy) = model.evaluate(X_test, y_test,\n",
    "\tbatch_size=128, verbose=1)\n",
    "print(\"[INFO] loss={:.4f}, accuracy: {:.4f}%\".format(loss,\n",
    "\taccuracy * 100))"
   ]
  },
  {
   "cell_type": "code",
   "execution_count": null,
   "metadata": {
    "collapsed": true
   },
   "outputs": [],
   "source": []
  }
 ],
 "metadata": {
  "kernelspec": {
   "display_name": "Python 3",
   "language": "python",
   "name": "python3"
  },
  "language_info": {
   "codemirror_mode": {
    "name": "ipython",
    "version": 3
   },
   "file_extension": ".py",
   "mimetype": "text/x-python",
   "name": "python",
   "nbconvert_exporter": "python",
   "pygments_lexer": "ipython3",
   "version": "3.6.3"
  }
 },
 "nbformat": 4,
 "nbformat_minor": 2
}
