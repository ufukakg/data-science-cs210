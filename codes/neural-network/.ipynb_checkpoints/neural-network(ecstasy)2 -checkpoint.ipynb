{
 "cells": [
  {
   "cell_type": "code",
   "execution_count": 1,
   "metadata": {
    "collapsed": true
   },
   "outputs": [],
   "source": [
    "import tensorflow as tf\n",
    "import pandas as pd\n",
    "import numpy as np"
   ]
  },
  {
   "cell_type": "code",
   "execution_count": 2,
   "metadata": {},
   "outputs": [
    {
     "name": "stderr",
     "output_type": "stream",
     "text": [
      "C:\\Users\\CS210\\Anaconda3\\lib\\site-packages\\sklearn\\cross_validation.py:41: DeprecationWarning: This module was deprecated in version 0.18 in favor of the model_selection module into which all the refactored classes and functions are moved. Also note that the interface of the new CV iterators are different from that of this module. This module will be removed in 0.20.\n",
      "  \"This module will be removed in 0.20.\", DeprecationWarning)\n",
      "Using TensorFlow backend.\n"
     ]
    }
   ],
   "source": [
    "from sklearn.preprocessing import LabelEncoder\n",
    "from sklearn.cross_validation import train_test_split\n",
    "from keras.models import Sequential\n",
    "from keras.layers import Activation\n",
    "from keras.optimizers import SGD\n",
    "from keras.layers import Dense\n",
    "from keras.utils import np_utils\n",
    "from keras.metrics import binary_crossentropy\n",
    "from keras import losses"
   ]
  },
  {
   "cell_type": "code",
   "execution_count": 3,
   "metadata": {
    "collapsed": true
   },
   "outputs": [],
   "source": [
    "from sklearn.model_selection import train_test_split"
   ]
  },
  {
   "cell_type": "code",
   "execution_count": 4,
   "metadata": {
    "collapsed": true
   },
   "outputs": [],
   "source": [
    "import seaborn as sns"
   ]
  },
  {
   "cell_type": "code",
   "execution_count": 5,
   "metadata": {
    "collapsed": true
   },
   "outputs": [],
   "source": [
    "import graphviz # anaconda prompt- pip install graphviz"
   ]
  },
  {
   "cell_type": "markdown",
   "metadata": {},
   "source": [
    "import pydotplus"
   ]
  },
  {
   "cell_type": "code",
   "execution_count": 6,
   "metadata": {
    "collapsed": true
   },
   "outputs": [],
   "source": [
    "import pydotplus # anaconda prompt- pip install pydotplus"
   ]
  },
  {
   "cell_type": "code",
   "execution_count": 7,
   "metadata": {
    "collapsed": true
   },
   "outputs": [],
   "source": [
    "import io \n",
    "from scipy import misc\n",
    "%matplotlib inline"
   ]
  },
  {
   "cell_type": "code",
   "execution_count": 8,
   "metadata": {
    "collapsed": true
   },
   "outputs": [],
   "source": [
    "# Make results reproducible\n",
    "seed = 1234\n",
    "np.random.seed(seed)\n",
    "tf.set_random_seed(seed)"
   ]
  },
  {
   "cell_type": "code",
   "execution_count": 9,
   "metadata": {
    "collapsed": true
   },
   "outputs": [],
   "source": [
    "file = '../../input/drug_data.csv'\n",
    "dataset = pd.read_csv(file, 'rb', delimiter =';')"
   ]
  },
  {
   "cell_type": "code",
   "execution_count": 10,
   "metadata": {
    "collapsed": true
   },
   "outputs": [],
   "source": [
    "from sklearn import preprocessing\n",
    "le = preprocessing.LabelEncoder()\n",
    "df = pd.DataFrame(dataset)\n",
    "cols = df.columns[1:13]\n",
    "for col in cols:\n",
    "    le.fit(dataset[col])\n",
    "    dataset[col] = le.transform(dataset[col])"
   ]
  },
  {
   "cell_type": "code",
   "execution_count": 11,
   "metadata": {
    "collapsed": true
   },
   "outputs": [],
   "source": [
    "cols = df.columns[13:]\n",
    "for col in cols:\n",
    "    dataset[col] = dataset[col].str.replace('CL','').astype(int)    "
   ]
  },
  {
   "cell_type": "code",
   "execution_count": 12,
   "metadata": {
    "collapsed": true
   },
   "outputs": [],
   "source": [
    "cols = df.columns[13:]\n",
    "for col in cols:\n",
    "    if col != 'Ecstasy':\n",
    "        df.__delitem__(col)\n",
    "      "
   ]
  },
  {
   "cell_type": "code",
   "execution_count": 13,
   "metadata": {},
   "outputs": [
    {
     "data": {
      "text/plain": [
       "['ID',\n",
       " 'Age',\n",
       " 'Gender',\n",
       " 'Education',\n",
       " 'Country',\n",
       " 'Ethnicity',\n",
       " 'Nscore',\n",
       " 'Escore',\n",
       " 'Oscore',\n",
       " 'Ascore',\n",
       " 'Cscore',\n",
       " 'Impulsive',\n",
       " 'SS',\n",
       " 'Ecstasy_0',\n",
       " 'Ecstasy_1',\n",
       " 'Ecstasy_2',\n",
       " 'Ecstasy_3',\n",
       " 'Ecstasy_4',\n",
       " 'Ecstasy_5',\n",
       " 'Ecstasy_6']"
      ]
     },
     "execution_count": 13,
     "metadata": {},
     "output_type": "execute_result"
    }
   ],
   "source": [
    "dataset = pd.get_dummies(dataset, columns=['Ecstasy']) # One Hot Encoding\n",
    "values = list(dataset.columns.values)\n",
    "values"
   ]
  },
  {
   "cell_type": "code",
   "execution_count": 14,
   "metadata": {},
   "outputs": [
    {
     "data": {
      "text/plain": [
       "array([[ 1.,  0.,  0., ...,  0.,  0.,  0.],\n",
       "       [ 0.,  0.,  0., ...,  1.,  0.,  0.],\n",
       "       [ 1.,  0.,  0., ...,  0.,  0.,  0.],\n",
       "       ..., \n",
       "       [ 0.,  0.,  0., ...,  1.,  0.,  0.],\n",
       "       [ 0.,  0.,  0., ...,  0.,  0.,  0.],\n",
       "       [ 0.,  0.,  0., ...,  0.,  0.,  0.]], dtype=float32)"
      ]
     },
     "execution_count": 14,
     "metadata": {},
     "output_type": "execute_result"
    }
   ],
   "source": [
    "y = dataset[values[13:]]\n",
    "y = np.array(y, dtype='float32')\n",
    "y"
   ]
  },
  {
   "cell_type": "code",
   "execution_count": 15,
   "metadata": {},
   "outputs": [
    {
     "data": {
      "text/plain": [
       "array([[  2.,   1.,   0., ...,   0.,   0.,   3.],\n",
       "       [  0.,   0.,   8., ...,   1.,   1.,   0.],\n",
       "       [  2.,   0.,   0., ...,   8.,   2.,   7.],\n",
       "       ..., \n",
       "       [  0.,   1.,   6., ...,  11.,   5.,   1.],\n",
       "       [  1.,   1.,   1., ...,  20.,   7.,   9.],\n",
       "       [  1.,   0.,   1., ...,  27.,   6.,   9.]], dtype=float32)"
      ]
     },
     "execution_count": 15,
     "metadata": {},
     "output_type": "execute_result"
    }
   ],
   "source": [
    "X = dataset[values[1:13]]\n",
    "X = np.array(X, dtype='float32')\n",
    "X"
   ]
  },
  {
   "cell_type": "code",
   "execution_count": 16,
   "metadata": {
    "collapsed": true
   },
   "outputs": [],
   "source": [
    "# Shuffle Data\n",
    "indices = np.random.choice(len(X), len(X), replace=False)\n",
    "X_values = X[indices]\n",
    "y_values = y[indices]\n",
    "\n",
    "\n",
    "\n",
    "X_train, X_test = train_test_split(X_values, test_size = 0.20)\n",
    "y_train, y_test = train_test_split(y_values, test_size = 0.20)\n",
    "\n",
    "\n",
    "# Creating a Train and a Test Dataset\n",
    "test_size = 377\n",
    "#X_test = X_values[-test_size:]\n",
    "#X_train = X_values[:-test_size]\n",
    "#y_test = y_values[-test_size:]\n",
    "#y_train = y_values[:-test_size]\n"
   ]
  },
  {
   "cell_type": "code",
   "execution_count": 17,
   "metadata": {},
   "outputs": [
    {
     "name": "stdout",
     "output_type": "stream",
     "text": [
      "_________________________________________________________________\n",
      "Layer (type)                 Output Shape              Param #   \n",
      "=================================================================\n",
      "dense_1 (Dense)              (None, 768)               9984      \n",
      "_________________________________________________________________\n",
      "dense_2 (Dense)              (None, 384)               295296    \n",
      "_________________________________________________________________\n",
      "dense_3 (Dense)              (None, 7)                 2695      \n",
      "_________________________________________________________________\n",
      "activation_1 (Activation)    (None, 7)                 0         \n",
      "=================================================================\n",
      "Total params: 307,975\n",
      "Trainable params: 307,975\n",
      "Non-trainable params: 0\n",
      "_________________________________________________________________\n"
     ]
    },
    {
     "name": "stderr",
     "output_type": "stream",
     "text": [
      "C:\\Users\\CS210\\Anaconda3\\lib\\site-packages\\ipykernel_launcher.py:4: UserWarning: Update your `Dense` call to the Keras 2 API: `Dense(768, input_dim=12, activation=\"relu\", kernel_initializer=\"uniform\")`\n",
      "  after removing the cwd from sys.path.\n",
      "C:\\Users\\CS210\\Anaconda3\\lib\\site-packages\\ipykernel_launcher.py:5: UserWarning: Update your `Dense` call to the Keras 2 API: `Dense(384, activation=\"relu\", kernel_initializer=\"uniform\")`\n",
      "  \"\"\"\n"
     ]
    }
   ],
   "source": [
    "# define the architecture of the network\n",
    "model = Sequential()\n",
    "model.add(Dense(768, input_dim=12, init=\"uniform\",activation=\"relu\"))\n",
    "model.add(Dense(384, init=\"uniform\", activation=\"relu\"))\n",
    "model.add(Dense(7))\n",
    "model.add(Activation(\"softmax\"))\n",
    "model.summary()"
   ]
  },
  {
   "cell_type": "code",
   "execution_count": null,
   "metadata": {
    "scrolled": true
   },
   "outputs": [
    {
     "name": "stdout",
     "output_type": "stream",
     "text": [
      "[INFO] compiling model...\n",
      "Epoch 1/50\n",
      "1508/1508 [==============================] - 1s 470us/step - loss: 0.3211 - acc: 0.8647\n",
      "Epoch 2/50\n",
      "1508/1508 [==============================] - 1s 358us/step - loss: 0.3209 - acc: 0.8644\n",
      "Epoch 3/50\n",
      "1508/1508 [==============================] - 1s 369us/step - loss: 0.3208 - acc: 0.8642\n",
      "Epoch 4/50\n",
      "1508/1508 [==============================] - 1s 372us/step - loss: 0.3206 - acc: 0.8647\n",
      "Epoch 5/50\n",
      "1508/1508 [==============================] - 1s 374us/step - loss: 0.3205 - acc: 0.8643\n",
      "Epoch 6/50\n",
      "1508/1508 [==============================] - 1s 348us/step - loss: 0.3204 - acc: 0.8642\n",
      "Epoch 7/50\n",
      "1508/1508 [==============================] - 1s 359us/step - loss: 0.3202 - acc: 0.8650\n",
      "Epoch 8/50\n",
      "1508/1508 [==============================] - 1s 351us/step - loss: 0.3201 - acc: 0.8646\n",
      "Epoch 9/50\n",
      "1508/1508 [==============================] - 1s 358us/step - loss: 0.3200 - acc: 0.8646\n",
      "Epoch 10/50\n",
      "1508/1508 [==============================] - 1s 372us/step - loss: 0.3199 - acc: 0.8649\n",
      "Epoch 11/50\n",
      "1508/1508 [==============================] - 1s 345us/step - loss: 0.3198 - acc: 0.8648\n",
      "Epoch 12/50\n",
      " 160/1508 [==>...........................] - ETA: 0s - loss: 0.3109 - acc: 0.8688"
     ]
    }
   ],
   "source": [
    "# train the model using SGD\n",
    "print(\"[INFO] compiling model...\")\n",
    "sgd = SGD(lr=0.0001)\n",
    "model.compile(loss=\"binary_crossentropy\", optimizer=sgd,\n",
    "\tmetrics=[\"accuracy\"])\n",
    "model.fit(X_train, y_train, epochs=50, batch_size=10,\n",
    "\tverbose=1)"
   ]
  },
  {
   "cell_type": "code",
   "execution_count": 37,
   "metadata": {},
   "outputs": [
    {
     "name": "stdout",
     "output_type": "stream",
     "text": [
      "[INFO] evaluating on testing set...\n",
      "377/377 [==============================] - 0s 156us/step\n",
      "[INFO] loss=0.0943, accuracy: 56.2334%\n"
     ]
    }
   ],
   "source": [
    "# show the accuracy on the testing set\n",
    "print(\"[INFO] evaluating on testing set...\")\n",
    "(loss, accuracy) = model.evaluate(X_test, y_test,\n",
    "\tbatch_size=32, verbose=1)\n",
    "print(\"[INFO] loss={:.4f}, accuracy: {:.4f}%\".format(loss,\n",
    "\taccuracy * 100))"
   ]
  },
  {
   "cell_type": "code",
   "execution_count": null,
   "metadata": {
    "collapsed": true
   },
   "outputs": [],
   "source": []
  }
 ],
 "metadata": {
  "kernelspec": {
   "display_name": "Python 3",
   "language": "python",
   "name": "python3"
  },
  "language_info": {
   "codemirror_mode": {
    "name": "ipython",
    "version": 3
   },
   "file_extension": ".py",
   "mimetype": "text/x-python",
   "name": "python",
   "nbconvert_exporter": "python",
   "pygments_lexer": "ipython3",
   "version": "3.6.3"
  }
 },
 "nbformat": 4,
 "nbformat_minor": 2
}
