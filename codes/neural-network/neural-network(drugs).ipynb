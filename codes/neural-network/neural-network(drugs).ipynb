{
 "cells": [
  {
   "cell_type": "code",
   "execution_count": 56,
   "metadata": {
    "collapsed": true
   },
   "outputs": [],
   "source": [
    "import tensorflow as tf\n",
    "import matplotlib\n",
    "import pandas as pd\n",
    "import numpy as np"
   ]
  },
  {
   "cell_type": "code",
   "execution_count": 57,
   "metadata": {},
   "outputs": [],
   "source": [
    "from keras.utils import to_categorical\n",
    "from keras import models\n",
    "from keras import layers"
   ]
  },
  {
   "cell_type": "code",
   "execution_count": 58,
   "metadata": {
    "collapsed": true
   },
   "outputs": [],
   "source": [
    "from keras.models import Sequential\n",
    "from keras.layers import Dense"
   ]
  },
  {
   "cell_type": "code",
   "execution_count": 59,
   "metadata": {
    "collapsed": true
   },
   "outputs": [],
   "source": [
    "from sklearn import tree"
   ]
  },
  {
   "cell_type": "code",
   "execution_count": 60,
   "metadata": {
    "collapsed": true
   },
   "outputs": [],
   "source": [
    "from sklearn.tree import DecisionTreeClassifier,export_graphviz"
   ]
  },
  {
   "cell_type": "code",
   "execution_count": 61,
   "metadata": {
    "collapsed": true
   },
   "outputs": [],
   "source": [
    "from sklearn.model_selection import train_test_split"
   ]
  },
  {
   "cell_type": "code",
   "execution_count": 62,
   "metadata": {
    "collapsed": true
   },
   "outputs": [],
   "source": [
    "from matplotlib import pyplot as plt"
   ]
  },
  {
   "cell_type": "code",
   "execution_count": 63,
   "metadata": {
    "collapsed": true
   },
   "outputs": [],
   "source": [
    "import seaborn as sns"
   ]
  },
  {
   "cell_type": "code",
   "execution_count": 64,
   "metadata": {
    "collapsed": true
   },
   "outputs": [],
   "source": [
    "import graphviz # anaconda prompt- pip install graphviz"
   ]
  },
  {
   "cell_type": "markdown",
   "metadata": {},
   "source": [
    "import pydotplus"
   ]
  },
  {
   "cell_type": "code",
   "execution_count": 65,
   "metadata": {
    "collapsed": true
   },
   "outputs": [],
   "source": [
    "import pydotplus # anaconda prompt- pip install pydotplus"
   ]
  },
  {
   "cell_type": "code",
   "execution_count": 66,
   "metadata": {
    "collapsed": true
   },
   "outputs": [],
   "source": [
    "import io \n",
    "from scipy import misc\n",
    "%matplotlib inline"
   ]
  },
  {
   "cell_type": "code",
   "execution_count": 67,
   "metadata": {
    "collapsed": true
   },
   "outputs": [],
   "source": [
    "# Make results reproducible\n",
    "seed = 1234\n",
    "np.random.seed(seed)\n",
    "tf.set_random_seed(seed)"
   ]
  },
  {
   "cell_type": "code",
   "execution_count": 74,
   "metadata": {
    "collapsed": true
   },
   "outputs": [],
   "source": [
    "file = '../../input/drug_data.csv'\n",
    "dataset = pd.read_csv(file, 'rb', delimiter =';')"
   ]
  },
  {
   "cell_type": "code",
   "execution_count": 75,
   "metadata": {
    "collapsed": true
   },
   "outputs": [],
   "source": [
    "from sklearn import preprocessing\n",
    "le = preprocessing.LabelEncoder()\n",
    "df = pd.DataFrame(dataset)\n",
    "cols = df.columns[1:13]\n",
    "for col in cols:\n",
    "    le.fit(dataset[col])\n",
    "    dataset[col] = le.transform(dataset[col])"
   ]
  },
  {
   "cell_type": "code",
   "execution_count": 76,
   "metadata": {},
   "outputs": [],
   "source": [
    "cols = df.columns[13:]\n",
    "for col in cols:\n",
    "    dataset[col] = dataset[col].str.replace('CL','').astype(int)    "
   ]
  },
  {
   "cell_type": "code",
   "execution_count": 77,
   "metadata": {},
   "outputs": [
    {
     "data": {
      "text/plain": [
       "\"\\ncols = df.columns[13:]\\nfor col in cols:\\n    if col != 'LSD' and col != 'Mushrooms':\\n        df.__delitem__(col)\\n\""
      ]
     },
     "execution_count": 77,
     "metadata": {},
     "output_type": "execute_result"
    }
   ],
   "source": [
    "\"\"\"\n",
    "cols = df.columns[13:]\n",
    "for col in cols:\n",
    "    if col != 'LSD' and col != 'Mushrooms':\n",
    "        df.__delitem__(col)\n",
    "\"\"\"   "
   ]
  },
  {
   "cell_type": "code",
   "execution_count": 78,
   "metadata": {},
   "outputs": [
    {
     "data": {
      "text/plain": [
       "['ID',\n",
       " 'Age',\n",
       " 'Gender',\n",
       " 'Education',\n",
       " 'Country',\n",
       " 'Ethnicity',\n",
       " 'Nscore',\n",
       " 'Escore',\n",
       " 'Oscore',\n",
       " 'Ascore',\n",
       " 'Cscore',\n",
       " 'Impulsive',\n",
       " 'SS',\n",
       " 'Alcohol',\n",
       " 'Amphet',\n",
       " 'Amyl',\n",
       " 'Benzos',\n",
       " 'Caffeine',\n",
       " 'Cannabis',\n",
       " 'Chocolate',\n",
       " 'Cocaine',\n",
       " 'Crack',\n",
       " 'Ecstasy',\n",
       " 'Heroin',\n",
       " 'Ketamine',\n",
       " 'Legalh',\n",
       " 'Meth',\n",
       " 'Mushrooms',\n",
       " 'Nicotine',\n",
       " 'Semer',\n",
       " 'VSA',\n",
       " 'LSD_0',\n",
       " 'LSD_1',\n",
       " 'LSD_2',\n",
       " 'LSD_3',\n",
       " 'LSD_4',\n",
       " 'LSD_5',\n",
       " 'LSD_6']"
      ]
     },
     "execution_count": 78,
     "metadata": {},
     "output_type": "execute_result"
    }
   ],
   "source": [
    "dataset = pd.get_dummies(dataset, columns=['LSD']) # One Hot Encoding\n",
    "values = list(dataset.columns.values)\n",
    "values"
   ]
  },
  {
   "cell_type": "code",
   "execution_count": 79,
   "metadata": {},
   "outputs": [
    {
     "data": {
      "text/plain": [
       "array([[ 1.,  0.,  0., ...,  0.,  0.,  0.],\n",
       "       [ 0.,  0.,  1., ...,  0.,  0.,  0.],\n",
       "       [ 1.,  0.,  0., ...,  0.,  0.,  0.],\n",
       "       ..., \n",
       "       [ 0.,  0.,  1., ...,  0.,  0.,  0.],\n",
       "       [ 0.,  0.,  0., ...,  0.,  0.,  0.],\n",
       "       [ 0.,  0.,  0., ...,  0.,  0.,  0.]], dtype=float32)"
      ]
     },
     "execution_count": 79,
     "metadata": {},
     "output_type": "execute_result"
    }
   ],
   "source": [
    "y = dataset[values[31:]]\n",
    "y = np.array(y, dtype='float32')\n",
    "y"
   ]
  },
  {
   "cell_type": "code",
   "execution_count": 80,
   "metadata": {},
   "outputs": [
    {
     "data": {
      "text/plain": [
       "array([[ 5.,  2.,  0., ...,  2.,  0.,  0.],\n",
       "       [ 5.,  2.,  2., ...,  4.,  0.,  0.],\n",
       "       [ 6.,  0.,  0., ...,  0.,  0.,  0.],\n",
       "       ..., \n",
       "       [ 4.,  6.,  5., ...,  6.,  0.,  0.],\n",
       "       [ 5.,  0.,  0., ...,  4.,  0.,  0.],\n",
       "       [ 4.,  3.,  0., ...,  6.,  0.,  2.]], dtype=float32)"
      ]
     },
     "execution_count": 80,
     "metadata": {},
     "output_type": "execute_result"
    }
   ],
   "source": [
    "X = dataset[values[13:31]]\n",
    "X = np.array(X, dtype='float32')\n",
    "X"
   ]
  },
  {
   "cell_type": "code",
   "execution_count": 81,
   "metadata": {
    "collapsed": true
   },
   "outputs": [],
   "source": [
    "# Shuffle Data\n",
    "indices = np.random.choice(len(X), len(X), replace=False)\n",
    "X_values = X[indices]\n",
    "y_values = y[indices]\n",
    "\n",
    "# Creating a Train and a Test Dataset\n",
    "test_size = 1600\n",
    "X_test = X_values[test_size:]\n",
    "X_train = X_values[:test_size]\n",
    "y_test = y_values[test_size:]\n",
    "y_train = y_values[:test_size]"
   ]
  },
  {
   "cell_type": "code",
   "execution_count": 85,
   "metadata": {
    "collapsed": true
   },
   "outputs": [],
   "source": [
    "# create model\n",
    "model = Sequential()\n",
    "model.add(Dense(12, input_dim=18, activation='relu'))\n",
    "model.add(Dense(12, activation='relu'))\n",
    "model.add(Dense(7, activation='sigmoid'))"
   ]
  },
  {
   "cell_type": "code",
   "execution_count": 86,
   "metadata": {
    "collapsed": true
   },
   "outputs": [],
   "source": [
    "# Compile model\n",
    "model.compile(loss='binary_crossentropy', optimizer='adam', metrics=['accuracy'])"
   ]
  },
  {
   "cell_type": "code",
   "execution_count": 87,
   "metadata": {
    "scrolled": true
   },
   "outputs": [
    {
     "name": "stdout",
     "output_type": "stream",
     "text": [
      "Epoch 1/150\n",
      "1885/1885 [==============================] - 1s 266us/step - loss: 0.4125 - acc: 0.8241\n",
      "Epoch 2/150\n",
      "1885/1885 [==============================] - 0s 169us/step - loss: 0.2685 - acc: 0.9023\n",
      "Epoch 3/150\n",
      "1885/1885 [==============================] - 0s 167us/step - loss: 0.2479 - acc: 0.9052\n",
      "Epoch 4/150\n",
      "1885/1885 [==============================] - 0s 172us/step - loss: 0.2375 - acc: 0.9065\n",
      "Epoch 5/150\n",
      "1885/1885 [==============================] - 0s 157us/step - loss: 0.2314 - acc: 0.9085\n",
      "Epoch 6/150\n",
      "1885/1885 [==============================] - 0s 154us/step - loss: 0.2269 - acc: 0.9088\n",
      "Epoch 7/150\n",
      "1885/1885 [==============================] - 0s 161us/step - loss: 0.2233 - acc: 0.9105\n",
      "Epoch 8/150\n",
      "1885/1885 [==============================] - 1s 292us/step - loss: 0.2202 - acc: 0.9110\n",
      "Epoch 9/150\n",
      "1885/1885 [==============================] - 0s 176us/step - loss: 0.2171 - acc: 0.9116\n",
      "Epoch 10/150\n",
      "1885/1885 [==============================] - 0s 159us/step - loss: 0.2153 - acc: 0.9128\n",
      "Epoch 11/150\n",
      "1885/1885 [==============================] - 0s 170us/step - loss: 0.2134 - acc: 0.9133\n",
      "Epoch 12/150\n",
      "1885/1885 [==============================] - 0s 160us/step - loss: 0.2116 - acc: 0.9144\n",
      "Epoch 13/150\n",
      "1885/1885 [==============================] - 0s 161us/step - loss: 0.2104 - acc: 0.9157 0s - loss: 0.2084 - acc: 0.\n",
      "Epoch 14/150\n",
      "1885/1885 [==============================] - 0s 163us/step - loss: 0.2089 - acc: 0.9157\n",
      "Epoch 15/150\n",
      "1885/1885 [==============================] - 0s 174us/step - loss: 0.2070 - acc: 0.9172\n",
      "Epoch 16/150\n",
      "1885/1885 [==============================] - 1s 352us/step - loss: 0.2060 - acc: 0.9181\n",
      "Epoch 17/150\n",
      "1885/1885 [==============================] - 0s 175us/step - loss: 0.2053 - acc: 0.9184\n",
      "Epoch 18/150\n",
      "1885/1885 [==============================] - 0s 164us/step - loss: 0.2042 - acc: 0.9185\n",
      "Epoch 19/150\n",
      "1885/1885 [==============================] - 0s 157us/step - loss: 0.2033 - acc: 0.9181\n",
      "Epoch 20/150\n",
      "1885/1885 [==============================] - 0s 188us/step - loss: 0.2023 - acc: 0.9182\n",
      "Epoch 21/150\n",
      "1885/1885 [==============================] - 0s 216us/step - loss: 0.2015 - acc: 0.9195\n",
      "Epoch 22/150\n",
      "1885/1885 [==============================] - 0s 180us/step - loss: 0.2009 - acc: 0.9192\n",
      "Epoch 23/150\n",
      "1885/1885 [==============================] - 0s 159us/step - loss: 0.1999 - acc: 0.9200\n",
      "Epoch 24/150\n",
      "1885/1885 [==============================] - 0s 158us/step - loss: 0.1990 - acc: 0.9203\n",
      "Epoch 25/150\n",
      "1885/1885 [==============================] - 0s 160us/step - loss: 0.1990 - acc: 0.9194\n",
      "Epoch 26/150\n",
      "1885/1885 [==============================] - 0s 158us/step - loss: 0.1989 - acc: 0.9199\n",
      "Epoch 27/150\n",
      "1885/1885 [==============================] - 0s 156us/step - loss: 0.1977 - acc: 0.9207\n",
      "Epoch 28/150\n",
      "1885/1885 [==============================] - 0s 205us/step - loss: 0.1981 - acc: 0.9197\n",
      "Epoch 29/150\n",
      "1885/1885 [==============================] - 0s 208us/step - loss: 0.1970 - acc: 0.9206\n",
      "Epoch 30/150\n",
      "1885/1885 [==============================] - 0s 171us/step - loss: 0.1969 - acc: 0.9210\n",
      "Epoch 31/150\n",
      "1885/1885 [==============================] - 0s 224us/step - loss: 0.1964 - acc: 0.9209\n",
      "Epoch 32/150\n",
      "1885/1885 [==============================] - 0s 183us/step - loss: 0.1960 - acc: 0.9207\n",
      "Epoch 33/150\n",
      "1885/1885 [==============================] - 0s 160us/step - loss: 0.1954 - acc: 0.9213\n",
      "Epoch 34/150\n",
      "1885/1885 [==============================] - 0s 241us/step - loss: 0.1948 - acc: 0.9223\n",
      "Epoch 35/150\n",
      "1885/1885 [==============================] - 0s 182us/step - loss: 0.1948 - acc: 0.9216\n",
      "Epoch 36/150\n",
      "1885/1885 [==============================] - 0s 159us/step - loss: 0.1938 - acc: 0.9216\n",
      "Epoch 37/150\n",
      "1885/1885 [==============================] - 0s 160us/step - loss: 0.1933 - acc: 0.9225\n",
      "Epoch 38/150\n",
      "1885/1885 [==============================] - 0s 166us/step - loss: 0.1928 - acc: 0.9225 0s - loss: 0.1927 - acc: 0.\n",
      "Epoch 39/150\n",
      "1885/1885 [==============================] - 0s 160us/step - loss: 0.1926 - acc: 0.9225\n",
      "Epoch 40/150\n",
      "1885/1885 [==============================] - 0s 159us/step - loss: 0.1918 - acc: 0.9232\n",
      "Epoch 41/150\n",
      "1885/1885 [==============================] - 0s 175us/step - loss: 0.1914 - acc: 0.9224\n",
      "Epoch 42/150\n",
      "1885/1885 [==============================] - 0s 157us/step - loss: 0.1914 - acc: 0.9229\n",
      "Epoch 43/150\n",
      "1885/1885 [==============================] - 0s 154us/step - loss: 0.1905 - acc: 0.9224\n",
      "Epoch 44/150\n",
      "1885/1885 [==============================] - 0s 160us/step - loss: 0.1904 - acc: 0.9223\n",
      "Epoch 45/150\n",
      "1885/1885 [==============================] - 0s 166us/step - loss: 0.1896 - acc: 0.9235\n",
      "Epoch 46/150\n",
      "1885/1885 [==============================] - 0s 159us/step - loss: 0.1898 - acc: 0.9232\n",
      "Epoch 47/150\n",
      "1885/1885 [==============================] - 0s 166us/step - loss: 0.1892 - acc: 0.9234\n",
      "Epoch 48/150\n",
      "1885/1885 [==============================] - 0s 159us/step - loss: 0.1888 - acc: 0.9234\n",
      "Epoch 49/150\n",
      "1885/1885 [==============================] - 0s 158us/step - loss: 0.1884 - acc: 0.9231\n",
      "Epoch 50/150\n",
      "1885/1885 [==============================] - 0s 157us/step - loss: 0.1878 - acc: 0.9234\n",
      "Epoch 51/150\n",
      "1885/1885 [==============================] - 0s 156us/step - loss: 0.1873 - acc: 0.9231\n",
      "Epoch 52/150\n",
      "1885/1885 [==============================] - 0s 158us/step - loss: 0.1869 - acc: 0.9244\n",
      "Epoch 53/150\n",
      "1885/1885 [==============================] - 0s 160us/step - loss: 0.1864 - acc: 0.9237\n",
      "Epoch 54/150\n",
      "1885/1885 [==============================] - 0s 158us/step - loss: 0.1864 - acc: 0.9241\n",
      "Epoch 55/150\n",
      "1885/1885 [==============================] - 0s 158us/step - loss: 0.1856 - acc: 0.9247\n",
      "Epoch 56/150\n",
      "1885/1885 [==============================] - 0s 159us/step - loss: 0.1852 - acc: 0.9244\n",
      "Epoch 57/150\n",
      "1885/1885 [==============================] - 0s 163us/step - loss: 0.1851 - acc: 0.9247\n",
      "Epoch 58/150\n",
      "1885/1885 [==============================] - 0s 157us/step - loss: 0.1844 - acc: 0.9262\n",
      "Epoch 59/150\n",
      "1885/1885 [==============================] - 0s 157us/step - loss: 0.1845 - acc: 0.9244\n",
      "Epoch 60/150\n",
      "1885/1885 [==============================] - 0s 160us/step - loss: 0.1840 - acc: 0.9249\n",
      "Epoch 61/150\n",
      "1885/1885 [==============================] - 0s 155us/step - loss: 0.1837 - acc: 0.9244\n",
      "Epoch 62/150\n",
      "1885/1885 [==============================] - 0s 152us/step - loss: 0.1841 - acc: 0.9244\n",
      "Epoch 63/150\n",
      "1885/1885 [==============================] - 0s 157us/step - loss: 0.1826 - acc: 0.9249\n",
      "Epoch 64/150\n",
      "1885/1885 [==============================] - 0s 158us/step - loss: 0.1830 - acc: 0.9254\n",
      "Epoch 65/150\n",
      "1885/1885 [==============================] - 0s 158us/step - loss: 0.1825 - acc: 0.9244\n",
      "Epoch 66/150\n",
      "1885/1885 [==============================] - 0s 158us/step - loss: 0.1825 - acc: 0.9254\n",
      "Epoch 67/150\n",
      "1885/1885 [==============================] - 0s 160us/step - loss: 0.1827 - acc: 0.9244\n",
      "Epoch 68/150\n",
      "1885/1885 [==============================] - 0s 160us/step - loss: 0.1818 - acc: 0.9254\n",
      "Epoch 69/150\n",
      "1885/1885 [==============================] - 0s 191us/step - loss: 0.1812 - acc: 0.9257\n",
      "Epoch 70/150\n",
      "1885/1885 [==============================] - 0s 179us/step - loss: 0.1817 - acc: 0.9245\n",
      "Epoch 71/150\n",
      "1885/1885 [==============================] - 0s 174us/step - loss: 0.1811 - acc: 0.9255\n",
      "Epoch 72/150\n",
      "1885/1885 [==============================] - 0s 264us/step - loss: 0.1809 - acc: 0.9253\n",
      "Epoch 73/150\n",
      "1885/1885 [==============================] - 1s 318us/step - loss: 0.1805 - acc: 0.9245\n",
      "Epoch 74/150\n",
      "1885/1885 [==============================] - 0s 157us/step - loss: 0.1813 - acc: 0.9241\n",
      "Epoch 75/150\n",
      "1885/1885 [==============================] - 0s 182us/step - loss: 0.1810 - acc: 0.9244\n",
      "Epoch 76/150\n",
      "1885/1885 [==============================] - 0s 213us/step - loss: 0.1798 - acc: 0.9247\n",
      "Epoch 77/150\n",
      "1885/1885 [==============================] - 0s 227us/step - loss: 0.1799 - acc: 0.9255\n",
      "Epoch 78/150\n",
      "1885/1885 [==============================] - 1s 267us/step - loss: 0.1793 - acc: 0.9262\n",
      "Epoch 79/150\n",
      "1885/1885 [==============================] - 1s 284us/step - loss: 0.1798 - acc: 0.9259\n",
      "Epoch 80/150\n",
      "1885/1885 [==============================] - 0s 173us/step - loss: 0.1799 - acc: 0.9252\n",
      "Epoch 81/150\n"
     ]
    },
    {
     "name": "stdout",
     "output_type": "stream",
     "text": [
      "1885/1885 [==============================] - 0s 163us/step - loss: 0.1793 - acc: 0.9252\n",
      "Epoch 82/150\n",
      "1885/1885 [==============================] - 0s 208us/step - loss: 0.1790 - acc: 0.9260\n",
      "Epoch 83/150\n",
      "1885/1885 [==============================] - 0s 185us/step - loss: 0.1787 - acc: 0.9261\n",
      "Epoch 84/150\n",
      "1885/1885 [==============================] - 0s 183us/step - loss: 0.1789 - acc: 0.9250\n",
      "Epoch 85/150\n",
      "1885/1885 [==============================] - 0s 223us/step - loss: 0.1787 - acc: 0.9253\n",
      "Epoch 86/150\n",
      "1885/1885 [==============================] - 0s 214us/step - loss: 0.1787 - acc: 0.9260\n",
      "Epoch 87/150\n",
      "1885/1885 [==============================] - 0s 181us/step - loss: 0.1776 - acc: 0.9247\n",
      "Epoch 88/150\n",
      "1885/1885 [==============================] - 0s 208us/step - loss: 0.1777 - acc: 0.9269\n",
      "Epoch 89/150\n",
      "1885/1885 [==============================] - 0s 215us/step - loss: 0.1784 - acc: 0.9260\n",
      "Epoch 90/150\n",
      "1885/1885 [==============================] - 0s 192us/step - loss: 0.1772 - acc: 0.9270\n",
      "Epoch 91/150\n",
      "1885/1885 [==============================] - 0s 195us/step - loss: 0.1769 - acc: 0.9267\n",
      "Epoch 92/150\n",
      "1885/1885 [==============================] - 0s 216us/step - loss: 0.1776 - acc: 0.9262\n",
      "Epoch 93/150\n",
      "1885/1885 [==============================] - 0s 183us/step - loss: 0.1771 - acc: 0.9247\n",
      "Epoch 94/150\n",
      "1885/1885 [==============================] - 0s 183us/step - loss: 0.1764 - acc: 0.9269\n",
      "Epoch 95/150\n",
      "1885/1885 [==============================] - 0s 166us/step - loss: 0.1768 - acc: 0.9260\n",
      "Epoch 96/150\n",
      "1885/1885 [==============================] - 0s 144us/step - loss: 0.1762 - acc: 0.9257\n",
      "Epoch 97/150\n",
      "1885/1885 [==============================] - 0s 143us/step - loss: 0.1762 - acc: 0.9266\n",
      "Epoch 98/150\n",
      "1885/1885 [==============================] - 0s 144us/step - loss: 0.1757 - acc: 0.9270\n",
      "Epoch 99/150\n",
      "1885/1885 [==============================] - 0s 149us/step - loss: 0.1765 - acc: 0.9270\n",
      "Epoch 100/150\n",
      "1885/1885 [==============================] - 0s 144us/step - loss: 0.1761 - acc: 0.9256\n",
      "Epoch 101/150\n",
      "1885/1885 [==============================] - 0s 145us/step - loss: 0.1757 - acc: 0.9268\n",
      "Epoch 102/150\n",
      "1885/1885 [==============================] - 0s 146us/step - loss: 0.1761 - acc: 0.9259\n",
      "Epoch 103/150\n",
      "1885/1885 [==============================] - 0s 146us/step - loss: 0.1754 - acc: 0.9264\n",
      "Epoch 104/150\n",
      "1885/1885 [==============================] - 0s 143us/step - loss: 0.1752 - acc: 0.9264\n",
      "Epoch 105/150\n",
      "1885/1885 [==============================] - 0s 144us/step - loss: 0.1753 - acc: 0.9275\n",
      "Epoch 106/150\n",
      "1885/1885 [==============================] - 0s 144us/step - loss: 0.1750 - acc: 0.9265\n",
      "Epoch 107/150\n",
      "1885/1885 [==============================] - 0s 144us/step - loss: 0.1752 - acc: 0.9274\n",
      "Epoch 108/150\n",
      "1885/1885 [==============================] - 0s 142us/step - loss: 0.1750 - acc: 0.9264\n",
      "Epoch 109/150\n",
      "1885/1885 [==============================] - 0s 144us/step - loss: 0.1741 - acc: 0.9264\n",
      "Epoch 110/150\n",
      "1885/1885 [==============================] - 0s 141us/step - loss: 0.1738 - acc: 0.9283\n",
      "Epoch 111/150\n",
      "1885/1885 [==============================] - 0s 142us/step - loss: 0.1737 - acc: 0.9285\n",
      "Epoch 112/150\n",
      "1885/1885 [==============================] - 0s 144us/step - loss: 0.1748 - acc: 0.9271\n",
      "Epoch 113/150\n",
      "1885/1885 [==============================] - 0s 145us/step - loss: 0.1746 - acc: 0.9269\n",
      "Epoch 114/150\n",
      "1885/1885 [==============================] - 0s 139us/step - loss: 0.1741 - acc: 0.9270\n",
      "Epoch 115/150\n",
      "1885/1885 [==============================] - 0s 141us/step - loss: 0.1741 - acc: 0.9275\n",
      "Epoch 116/150\n",
      "1885/1885 [==============================] - 0s 143us/step - loss: 0.1735 - acc: 0.9270\n",
      "Epoch 117/150\n",
      "1885/1885 [==============================] - 0s 148us/step - loss: 0.1735 - acc: 0.9283\n",
      "Epoch 118/150\n",
      "1885/1885 [==============================] - 0s 144us/step - loss: 0.1734 - acc: 0.9278\n",
      "Epoch 119/150\n",
      "1885/1885 [==============================] - 0s 143us/step - loss: 0.1730 - acc: 0.9277\n",
      "Epoch 120/150\n",
      "1885/1885 [==============================] - 0s 143us/step - loss: 0.1734 - acc: 0.9276\n",
      "Epoch 121/150\n",
      "1885/1885 [==============================] - 0s 143us/step - loss: 0.1734 - acc: 0.9282\n",
      "Epoch 122/150\n",
      "1885/1885 [==============================] - 0s 140us/step - loss: 0.1724 - acc: 0.9278\n",
      "Epoch 123/150\n",
      "1885/1885 [==============================] - 0s 143us/step - loss: 0.1730 - acc: 0.9279\n",
      "Epoch 124/150\n",
      "1885/1885 [==============================] - 0s 145us/step - loss: 0.1723 - acc: 0.9286\n",
      "Epoch 125/150\n",
      "1885/1885 [==============================] - 0s 143us/step - loss: 0.1734 - acc: 0.9288\n",
      "Epoch 126/150\n",
      "1885/1885 [==============================] - 0s 145us/step - loss: 0.1725 - acc: 0.9272\n",
      "Epoch 127/150\n",
      "1885/1885 [==============================] - 0s 143us/step - loss: 0.1730 - acc: 0.9272\n",
      "Epoch 128/150\n",
      "1885/1885 [==============================] - 0s 145us/step - loss: 0.1725 - acc: 0.9275\n",
      "Epoch 129/150\n",
      "1885/1885 [==============================] - 0s 145us/step - loss: 0.1728 - acc: 0.9281\n",
      "Epoch 130/150\n",
      "1885/1885 [==============================] - 0s 143us/step - loss: 0.1723 - acc: 0.9288\n",
      "Epoch 131/150\n",
      "1885/1885 [==============================] - 0s 144us/step - loss: 0.1723 - acc: 0.9276\n",
      "Epoch 132/150\n",
      "1885/1885 [==============================] - 0s 143us/step - loss: 0.1709 - acc: 0.9284\n",
      "Epoch 133/150\n",
      "1885/1885 [==============================] - 0s 143us/step - loss: 0.1717 - acc: 0.9285\n",
      "Epoch 134/150\n",
      "1885/1885 [==============================] - 0s 144us/step - loss: 0.1721 - acc: 0.9275\n",
      "Epoch 135/150\n",
      "1885/1885 [==============================] - 0s 145us/step - loss: 0.1721 - acc: 0.9294\n",
      "Epoch 136/150\n",
      "1885/1885 [==============================] - 0s 141us/step - loss: 0.1716 - acc: 0.9288\n",
      "Epoch 137/150\n",
      "1885/1885 [==============================] - 0s 141us/step - loss: 0.1717 - acc: 0.9277\n",
      "Epoch 138/150\n",
      "1885/1885 [==============================] - 0s 142us/step - loss: 0.1709 - acc: 0.9280\n",
      "Epoch 139/150\n",
      "1885/1885 [==============================] - 0s 143us/step - loss: 0.1716 - acc: 0.9285\n",
      "Epoch 140/150\n",
      "1885/1885 [==============================] - 0s 144us/step - loss: 0.1713 - acc: 0.9282\n",
      "Epoch 141/150\n",
      "1885/1885 [==============================] - 0s 142us/step - loss: 0.1716 - acc: 0.9285\n",
      "Epoch 142/150\n",
      "1885/1885 [==============================] - 0s 143us/step - loss: 0.1715 - acc: 0.9281\n",
      "Epoch 143/150\n",
      "1885/1885 [==============================] - 0s 142us/step - loss: 0.1716 - acc: 0.9291\n",
      "Epoch 144/150\n",
      "1885/1885 [==============================] - 0s 144us/step - loss: 0.1713 - acc: 0.9285\n",
      "Epoch 145/150\n",
      "1885/1885 [==============================] - 0s 143us/step - loss: 0.1703 - acc: 0.9282\n",
      "Epoch 146/150\n",
      "1885/1885 [==============================] - 0s 143us/step - loss: 0.1703 - acc: 0.9287\n",
      "Epoch 147/150\n",
      "1885/1885 [==============================] - 0s 140us/step - loss: 0.1709 - acc: 0.9285\n",
      "Epoch 148/150\n",
      "1885/1885 [==============================] - 0s 137us/step - loss: 0.1707 - acc: 0.9292\n",
      "Epoch 149/150\n",
      "1885/1885 [==============================] - 0s 143us/step - loss: 0.1701 - acc: 0.9291\n",
      "Epoch 150/150\n",
      "1885/1885 [==============================] - 0s 145us/step - loss: 0.1701 - acc: 0.9284\n"
     ]
    },
    {
     "data": {
      "text/plain": [
       "<keras.callbacks.History at 0x1025997b8>"
      ]
     },
     "execution_count": 87,
     "metadata": {},
     "output_type": "execute_result"
    }
   ],
   "source": [
    "# Fit the model\n",
    "model.fit(X_values, y_values, epochs=150, batch_size=10)"
   ]
  },
  {
   "cell_type": "code",
   "execution_count": 88,
   "metadata": {},
   "outputs": [
    {
     "name": "stdout",
     "output_type": "stream",
     "text": [
      "1885/1885 [==============================] - 0s 59us/step\n",
      "\n",
      "acc: 93.06%\n"
     ]
    }
   ],
   "source": [
    "# evaluate the model\n",
    "scores = model.evaluate(X_values, y_values)\n",
    "print(\"\\n%s: %.2f%%\" % (model.metrics_names[1], scores[1]*100))"
   ]
  },
  {
   "cell_type": "code",
   "execution_count": null,
   "metadata": {
    "collapsed": true
   },
   "outputs": [],
   "source": []
  }
 ],
 "metadata": {
  "kernelspec": {
   "display_name": "Python 3",
   "language": "python",
   "name": "python3"
  },
  "language_info": {
   "codemirror_mode": {
    "name": "ipython",
    "version": 3
   },
   "file_extension": ".py",
   "mimetype": "text/x-python",
   "name": "python",
   "nbconvert_exporter": "python",
   "pygments_lexer": "ipython3",
   "version": "3.6.3"
  }
 },
 "nbformat": 4,
 "nbformat_minor": 2
}
